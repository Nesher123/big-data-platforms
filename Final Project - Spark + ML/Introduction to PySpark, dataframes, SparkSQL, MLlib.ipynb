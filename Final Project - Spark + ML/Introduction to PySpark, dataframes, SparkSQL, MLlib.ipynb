{
 "cells": [
  {
   "cell_type": "code",
   "execution_count": null,
   "metadata": {},
   "outputs": [],
   "source": [
    "#Library Importing\n",
    "from pyspark.sql import SparkSession\n",
    "from pyspark.context import SparkContext\n",
    "from pyspark.sql.functions import *\n",
    "from pyspark.sql.types import *\n",
    "from datetime import date, timedelta, datetime\n",
    "import time"
   ]
  },
  {
   "cell_type": "markdown",
   "metadata": {},
   "source": [
    "# INITIALIZING SPARKSESSION"
   ]
  },
  {
   "cell_type": "code",
   "execution_count": null,
   "metadata": {},
   "outputs": [],
   "source": [
    "#Initialization of a Spark Session\n",
    "sc = SparkSession.builder.appName(\"PySparkExample\")\\\n",
    "    .config (\"spark.sql.shuffle.partitions\", \"50\") \\\n",
    "    .config(\"spark.driver.maxResultSize\",\"5g\") \\\n",
    "    .config (\"spark.sql.execution.arrow.enabled\", \"false\")\\\n",
    "    .getOrCreate()"
   ]
  },
  {
   "cell_type": "markdown",
   "metadata": {},
   "source": [
    "# CREATING DATAFRAMES"
   ]
  },
  {
   "cell_type": "code",
   "execution_count": null,
   "metadata": {},
   "outputs": [],
   "source": [
    "#Read from json, parquet, txt, csv formatted files.\n",
    "#Creates a spark data frame called as raw_data.\n",
    "%time\n",
    "\n",
    "#JSON\n",
    "dataframe = sc.read.json('nyt2.json')\n",
    "\n",
    "#TXT FILES\n",
    "# dataframe_txt = sc.read.text('text_data.txt')\n",
    "\n",
    "#CSV FILES\n",
    "# dataframe_csv = sc.read.csv('csv_data.csv')\n",
    "\n",
    "#PARQUET FILES\n",
    "# dataframe_parquet = sc.read.load('parquet_data.parquet')\n"
   ]
  },
  {
   "cell_type": "code",
   "execution_count": null,
   "metadata": {},
   "outputs": [],
   "source": [
    "# dataframe = sc.read.json('nyt2.json')"
   ]
  },
  {
   "cell_type": "code",
   "execution_count": null,
   "metadata": {},
   "outputs": [],
   "source": [
    "dataframe.show(10)"
   ]
  },
  {
   "cell_type": "markdown",
   "metadata": {},
   "source": [
    "# DUPLICATE VALUES"
   ]
  },
  {
   "cell_type": "code",
   "execution_count": null,
   "metadata": {},
   "outputs": [],
   "source": [
    "dataframe_dropdup = dataframe.dropDuplicates()"
   ]
  },
  {
   "cell_type": "code",
   "execution_count": null,
   "metadata": {},
   "outputs": [],
   "source": [
    "dataframe_dropdup.show(10)"
   ]
  },
  {
   "cell_type": "code",
   "execution_count": null,
   "metadata": {},
   "outputs": [],
   "source": [
    "dataframe.columns"
   ]
  },
  {
   "cell_type": "markdown",
   "metadata": {},
   "source": [
    "# QUERIES"
   ]
  },
  {
   "cell_type": "markdown",
   "metadata": {},
   "source": [
    "# Select"
   ]
  },
  {
   "cell_type": "code",
   "execution_count": null,
   "metadata": {},
   "outputs": [],
   "source": [
    "# Select Operation\n",
    "dataframe.select(\"author\").show(10) #Show all entries in title column"
   ]
  },
  {
   "cell_type": "code",
   "execution_count": null,
   "metadata": {},
   "outputs": [],
   "source": [
    "dataframe.select(\"author\", \"title\", \"rank\", \"price\").show(10)  #Show all entries in title, author, rank, price columns"
   ]
  },
  {
   "cell_type": "markdown",
   "metadata": {},
   "source": [
    "# When"
   ]
  },
  {
   "cell_type": "code",
   "execution_count": null,
   "metadata": {},
   "outputs": [],
   "source": [
    "# Show title and assign 0 or 1 depending on title\n",
    "dataframe.select(\"title\", when(dataframe.title != 'ODD HOURS', 1).otherwise(0)).show(10)"
   ]
  },
  {
   "cell_type": "code",
   "execution_count": null,
   "metadata": {},
   "outputs": [],
   "source": [
    "# Show rows with specified authors if in the given options\n",
    "dataframe [dataframe.author.isin(\"John Sandford\",\"Emily Giffin\")].show(5)"
   ]
  },
  {
   "cell_type": "markdown",
   "metadata": {},
   "source": [
    "# Like"
   ]
  },
  {
   "cell_type": "code",
   "execution_count": null,
   "metadata": {},
   "outputs": [],
   "source": [
    "# Show author and title is TRUE if title has \" THE \" word in titles\n",
    "dataframe.select(\"author\", \"title\", dataframe.title.like(\"% THE %\")).show(15)"
   ]
  },
  {
   "cell_type": "markdown",
   "metadata": {},
   "source": [
    "# StartsWith - EndsWith"
   ]
  },
  {
   "cell_type": "code",
   "execution_count": null,
   "metadata": {},
   "outputs": [],
   "source": [
    "dataframe.select(\"author\", \"title\", dataframe.title.startswith(\"THE\")).show(5)\n",
    "dataframe.select(\"author\", \"title\", dataframe.title.endswith(\"NT\")).show(5)"
   ]
  },
  {
   "cell_type": "markdown",
   "metadata": {},
   "source": [
    "# Substring"
   ]
  },
  {
   "cell_type": "code",
   "execution_count": null,
   "metadata": {},
   "outputs": [],
   "source": [
    "dataframe.select(dataframe.author.substr(1, 6).alias(\"title\")).show()"
   ]
  },
  {
   "cell_type": "code",
   "execution_count": null,
   "metadata": {},
   "outputs": [],
   "source": [
    "dataframe.select(dataframe.author.substr(1, 3).alias(\"title\")).show(5)\n",
    "dataframe.select(dataframe.author.substr(3, 6).alias(\"title\")).show(5)\n",
    "dataframe.select(dataframe.author.substr(1, 6).alias(\"title\")).show(5)"
   ]
  },
  {
   "cell_type": "markdown",
   "metadata": {},
   "source": [
    "# INSPECT DATA"
   ]
  },
  {
   "cell_type": "code",
   "execution_count": null,
   "metadata": {},
   "outputs": [],
   "source": [
    "# Returns dataframe column names and data types\n",
    "dataframe.dtypes"
   ]
  },
  {
   "cell_type": "code",
   "execution_count": null,
   "metadata": {},
   "outputs": [],
   "source": [
    "# Displays the content of dataframe\n",
    "dataframe.show()"
   ]
  },
  {
   "cell_type": "code",
   "execution_count": null,
   "metadata": {},
   "outputs": [],
   "source": [
    "# Return first n rows\n",
    "dataframe.head(3)"
   ]
  },
  {
   "cell_type": "code",
   "execution_count": null,
   "metadata": {},
   "outputs": [],
   "source": [
    "# Returns first row\n",
    "dataframe.first()"
   ]
  },
  {
   "cell_type": "code",
   "execution_count": null,
   "metadata": {},
   "outputs": [],
   "source": [
    "# Return first n rows\n",
    "dataframe.take(5)"
   ]
  },
  {
   "cell_type": "code",
   "execution_count": null,
   "metadata": {},
   "outputs": [],
   "source": [
    "# Computes summary statistics\n",
    "dataframe.describe().show()"
   ]
  },
  {
   "cell_type": "code",
   "execution_count": null,
   "metadata": {},
   "outputs": [],
   "source": [
    "# Returns columns of dataframe\n",
    "dataframe.columns"
   ]
  },
  {
   "cell_type": "code",
   "execution_count": null,
   "metadata": {},
   "outputs": [],
   "source": [
    "# Counts the number of rows in dataframe\n",
    "dataframe.count()"
   ]
  },
  {
   "cell_type": "code",
   "execution_count": null,
   "metadata": {},
   "outputs": [],
   "source": [
    "# Counts the number of distinct rows in dataframe\n",
    "dataframe.distinct().count()"
   ]
  },
  {
   "cell_type": "code",
   "execution_count": null,
   "metadata": {},
   "outputs": [],
   "source": [
    "# Prints plans including physical and logical\n",
    "dataframe.explain(3)"
   ]
  },
  {
   "cell_type": "code",
   "execution_count": null,
   "metadata": {},
   "outputs": [],
   "source": [
    "from pyspark.sql.functions import corr\n",
    "dataframe.select(corr(\"author\",\"title\")).show()"
   ]
  },
  {
   "cell_type": "markdown",
   "metadata": {},
   "source": [
    "# ADD, UPDATE & REMOVE COLUMNS"
   ]
  },
  {
   "cell_type": "code",
   "execution_count": null,
   "metadata": {},
   "outputs": [],
   "source": [
    "# Lit() is required while we are creating columns with exact values.\n",
    "\n",
    "dataframe = dataframe.withColumn('new_column', lit('This is a new column'))\n",
    "dataframe.show(5)"
   ]
  },
  {
   "cell_type": "code",
   "execution_count": null,
   "metadata": {},
   "outputs": [],
   "source": [
    "# Update column 'amazon_product_url' with 'URL'\n",
    "dataframe = dataframe.withColumnRenamed('amazon_product_url', 'URL')\n",
    "dataframe.show(5)"
   ]
  },
  {
   "cell_type": "code",
   "execution_count": null,
   "metadata": {},
   "outputs": [],
   "source": [
    "dataframe_remove = dataframe.drop(\"publisher\", \"published_date\").show(5)\n",
    "dataframe_remove2 = dataframe.drop(dataframe.publisher).drop(dataframe.published_date).show(5)"
   ]
  },
  {
   "cell_type": "markdown",
   "metadata": {},
   "source": [
    "# GROUPBY"
   ]
  },
  {
   "cell_type": "code",
   "execution_count": null,
   "metadata": {},
   "outputs": [],
   "source": [
    "# Group by author, count the books of the authors in the groups\n",
    "dataframe.groupBy(\"rank_last_week\").count().show(10)"
   ]
  },
  {
   "cell_type": "markdown",
   "metadata": {},
   "source": [
    "# FILTERING"
   ]
  },
  {
   "cell_type": "code",
   "execution_count": null,
   "metadata": {},
   "outputs": [],
   "source": [
    "# Filtering entries of title\n",
    "# Only keeps records having value 'THE HOST'\n",
    "dataframe.filter(dataframe[\"title\"] == 'THE HOST').show(5)"
   ]
  },
  {
   "cell_type": "markdown",
   "metadata": {},
   "source": [
    "# MISSING AND REPLACING VALUES"
   ]
  },
  {
   "cell_type": "code",
   "execution_count": null,
   "metadata": {},
   "outputs": [],
   "source": [
    "# Replace null values\n",
    "dataframe.na.fill(50).show(5)"
   ]
  },
  {
   "cell_type": "code",
   "execution_count": null,
   "metadata": {},
   "outputs": [],
   "source": [
    "# Return new dataframe restricting rows with null values\n",
    "dataframe.na.drop().show(5)"
   ]
  },
  {
   "cell_type": "code",
   "execution_count": null,
   "metadata": {},
   "outputs": [],
   "source": [
    "# Return new dataframe replacing one value with another\n",
    "dataframe.na.replace(15, 25).show(5)"
   ]
  },
  {
   "cell_type": "code",
   "execution_count": null,
   "metadata": {},
   "outputs": [],
   "source": [
    "dataframe.na.replace(['_id', 'Unique_ID'], ['amazon_product_url', 'URL'], 'name').show(5)"
   ]
  },
  {
   "cell_type": "markdown",
   "metadata": {},
   "source": [
    "# REPARTITIONING"
   ]
  },
  {
   "cell_type": "code",
   "execution_count": null,
   "metadata": {},
   "outputs": [],
   "source": [
    "# Dataframe with 10 partitions\n",
    "\n",
    "dataframe.repartition(10).rdd.getNumPartitions()"
   ]
  },
  {
   "cell_type": "code",
   "execution_count": null,
   "metadata": {},
   "outputs": [],
   "source": [
    "# Dataframe with 1 partition\n",
    "\n",
    "dataframe.coalesce(1).rdd.getNumPartitions()"
   ]
  },
  {
   "cell_type": "markdown",
   "metadata": {},
   "source": [
    "# RUNNING SQL QUERIES PROGRAMMATICALLY"
   ]
  },
  {
   "cell_type": "markdown",
   "metadata": {},
   "source": [
    "# Registering DataFrames "
   ]
  },
  {
   "cell_type": "code",
   "execution_count": null,
   "metadata": {},
   "outputs": [],
   "source": [
    "dataframe.createGlobalTempView(\"nyt2\")"
   ]
  },
  {
   "cell_type": "code",
   "execution_count": null,
   "metadata": {},
   "outputs": [],
   "source": [
    "dataframe.createTempView(\"bestsellers\")"
   ]
  },
  {
   "cell_type": "code",
   "execution_count": null,
   "metadata": {},
   "outputs": [],
   "source": [
    "dataframe.createOrReplaceTempView(\"nyt2\")"
   ]
  },
  {
   "cell_type": "markdown",
   "metadata": {},
   "source": [
    "# Registering Tables"
   ]
  },
  {
   "cell_type": "code",
   "execution_count": null,
   "metadata": {},
   "outputs": [],
   "source": [
    "# Registering a table\n",
    "dataframe.registerTempTable(\"df\")"
   ]
  },
  {
   "cell_type": "code",
   "execution_count": null,
   "metadata": {},
   "outputs": [],
   "source": [
    "sc.sql(\"select * from df\").show(3)"
   ]
  },
  {
   "cell_type": "code",
   "execution_count": null,
   "metadata": {},
   "outputs": [],
   "source": [
    "sc.sql(\"select \\\n",
    "               CASE WHEN description LIKE '%love%' THEN 'Love_Theme' \\\n",
    "               WHEN description LIKE '%hate%' THEN 'Hate_Theme' \\\n",
    "               WHEN description LIKE '%happy%' THEN 'Happiness_Theme' \\\n",
    "               WHEN description LIKE '%anger%' THEN 'Anger_Theme' \\\n",
    "               WHEN description LIKE '%horror%' THEN 'Horror_Theme' \\\n",
    "               WHEN description LIKE '%death%' THEN 'Criminal_Theme' \\\n",
    "               WHEN description LIKE '%detective%' THEN 'Mystery_Theme' \\\n",
    "               ELSE 'Other_Themes' \\\n",
    "               END Themes \\\n",
    "       from df\").groupBy('Themes').count().show()"
   ]
  },
  {
   "cell_type": "markdown",
   "metadata": {},
   "source": [
    "# OUTPUT\n",
    "\n",
    "# Data Structures"
   ]
  },
  {
   "cell_type": "code",
   "execution_count": null,
   "metadata": {},
   "outputs": [],
   "source": [
    "# Converting dataframe into an RDD\n",
    "rdd_convert = dataframe.rdd\n"
   ]
  },
  {
   "cell_type": "code",
   "execution_count": null,
   "metadata": {},
   "outputs": [],
   "source": [
    "# Converting dataframe into a RDD of string\n",
    "dataframe.toJSON().first()\n"
   ]
  },
  {
   "cell_type": "markdown",
   "metadata": {},
   "source": [
    "# Converting to Pandas"
   ]
  },
  {
   "cell_type": "code",
   "execution_count": 46,
   "metadata": {},
   "outputs": [
    {
     "data": {
      "text/html": [
       "<div>\n",
       "<style scoped>\n",
       "    .dataframe tbody tr th:only-of-type {\n",
       "        vertical-align: middle;\n",
       "    }\n",
       "\n",
       "    .dataframe tbody tr th {\n",
       "        vertical-align: top;\n",
       "    }\n",
       "\n",
       "    .dataframe thead th {\n",
       "        text-align: right;\n",
       "    }\n",
       "</style>\n",
       "<table border=\"1\" class=\"dataframe\">\n",
       "  <thead>\n",
       "    <tr style=\"text-align: right;\">\n",
       "      <th></th>\n",
       "      <th>_id</th>\n",
       "      <th>URL</th>\n",
       "      <th>author</th>\n",
       "      <th>bestsellers_date</th>\n",
       "      <th>description</th>\n",
       "      <th>price</th>\n",
       "      <th>published_date</th>\n",
       "      <th>publisher</th>\n",
       "      <th>rank</th>\n",
       "      <th>rank_last_week</th>\n",
       "      <th>title</th>\n",
       "      <th>weeks_on_list</th>\n",
       "      <th>new_column</th>\n",
       "    </tr>\n",
       "  </thead>\n",
       "  <tbody>\n",
       "    <tr>\n",
       "      <th>0</th>\n",
       "      <td>(5b4aa4ead3089013507db18b,)</td>\n",
       "      <td>http://www.amazon.com/Odd-Hours-Dean-Koontz/dp...</td>\n",
       "      <td>Dean R Koontz</td>\n",
       "      <td>((1211587200000,),)</td>\n",
       "      <td>Odd Thomas, who can communicate with the dead,...</td>\n",
       "      <td>(None, 27)</td>\n",
       "      <td>((1212883200000,),)</td>\n",
       "      <td>Bantam</td>\n",
       "      <td>(1,)</td>\n",
       "      <td>(0,)</td>\n",
       "      <td>ODD HOURS</td>\n",
       "      <td>(1,)</td>\n",
       "      <td>This is a new column</td>\n",
       "    </tr>\n",
       "    <tr>\n",
       "      <th>1</th>\n",
       "      <td>(5b4aa4ead3089013507db18c,)</td>\n",
       "      <td>http://www.amazon.com/The-Host-Novel-Stephenie...</td>\n",
       "      <td>Stephenie Meyer</td>\n",
       "      <td>((1211587200000,),)</td>\n",
       "      <td>Aliens have taken control of the minds and bod...</td>\n",
       "      <td>(25.99, None)</td>\n",
       "      <td>((1212883200000,),)</td>\n",
       "      <td>Little, Brown</td>\n",
       "      <td>(2,)</td>\n",
       "      <td>(1,)</td>\n",
       "      <td>THE HOST</td>\n",
       "      <td>(3,)</td>\n",
       "      <td>This is a new column</td>\n",
       "    </tr>\n",
       "    <tr>\n",
       "      <th>2</th>\n",
       "      <td>(5b4aa4ead3089013507db18d,)</td>\n",
       "      <td>http://www.amazon.com/Love-Youre-With-Emily-Gi...</td>\n",
       "      <td>Emily Giffin</td>\n",
       "      <td>((1211587200000,),)</td>\n",
       "      <td>A woman's happy marriage is shaken when she en...</td>\n",
       "      <td>(24.95, None)</td>\n",
       "      <td>((1212883200000,),)</td>\n",
       "      <td>St. Martin's</td>\n",
       "      <td>(3,)</td>\n",
       "      <td>(2,)</td>\n",
       "      <td>LOVE THE ONE YOU'RE WITH</td>\n",
       "      <td>(2,)</td>\n",
       "      <td>This is a new column</td>\n",
       "    </tr>\n",
       "    <tr>\n",
       "      <th>3</th>\n",
       "      <td>(5b4aa4ead3089013507db18e,)</td>\n",
       "      <td>http://www.amazon.com/The-Front-Garano-Patrici...</td>\n",
       "      <td>Patricia Cornwell</td>\n",
       "      <td>((1211587200000,),)</td>\n",
       "      <td>A Massachusetts state investigator and his tea...</td>\n",
       "      <td>(22.95, None)</td>\n",
       "      <td>((1212883200000,),)</td>\n",
       "      <td>Putnam</td>\n",
       "      <td>(4,)</td>\n",
       "      <td>(0,)</td>\n",
       "      <td>THE FRONT</td>\n",
       "      <td>(1,)</td>\n",
       "      <td>This is a new column</td>\n",
       "    </tr>\n",
       "    <tr>\n",
       "      <th>4</th>\n",
       "      <td>(5b4aa4ead3089013507db18f,)</td>\n",
       "      <td>http://www.amazon.com/Snuff-Chuck-Palahniuk/dp...</td>\n",
       "      <td>Chuck Palahniuk</td>\n",
       "      <td>((1211587200000,),)</td>\n",
       "      <td>An aging porn queens aims to cap her career by...</td>\n",
       "      <td>(24.95, None)</td>\n",
       "      <td>((1212883200000,),)</td>\n",
       "      <td>Doubleday</td>\n",
       "      <td>(5,)</td>\n",
       "      <td>(0,)</td>\n",
       "      <td>SNUFF</td>\n",
       "      <td>(1,)</td>\n",
       "      <td>This is a new column</td>\n",
       "    </tr>\n",
       "    <tr>\n",
       "      <th>...</th>\n",
       "      <td>...</td>\n",
       "      <td>...</td>\n",
       "      <td>...</td>\n",
       "      <td>...</td>\n",
       "      <td>...</td>\n",
       "      <td>...</td>\n",
       "      <td>...</td>\n",
       "      <td>...</td>\n",
       "      <td>...</td>\n",
       "      <td>...</td>\n",
       "      <td>...</td>\n",
       "      <td>...</td>\n",
       "      <td>...</td>\n",
       "    </tr>\n",
       "    <tr>\n",
       "      <th>10190</th>\n",
       "      <td>(5b4aa4ead3089013507dd959,)</td>\n",
       "      <td>https://www.amazon.com/Clancy-Line-Sight-Jack-...</td>\n",
       "      <td>Mike Maden</td>\n",
       "      <td>((1530921600000,),)</td>\n",
       "      <td>Jack Ryan Jr. risks his life to protect a woma...</td>\n",
       "      <td>(None, 0)</td>\n",
       "      <td>((1532217600000,),)</td>\n",
       "      <td>Putnam</td>\n",
       "      <td>(11,)</td>\n",
       "      <td>(6,)</td>\n",
       "      <td>TOM CLANCY LINE OF SIGHT</td>\n",
       "      <td>(4,)</td>\n",
       "      <td>This is a new column</td>\n",
       "    </tr>\n",
       "    <tr>\n",
       "      <th>10191</th>\n",
       "      <td>(5b4aa4ead3089013507dd95a,)</td>\n",
       "      <td>https://www.amazon.com/Something-Water-Novel-C...</td>\n",
       "      <td>Catherine Steadman</td>\n",
       "      <td>((1530921600000,),)</td>\n",
       "      <td>A documentary filmmaker and an investment bank...</td>\n",
       "      <td>(None, 0)</td>\n",
       "      <td>((1532217600000,),)</td>\n",
       "      <td>Ballantine</td>\n",
       "      <td>(12,)</td>\n",
       "      <td>(11,)</td>\n",
       "      <td>SOMETHING IN THE WATER</td>\n",
       "      <td>(5,)</td>\n",
       "      <td>This is a new column</td>\n",
       "    </tr>\n",
       "    <tr>\n",
       "      <th>10192</th>\n",
       "      <td>(5b4aa4ead3089013507dd95b,)</td>\n",
       "      <td>https://www.amazon.com/Little-Fires-Everywhere...</td>\n",
       "      <td>Celeste Ng</td>\n",
       "      <td>((1530921600000,),)</td>\n",
       "      <td>An artist upends a quiet town outside Cleveland.</td>\n",
       "      <td>(None, 0)</td>\n",
       "      <td>((1532217600000,),)</td>\n",
       "      <td>Penguin Press</td>\n",
       "      <td>(13,)</td>\n",
       "      <td>(12,)</td>\n",
       "      <td>LITTLE FIRES EVERYWHERE</td>\n",
       "      <td>(41,)</td>\n",
       "      <td>This is a new column</td>\n",
       "    </tr>\n",
       "    <tr>\n",
       "      <th>10193</th>\n",
       "      <td>(5b4aa4ead3089013507dd95c,)</td>\n",
       "      <td>https://www.amazon.com/Shelter-Place-Nora-Robe...</td>\n",
       "      <td>Nora Roberts</td>\n",
       "      <td>((1530921600000,),)</td>\n",
       "      <td>Survivors of a mass shooting outside a mall in...</td>\n",
       "      <td>(None, 0)</td>\n",
       "      <td>((1532217600000,),)</td>\n",
       "      <td>St. Martin's</td>\n",
       "      <td>(14,)</td>\n",
       "      <td>(5,)</td>\n",
       "      <td>SHELTER IN PLACE</td>\n",
       "      <td>(6,)</td>\n",
       "      <td>This is a new column</td>\n",
       "    </tr>\n",
       "    <tr>\n",
       "      <th>10194</th>\n",
       "      <td>(5b4aa4ead3089013507dd95d,)</td>\n",
       "      <td>https://www.amazon.com/Last-Time-Lied-Novel/dp...</td>\n",
       "      <td>Riley Sager</td>\n",
       "      <td>((1530921600000,),)</td>\n",
       "      <td>A painter is in danger when she returns to the...</td>\n",
       "      <td>(None, 0)</td>\n",
       "      <td>((1532217600000,),)</td>\n",
       "      <td>Dutton</td>\n",
       "      <td>(15,)</td>\n",
       "      <td>(0,)</td>\n",
       "      <td>THE LAST TIME I LIED</td>\n",
       "      <td>(1,)</td>\n",
       "      <td>This is a new column</td>\n",
       "    </tr>\n",
       "  </tbody>\n",
       "</table>\n",
       "<p>10195 rows × 13 columns</p>\n",
       "</div>"
      ],
      "text/plain": [
       "                               _id  \\\n",
       "0      (5b4aa4ead3089013507db18b,)   \n",
       "1      (5b4aa4ead3089013507db18c,)   \n",
       "2      (5b4aa4ead3089013507db18d,)   \n",
       "3      (5b4aa4ead3089013507db18e,)   \n",
       "4      (5b4aa4ead3089013507db18f,)   \n",
       "...                            ...   \n",
       "10190  (5b4aa4ead3089013507dd959,)   \n",
       "10191  (5b4aa4ead3089013507dd95a,)   \n",
       "10192  (5b4aa4ead3089013507dd95b,)   \n",
       "10193  (5b4aa4ead3089013507dd95c,)   \n",
       "10194  (5b4aa4ead3089013507dd95d,)   \n",
       "\n",
       "                                                     URL              author  \\\n",
       "0      http://www.amazon.com/Odd-Hours-Dean-Koontz/dp...       Dean R Koontz   \n",
       "1      http://www.amazon.com/The-Host-Novel-Stephenie...     Stephenie Meyer   \n",
       "2      http://www.amazon.com/Love-Youre-With-Emily-Gi...        Emily Giffin   \n",
       "3      http://www.amazon.com/The-Front-Garano-Patrici...   Patricia Cornwell   \n",
       "4      http://www.amazon.com/Snuff-Chuck-Palahniuk/dp...     Chuck Palahniuk   \n",
       "...                                                  ...                 ...   \n",
       "10190  https://www.amazon.com/Clancy-Line-Sight-Jack-...          Mike Maden   \n",
       "10191  https://www.amazon.com/Something-Water-Novel-C...  Catherine Steadman   \n",
       "10192  https://www.amazon.com/Little-Fires-Everywhere...          Celeste Ng   \n",
       "10193  https://www.amazon.com/Shelter-Place-Nora-Robe...        Nora Roberts   \n",
       "10194  https://www.amazon.com/Last-Time-Lied-Novel/dp...         Riley Sager   \n",
       "\n",
       "          bestsellers_date                                        description  \\\n",
       "0      ((1211587200000,),)  Odd Thomas, who can communicate with the dead,...   \n",
       "1      ((1211587200000,),)  Aliens have taken control of the minds and bod...   \n",
       "2      ((1211587200000,),)  A woman's happy marriage is shaken when she en...   \n",
       "3      ((1211587200000,),)  A Massachusetts state investigator and his tea...   \n",
       "4      ((1211587200000,),)  An aging porn queens aims to cap her career by...   \n",
       "...                    ...                                                ...   \n",
       "10190  ((1530921600000,),)  Jack Ryan Jr. risks his life to protect a woma...   \n",
       "10191  ((1530921600000,),)  A documentary filmmaker and an investment bank...   \n",
       "10192  ((1530921600000,),)   An artist upends a quiet town outside Cleveland.   \n",
       "10193  ((1530921600000,),)  Survivors of a mass shooting outside a mall in...   \n",
       "10194  ((1530921600000,),)  A painter is in danger when she returns to the...   \n",
       "\n",
       "               price       published_date      publisher   rank  \\\n",
       "0         (None, 27)  ((1212883200000,),)         Bantam   (1,)   \n",
       "1      (25.99, None)  ((1212883200000,),)  Little, Brown   (2,)   \n",
       "2      (24.95, None)  ((1212883200000,),)   St. Martin's   (3,)   \n",
       "3      (22.95, None)  ((1212883200000,),)         Putnam   (4,)   \n",
       "4      (24.95, None)  ((1212883200000,),)      Doubleday   (5,)   \n",
       "...              ...                  ...            ...    ...   \n",
       "10190      (None, 0)  ((1532217600000,),)         Putnam  (11,)   \n",
       "10191      (None, 0)  ((1532217600000,),)     Ballantine  (12,)   \n",
       "10192      (None, 0)  ((1532217600000,),)  Penguin Press  (13,)   \n",
       "10193      (None, 0)  ((1532217600000,),)   St. Martin's  (14,)   \n",
       "10194      (None, 0)  ((1532217600000,),)         Dutton  (15,)   \n",
       "\n",
       "      rank_last_week                     title weeks_on_list  \\\n",
       "0               (0,)                 ODD HOURS          (1,)   \n",
       "1               (1,)                  THE HOST          (3,)   \n",
       "2               (2,)  LOVE THE ONE YOU'RE WITH          (2,)   \n",
       "3               (0,)                 THE FRONT          (1,)   \n",
       "4               (0,)                     SNUFF          (1,)   \n",
       "...              ...                       ...           ...   \n",
       "10190           (6,)  TOM CLANCY LINE OF SIGHT          (4,)   \n",
       "10191          (11,)    SOMETHING IN THE WATER          (5,)   \n",
       "10192          (12,)   LITTLE FIRES EVERYWHERE         (41,)   \n",
       "10193           (5,)          SHELTER IN PLACE          (6,)   \n",
       "10194           (0,)      THE LAST TIME I LIED          (1,)   \n",
       "\n",
       "                 new_column  \n",
       "0      This is a new column  \n",
       "1      This is a new column  \n",
       "2      This is a new column  \n",
       "3      This is a new column  \n",
       "4      This is a new column  \n",
       "...                     ...  \n",
       "10190  This is a new column  \n",
       "10191  This is a new column  \n",
       "10192  This is a new column  \n",
       "10193  This is a new column  \n",
       "10194  This is a new column  \n",
       "\n",
       "[10195 rows x 13 columns]"
      ]
     },
     "execution_count": 46,
     "metadata": {},
     "output_type": "execute_result"
    }
   ],
   "source": [
    "# Obtaining contents of df as Pandas dataFrame\n",
    "#!sudo python3 -m pip install pandas\n",
    "import pandas as pd\n",
    "pdf = dataframe.toPandas()\n",
    "pdf"
   ]
  },
  {
   "cell_type": "markdown",
   "metadata": {},
   "source": [
    "## Plotting via Pandas\n",
    "## Pandas has tight integration with matplotlib. ou can plot data directly from your DataFrame using the plot() method:"
   ]
  },
  {
   "cell_type": "code",
   "execution_count": 47,
   "metadata": {},
   "outputs": [
    {
     "data": {
      "image/png": "[encoded data removed]",
      "text/plain": [
       "<Figure size 432x288 with 1 Axes>"
      ]
     },
     "metadata": {
      "needs_background": "light"
     },
     "output_type": "display_data"
    }
   ],
   "source": [
    "import matplotlib.pyplot as plt\n",
    "pdf.plot.scatter(x = 'author', y = 'title', color = 'red')\n",
    "plt.show()"
   ]
  },
  {
   "cell_type": "markdown",
   "metadata": {},
   "source": [
    "## Plotting alternatives: plotly, seaborn"
   ]
  },
  {
   "cell_type": "markdown",
   "metadata": {},
   "source": [
    "# Write & Save Files"
   ]
  },
  {
   "cell_type": "code",
   "execution_count": 51,
   "metadata": {},
   "outputs": [],
   "source": [
    "# Write & Save File in .parquet format (creates a directory with parts)\n",
    "dataframe.select(\"author\", \"title\", \"rank\", \"description\")\\\n",
    ".write \\\n",
    ".save(\"Rankings_Descriptions.parquet\")"
   ]
  },
  {
   "cell_type": "code",
   "execution_count": null,
   "metadata": {},
   "outputs": [],
   "source": [
    "# Write & Save File in .json format (creates a directory with parts)\n",
    "dataframe.select(\"author\", \"title\") \\\n",
    ".write \\\n",
    ".save(\"Authors_Titles.json\",format=\"json\")"
   ]
  },
  {
   "cell_type": "markdown",
   "metadata": {},
   "source": [
    "# Building Model with SKLearn"
   ]
  },
  {
   "cell_type": "code",
   "execution_count": null,
   "metadata": {},
   "outputs": [],
   "source": [
    "# Obtaining contents of df as Pandas dataFrame\n",
    "# !sudo python3 -m pip install scikit-learn"
   ]
  },
  {
   "cell_type": "markdown",
   "metadata": {},
   "source": [
    "# Using Koalas"
   ]
  },
  {
   "cell_type": "code",
   "execution_count": 50,
   "metadata": {},
   "outputs": [
    {
     "name": "stderr",
     "output_type": "stream",
     "text": [
      "WARNING:root:'ARROW_PRE_0_15_IPC_FORMAT' environment variable was not set. It is required to set this environment variable to '1' in both driver and executor sides if you use pyarrow>=0.15 and pyspark<3.0. Koalas will set it for you but it does not work if there is a Spark context already launched.\n"
     ]
    },
    {
     "data": {
      "text/html": [
       "<div>\n",
       "<style scoped>\n",
       "    .dataframe tbody tr th:only-of-type {\n",
       "        vertical-align: middle;\n",
       "    }\n",
       "\n",
       "    .dataframe tbody tr th {\n",
       "        vertical-align: top;\n",
       "    }\n",
       "\n",
       "    .dataframe thead th {\n",
       "        text-align: right;\n",
       "    }\n",
       "</style>\n",
       "<table border=\"1\" class=\"dataframe\">\n",
       "  <thead>\n",
       "    <tr style=\"text-align: right;\">\n",
       "      <th></th>\n",
       "      <th>_id</th>\n",
       "      <th>amazon_product_url</th>\n",
       "      <th>author</th>\n",
       "      <th>bestsellers_date</th>\n",
       "      <th>description</th>\n",
       "      <th>price</th>\n",
       "      <th>published_date</th>\n",
       "      <th>publisher</th>\n",
       "      <th>rank</th>\n",
       "      <th>rank_last_week</th>\n",
       "      <th>title</th>\n",
       "      <th>weeks_on_list</th>\n",
       "    </tr>\n",
       "  </thead>\n",
       "  <tbody>\n",
       "    <tr>\n",
       "      <th>0</th>\n",
       "      <td>(5b4aa4ead3089013507db18b,)</td>\n",
       "      <td>http://www.amazon.com/Odd-Hours-Dean-Koontz/dp...</td>\n",
       "      <td>Dean R Koontz</td>\n",
       "      <td>((1211587200000,),)</td>\n",
       "      <td>Odd Thomas, who can communicate with the dead,...</td>\n",
       "      <td>(None, 27)</td>\n",
       "      <td>((1212883200000,),)</td>\n",
       "      <td>Bantam</td>\n",
       "      <td>(1,)</td>\n",
       "      <td>(0,)</td>\n",
       "      <td>ODD HOURS</td>\n",
       "      <td>(1,)</td>\n",
       "    </tr>\n",
       "    <tr>\n",
       "      <th>1</th>\n",
       "      <td>(5b4aa4ead3089013507db18c,)</td>\n",
       "      <td>http://www.amazon.com/The-Host-Novel-Stephenie...</td>\n",
       "      <td>Stephenie Meyer</td>\n",
       "      <td>((1211587200000,),)</td>\n",
       "      <td>Aliens have taken control of the minds and bod...</td>\n",
       "      <td>(25.99, None)</td>\n",
       "      <td>((1212883200000,),)</td>\n",
       "      <td>Little, Brown</td>\n",
       "      <td>(2,)</td>\n",
       "      <td>(1,)</td>\n",
       "      <td>THE HOST</td>\n",
       "      <td>(3,)</td>\n",
       "    </tr>\n",
       "    <tr>\n",
       "      <th>2</th>\n",
       "      <td>(5b4aa4ead3089013507db18d,)</td>\n",
       "      <td>http://www.amazon.com/Love-Youre-With-Emily-Gi...</td>\n",
       "      <td>Emily Giffin</td>\n",
       "      <td>((1211587200000,),)</td>\n",
       "      <td>A woman's happy marriage is shaken when she en...</td>\n",
       "      <td>(24.95, None)</td>\n",
       "      <td>((1212883200000,),)</td>\n",
       "      <td>St. Martin's</td>\n",
       "      <td>(3,)</td>\n",
       "      <td>(2,)</td>\n",
       "      <td>LOVE THE ONE YOU'RE WITH</td>\n",
       "      <td>(2,)</td>\n",
       "    </tr>\n",
       "    <tr>\n",
       "      <th>3</th>\n",
       "      <td>(5b4aa4ead3089013507db18e,)</td>\n",
       "      <td>http://www.amazon.com/The-Front-Garano-Patrici...</td>\n",
       "      <td>Patricia Cornwell</td>\n",
       "      <td>((1211587200000,),)</td>\n",
       "      <td>A Massachusetts state investigator and his tea...</td>\n",
       "      <td>(22.95, None)</td>\n",
       "      <td>((1212883200000,),)</td>\n",
       "      <td>Putnam</td>\n",
       "      <td>(4,)</td>\n",
       "      <td>(0,)</td>\n",
       "      <td>THE FRONT</td>\n",
       "      <td>(1,)</td>\n",
       "    </tr>\n",
       "    <tr>\n",
       "      <th>4</th>\n",
       "      <td>(5b4aa4ead3089013507db18f,)</td>\n",
       "      <td>http://www.amazon.com/Snuff-Chuck-Palahniuk/dp...</td>\n",
       "      <td>Chuck Palahniuk</td>\n",
       "      <td>((1211587200000,),)</td>\n",
       "      <td>An aging porn queens aims to cap her career by...</td>\n",
       "      <td>(24.95, None)</td>\n",
       "      <td>((1212883200000,),)</td>\n",
       "      <td>Doubleday</td>\n",
       "      <td>(5,)</td>\n",
       "      <td>(0,)</td>\n",
       "      <td>SNUFF</td>\n",
       "      <td>(1,)</td>\n",
       "    </tr>\n",
       "  </tbody>\n",
       "</table>\n",
       "</div>"
      ],
      "text/plain": [
       "                           _id                                                                         amazon_product_url             author     bestsellers_date                                                                                                                   description          price       published_date      publisher  rank rank_last_week                     title weeks_on_list\n",
       "0  (5b4aa4ead3089013507db18b,)                     http://www.amazon.com/Odd-Hours-Dean-Koontz/dp/0553807056?tag=NYTBS-20      Dean R Koontz  ((1211587200000,),)                            Odd Thomas, who can communicate with the dead, confronts evil forces in a California coastal town.     (None, 27)  ((1212883200000,),)         Bantam  (1,)           (0,)                 ODD HOURS          (1,)\n",
       "1  (5b4aa4ead3089013507db18c,)            http://www.amazon.com/The-Host-Novel-Stephenie-Meyer/dp/0316218502?tag=NYTBS-20    Stephenie Meyer  ((1211587200000,),)                              Aliens have taken control of the minds and bodies of most humans, but one woman won’t surrender.  (25.99, None)  ((1212883200000,),)  Little, Brown  (2,)           (1,)                  THE HOST          (3,)\n",
       "2  (5b4aa4ead3089013507db18d,)              http://www.amazon.com/Love-Youre-With-Emily-Giffin/dp/0312348665?tag=NYTBS-20       Emily Giffin  ((1211587200000,),)                                                      A woman's happy marriage is shaken when she encounters an old boyfriend.  (24.95, None)  ((1212883200000,),)   St. Martin's  (3,)           (2,)  LOVE THE ONE YOU'RE WITH          (2,)\n",
       "3  (5b4aa4ead3089013507db18e,)  http://www.amazon.com/The-Front-Garano-Patricia-Cornwell-ebook/dp/B0017T0C9M?tag=NYTBS-20  Patricia Cornwell  ((1211587200000,),)  A Massachusetts state investigator and his team from \"At Risk\" confront a rogue association of municipal police departments.  (22.95, None)  ((1212883200000,),)         Putnam  (4,)           (0,)                 THE FRONT          (1,)\n",
       "4  (5b4aa4ead3089013507db18f,)                     http://www.amazon.com/Snuff-Chuck-Palahniuk/dp/0385517882?tag=NYTBS-20    Chuck Palahniuk  ((1211587200000,),)                                    An aging porn queens aims to cap her career by having sex on film with 600 men in one day.  (24.95, None)  ((1212883200000,),)      Doubleday  (5,)           (0,)                     SNUFF          (1,)"
      ]
     },
     "execution_count": 50,
     "metadata": {},
     "output_type": "execute_result"
    }
   ],
   "source": [
    "import databricks.koalas as ks\n",
    "# Create a Koalas DataFrame from pandas DataFrame\n",
    "# kdf = ks.from_pandas(pdf)\n",
    "ks.read_json('nyt2.json').head(5)"
   ]
  },
  {
   "cell_type": "markdown",
   "metadata": {},
   "source": [
    "## A quick statistical summary of a Koalas DataFrame"
   ]
  },
  {
   "cell_type": "raw",
   "metadata": {},
   "source": [
    "kdf.describe()"
   ]
  },
  {
   "cell_type": "markdown",
   "metadata": {},
   "source": [
    "# STOPPING SPARK SESSION"
   ]
  },
  {
   "cell_type": "code",
   "execution_count": null,
   "metadata": {},
   "outputs": [],
   "source": [
    "# End Spark Session \n",
    "sc.stop()"
   ]
  }
 ],
 "metadata": {
  "kernelspec": {
   "display_name": "Python 3",
   "language": "python",
   "name": "python3"
  },
  "language_info": {
   "codemirror_mode": {
    "name": "ipython",
    "version": 3
   },
   "file_extension": ".py",
   "mimetype": "text/x-python",
   "name": "python",
   "nbconvert_exporter": "python",
   "pygments_lexer": "ipython3",
   "version": "3.9.2"
  }
 },
 "nbformat": 4,
 "nbformat_minor": 4
}
