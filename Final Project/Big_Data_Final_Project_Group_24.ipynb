{
 "cells": [
  {
   "cell_type": "markdown",
   "metadata": {
    "id": "sNmmq-QYQALz"
   },
   "source": [
    "**<h1><center>IDC Big Data Platforms(7 Workers) - Final Project using Spark + ML, 2021</center></h1>**"
   ]
  },
  {
   "cell_type": "markdown",
   "metadata": {
    "id": "6-7fjoDmJcaV"
   },
   "source": [
    "<u>Date</u>: August 1st, 2021<br>\n",
    "<u>Authors</u>: Ofer **Gross** (ID 304997067), Yuval **Katz** (ID 311132468), Ofir **Nesher** (ID 204502926)\n",
    "\n",
    "\n",
    "[Project guidelines](https://docs.google.com/document/d/1wwhifuOkvXhN0ALQWegBhvUYflR2MoXrtYmMAuMdtB8/edit)\n",
    "\n",
    "[Kaggle competition link](https://www.kaggle.com/c/idc-big-data-platforms-2021-ml-competition)\n",
    "\n",
    "[Dataset](https://www.kaggle.com/c/idc-big-data-platforms-2021-ml-competition/data)\n"
   ]
  },
  {
   "cell_type": "markdown",
   "metadata": {
    "id": "bXgBCXD8bP0K"
   },
   "source": [
    "**Task**:\n",
    "You should build a classification machine learning model that tries to predict if the fare is lower or higher then $10.<br>\n",
    "After training the model, given a set of (previously unseen) test data (w/o the fare) you should predict (classify) for each row if the fare is < 10 or >= 10."
   ]
  },
  {
   "cell_type": "markdown",
   "metadata": {
    "id": "B3UHXIWlJ4Fb"
   },
   "source": [
    "# <u>**Imports**</u>"
   ]
  },
  {
   "cell_type": "code",
   "execution_count": 1,
   "metadata": {
    "colab": {
     "base_uri": "https://localhost:8080/"
    },
    "id": "6ym8z9ZLSlP8",
    "outputId": "652c227c-9426-44c6-8e9e-75d251c9bda9"
   },
   "outputs": [
    {
     "data": {
      "application/vnd.jupyter.widget-view+json": {
       "model_id": "730c0155d99346d0ad9ce2058b58daea",
       "version_major": 2,
       "version_minor": 0
      },
      "text/plain": [
       "VBox()"
      ]
     },
     "metadata": {},
     "output_type": "display_data"
    },
    {
     "name": "stdout",
     "output_type": "stream",
     "text": [
      "Starting Spark application\n"
     ]
    },
    {
     "data": {
      "text/html": [
       "<table>\n",
       "<tr><th>ID</th><th>YARN Application ID</th><th>Kind</th><th>State</th><th>Spark UI</th><th>Driver log</th><th>Current session?</th></tr><tr><td>4</td><td>application_1627841513647_0005</td><td>pyspark</td><td>idle</td><td><a target=\"_blank\" href=\"http://ip-172-31-85-12.ec2.internal:20888/proxy/application_1627841513647_0005/\">Link</a></td><td><a target=\"_blank\" href=\"http://ip-172-31-88-102.ec2.internal:8042/node/containerlogs/container_1627841513647_0005_01_000001/livy\">Link</a></td><td>✔</td></tr></table>"
      ],
      "text/plain": [
       "<IPython.core.display.HTML object>"
      ]
     },
     "metadata": {},
     "output_type": "display_data"
    },
    {
     "data": {
      "application/vnd.jupyter.widget-view+json": {
       "model_id": "",
       "version_major": 2,
       "version_minor": 0
      },
      "text/plain": [
       "FloatProgress(value=0.0, bar_style='info', description='Progress:', layout=Layout(height='25px', width='50%'),…"
      ]
     },
     "metadata": {},
     "output_type": "display_data"
    },
    {
     "name": "stdout",
     "output_type": "stream",
     "text": [
      "SparkSession available as 'spark'.\n"
     ]
    },
    {
     "data": {
      "application/vnd.jupyter.widget-view+json": {
       "model_id": "",
       "version_major": 2,
       "version_minor": 0
      },
      "text/plain": [
       "FloatProgress(value=0.0, bar_style='info', description='Progress:', layout=Layout(height='25px', width='50%'),…"
      ]
     },
     "metadata": {},
     "output_type": "display_data"
    }
   ],
   "source": [
    "# local python kernel\n",
    "# !pip3 install anaconda pyspark pandas scikit-learn pycm # Use the pycm package to print the confusion matrix"
   ]
  },
  {
   "cell_type": "code",
   "execution_count": 2,
   "metadata": {},
   "outputs": [
    {
     "data": {
      "application/vnd.jupyter.widget-view+json": {
       "model_id": "dfbb231309a7402f9fbf4b4293793d6e",
       "version_major": 2,
       "version_minor": 0
      },
      "text/plain": [
       "VBox()"
      ]
     },
     "metadata": {},
     "output_type": "display_data"
    },
    {
     "data": {
      "application/vnd.jupyter.widget-view+json": {
       "model_id": "",
       "version_major": 2,
       "version_minor": 0
      },
      "text/plain": [
       "FloatProgress(value=0.0, bar_style='info', description='Progress:', layout=Layout(height='25px', width='50%'),…"
      ]
     },
     "metadata": {},
     "output_type": "display_data"
    },
    {
     "name": "stdout",
     "output_type": "stream",
     "text": [
      "Collecting pycm\n",
      "  Using cached pycm-3.1-py2.py3-none-any.whl (63 kB)\n",
      "Collecting art>=1.8\n",
      "  Using cached art-5.2-py2.py3-none-any.whl (571 kB)\n",
      "Requirement already satisfied: numpy>=1.9.0 in /usr/local/lib64/python3.6/site-packages (from pycm) (1.14.5)\n",
      "Installing collected packages: art, pycm\n",
      "Successfully installed art-5.2 pycm-3.1\n",
      "\n",
      "Collecting sklearn\n",
      "  Using cached sklearn-0.0-py2.py3-none-any.whl\n",
      "Collecting scikit-learn\n",
      "  Using cached scikit_learn-0.24.2-cp36-cp36m-manylinux2010_x86_64.whl (22.2 MB)\n",
      "Requirement already satisfied: numpy>=1.13.3 in /usr/local/lib64/python3.6/site-packages (from scikit-learn->sklearn) (1.14.5)\n",
      "Collecting scipy>=0.19.1\n",
      "  Using cached scipy-1.5.4-cp36-cp36m-manylinux1_x86_64.whl (25.9 MB)\n",
      "Collecting joblib>=0.11\n",
      "  Using cached joblib-1.0.1-py3-none-any.whl (303 kB)\n",
      "Collecting threadpoolctl>=2.0.0\n",
      "  Using cached threadpoolctl-2.2.0-py3-none-any.whl (12 kB)\n",
      "Installing collected packages: threadpoolctl, scipy, joblib, scikit-learn, sklearn\n",
      "Successfully installed joblib-1.0.1 scikit-learn-0.24.2 scipy-1.5.4 sklearn-0.0 threadpoolctl-2.2.0\n",
      "\n",
      "Collecting requests\n",
      "  Using cached requests-2.26.0-py2.py3-none-any.whl (62 kB)\n",
      "Collecting urllib3<1.27,>=1.21.1\n",
      "  Using cached urllib3-1.26.6-py2.py3-none-any.whl (138 kB)\n",
      "Collecting idna<4,>=2.5\n",
      "  Using cached idna-3.2-py3-none-any.whl (59 kB)\n",
      "Collecting certifi>=2017.4.17\n",
      "  Using cached certifi-2021.5.30-py2.py3-none-any.whl (145 kB)\n",
      "Collecting charset-normalizer~=2.0.0\n",
      "  Using cached charset_normalizer-2.0.4-py3-none-any.whl (36 kB)\n",
      "Installing collected packages: urllib3, idna, charset-normalizer, certifi, requests\n",
      "Successfully installed certifi-2021.5.30 charset-normalizer-2.0.4 idna-3.2 requests-2.26.0 urllib3-1.26.6\n",
      "\n",
      "Collecting pyspark\n",
      "  Using cached pyspark-3.1.2-py2.py3-none-any.whl\n",
      "Collecting py4j==0.10.9\n",
      "  Using cached py4j-0.10.9-py2.py3-none-any.whl (198 kB)\n",
      "Installing collected packages: py4j, pyspark\n",
      "Successfully installed py4j-0.10.9 pyspark-3.1.2\n",
      "\n",
      "Collecting datetime\n",
      "  Using cached DateTime-4.3-py2.py3-none-any.whl (60 kB)\n",
      "Requirement already satisfied: pytz in /usr/local/lib/python3.6/site-packages (from datetime) (2019.3)\n",
      "Collecting zope.interface\n",
      "  Using cached zope.interface-5.4.0-cp36-cp36m-manylinux2010_x86_64.whl (251 kB)\n",
      "Requirement already satisfied: setuptools in /mnt/tmp/1627847741541-0/lib/python3.6/site-packages (from zope.interface->datetime) (57.4.0)\n",
      "Installing collected packages: zope.interface, datetime\n",
      "Successfully installed datetime-4.3 zope.interface-5.4.0\n",
      "\n",
      "\n",
      "Collecting matplotlib\n",
      "  Using cached matplotlib-3.3.4-cp36-cp36m-manylinux1_x86_64.whl (11.5 MB)\n",
      "Collecting python-dateutil>=2.1\n",
      "  Using cached python_dateutil-2.8.2-py2.py3-none-any.whl (247 kB)\n",
      "Collecting pillow>=6.2.0\n",
      "  Using cached Pillow-8.3.1-cp36-cp36m-manylinux_2_5_x86_64.manylinux1_x86_64.whl (3.0 MB)\n",
      "Collecting numpy>=1.15\n",
      "  Using cached numpy-1.19.5-cp36-cp36m-manylinux2010_x86_64.whl (14.8 MB)\n",
      "Collecting kiwisolver>=1.0.1\n",
      "  Using cached kiwisolver-1.3.1-cp36-cp36m-manylinux1_x86_64.whl (1.1 MB)\n",
      "Collecting cycler>=0.10\n",
      "  Using cached cycler-0.10.0-py2.py3-none-any.whl (6.5 kB)\n",
      "Collecting pyparsing!=2.0.4,!=2.1.2,!=2.1.6,>=2.0.3\n",
      "  Using cached pyparsing-2.4.7-py2.py3-none-any.whl (67 kB)\n",
      "Requirement already satisfied: six in /usr/local/lib/python3.6/site-packages (from cycler>=0.10->matplotlib) (1.13.0)\n",
      "Installing collected packages: python-dateutil, pyparsing, pillow, numpy, kiwisolver, cycler, matplotlib\n",
      "  Attempting uninstall: numpy\n",
      "    Found existing installation: numpy 1.14.5\n",
      "    Not uninstalling numpy at /usr/local/lib64/python3.6/site-packages, outside environment /tmp/1627847741541-0\n",
      "    Can't uninstall 'numpy'. No files were found to uninstall.\n",
      "Successfully installed cycler-0.10.0 kiwisolver-1.3.1 matplotlib-3.3.4 numpy-1.19.5 pillow-8.3.1 pyparsing-2.4.7 python-dateutil-2.8.2\n",
      "\n",
      "Collecting pandas==0.25.1\n",
      "  Using cached pandas-0.25.1-cp36-cp36m-manylinux1_x86_64.whl (10.5 MB)\n",
      "Requirement already satisfied: python-dateutil>=2.6.1 in /mnt/tmp/1627847741541-0/lib/python3.6/site-packages (from pandas==0.25.1) (2.8.2)\n",
      "Requirement already satisfied: numpy>=1.13.3 in /mnt/tmp/1627847741541-0/lib64/python3.6/site-packages (from pandas==0.25.1) (1.19.5)\n",
      "Requirement already satisfied: pytz>=2017.2 in /usr/local/lib/python3.6/site-packages (from pandas==0.25.1) (2019.3)\n",
      "Requirement already satisfied: six>=1.5 in /usr/local/lib/python3.6/site-packages (from python-dateutil>=2.6.1->pandas==0.25.1) (1.13.0)\n",
      "Installing collected packages: pandas\n",
      "Successfully installed pandas-0.25.1\n",
      "\n",
      "Collecting numpy==1.15.4\n",
      "  Using cached numpy-1.15.4-cp36-cp36m-manylinux1_x86_64.whl (13.9 MB)\n",
      "Installing collected packages: numpy\n",
      "  Attempting uninstall: numpy\n",
      "    Found existing installation: numpy 1.19.5\n",
      "    Uninstalling numpy-1.19.5:\n",
      "      Successfully uninstalled numpy-1.19.5\n",
      "Successfully installed numpy-1.15.4\n",
      "\n",
      "\n",
      "\n",
      "\n",
      "ERROR: pip's dependency resolver does not currently take into account all the packages that are installed. This behaviour is the source of the following dependency conflicts.\n",
      "python36-sagemaker-pyspark 1.2.6 requires pyspark==2.3.2, but you have pyspark 3.1.2 which is incompatible.\n",
      "\n",
      "\n",
      "ERROR: Could not find a version that satisfies the requirement os (from versions: none)\n",
      "ERROR: No matching distribution found for os\n",
      "\n",
      "ERROR: pip's dependency resolver does not currently take into account all the packages that are installed. This behaviour is the source of the following dependency conflicts.\n",
      "python36-sagemaker-pyspark 1.2.6 requires pyspark==2.3.2, but you have pyspark 3.1.2 which is incompatible.\n",
      "\n",
      "\n",
      "ERROR: pip's dependency resolver does not currently take into account all the packages that are installed. This behaviour is the source of the following dependency conflicts.\n",
      "python36-sagemaker-pyspark 1.2.6 requires pyspark==2.3.2, but you have pyspark 3.1.2 which is incompatible."
     ]
    }
   ],
   "source": [
    "# pyspark kernel\n",
    "sc.install_pypi_package(\"pycm\")\n",
    "sc.install_pypi_package(\"sklearn\")\n",
    "sc.install_pypi_package(\"requests\")\n",
    "sc.install_pypi_package(\"pyspark\")\n",
    "sc.install_pypi_package(\"datetime\")\n",
    "sc.install_pypi_package(\"os\")\n",
    "sc.install_pypi_package(\"matplotlib\")\n",
    "sc.install_pypi_package(\"pandas==0.25.1\")\n",
    "sc.install_pypi_package(\"numpy==1.15.4\")"
   ]
  },
  {
   "cell_type": "code",
   "execution_count": 3,
   "metadata": {
    "id": "w9WYj0mDJXWw"
   },
   "outputs": [
    {
     "data": {
      "application/vnd.jupyter.widget-view+json": {
       "model_id": "f45584d383b04ae387d7a73d2fe85bb0",
       "version_major": 2,
       "version_minor": 0
      },
      "text/plain": [
       "VBox()"
      ]
     },
     "metadata": {},
     "output_type": "display_data"
    },
    {
     "data": {
      "application/vnd.jupyter.widget-view+json": {
       "model_id": "",
       "version_major": 2,
       "version_minor": 0
      },
      "text/plain": [
       "FloatProgress(value=0.0, bar_style='info', description='Progress:', layout=Layout(height='25px', width='50%'),…"
      ]
     },
     "metadata": {},
     "output_type": "display_data"
    }
   ],
   "source": [
    "import numpy as np\n",
    "import pandas as pd\n",
    "import json\n",
    "import requests\n",
    "from datetime import datetime\n",
    "import time\n",
    "import os\n",
    "from pandas.tseries.holiday import USFederalHolidayCalendar as calendar\n",
    "\n",
    "from pyspark.sql.types import IntegerType\n",
    "from pyspark.sql import SparkSession\n",
    "from pyspark.sql.functions import *\n",
    "import pyspark.sql.functions as F\n",
    "from pyspark.sql.types import StringType, FloatType\n",
    "from pyspark.ml.feature import VectorAssembler\n",
    "from pyspark.ml.feature import MinMaxScaler\n",
    "from pyspark.sql.functions import to_date, dayofweek, hour, col, avg\n",
    "from pyspark.sql.types import StructType, StructField\n",
    "from pyspark.sql.types import DoubleType, IntegerType, StringType, FloatType, ByteType, DateType, TimestampType\n",
    "from pyspark.ml import Pipeline\n",
    "from pyspark.ml.feature import StandardScaler, VectorAssembler\n",
    "from pyspark.mllib.evaluation import MulticlassMetrics\n",
    "from pyspark.ml.evaluation import BinaryClassificationEvaluator\n",
    "from pyspark.ml.classification import MultilayerPerceptronClassifier\n",
    "from pyspark.ml.evaluation import MulticlassClassificationEvaluator\n",
    "from pyspark.ml.classification import LogisticRegression\n",
    "from pyspark.ml.classification import DecisionTreeClassifier\n",
    "from pyspark.ml.classification import GBTClassifier\n",
    "from pyspark.sql.window import Window\n",
    "from pyspark.sql.functions import monotonically_increasing_id, row_number"
   ]
  },
  {
   "cell_type": "markdown",
   "metadata": {
    "id": "KNNimzvcc2Qc"
   },
   "source": [
    "---"
   ]
  },
  {
   "cell_type": "markdown",
   "metadata": {
    "id": "35CrJ2em24-q"
   },
   "source": [
    "# <u>**Constants**</u>"
   ]
  },
  {
   "cell_type": "code",
   "execution_count": 4,
   "metadata": {
    "id": "OTWB19OG2gkM"
   },
   "outputs": [
    {
     "data": {
      "application/vnd.jupyter.widget-view+json": {
       "model_id": "9e623925e32c4c279c087e28902a9c88",
       "version_major": 2,
       "version_minor": 0
      },
      "text/plain": [
       "VBox()"
      ]
     },
     "metadata": {},
     "output_type": "display_data"
    },
    {
     "data": {
      "application/vnd.jupyter.widget-view+json": {
       "model_id": "",
       "version_major": 2,
       "version_minor": 0
      },
      "text/plain": [
       "FloatProgress(value=0.0, bar_style='info', description='Progress:', layout=Layout(height='25px', width='50%'),…"
      ]
     },
     "metadata": {},
     "output_type": "display_data"
    }
   ],
   "source": [
    "# KAGGLE CREDENTIALS\n",
    "KAGGLE_USERNAME = '###########' # insert yours\n",
    "KAGGLE_KEY = '###########' # insert yours\n",
    "KAGGLE_DATASET_PATH = 'idc-big-data-platforms-2021-ml-competition'\n",
    "\n",
    "S3_BUCKET_URI = 's3://aws-emr-resources-183553851145-us-east-1'\n",
    "\n",
    "GOOGLE_API_KEY = '###########' # insert yours\n",
    "\n",
    "# FILENAMES\n",
    "TRAINING_DATASET_FILENAME = 'idc_train.csv'\n",
    "TEST_DATASET_FILENAME = 'idc_test.csv'\n",
    "FINAL_DF_FILENAME = 'final_df.csv'\n",
    "FINAL_TRAINING_DATASET_FILENAME = 'train_data.csv'\n",
    "FINAL_VALIDATION_DATASET_FILENAME = 'validation_data.csv'\n",
    "\n",
    "SPARK_PROJECT_NAME = 'final_project_group_24'\n",
    "\n",
    "# \"Google Drive\" path for saving and loading the processed final_df, train_data and validation_data DFs\n",
    "PROJECT_FOLDER_PATH = '/content/drive/MyDrive/IDC/Big Data/Final project' \n",
    "\n",
    "# Specific values for the dataset:\n",
    "FARE_AMOUNT_THRESHOLD = 10 # The classification ML model tries to predict if the fare is lower or higher then ${FARE_PRICE_THRESHOLD}\n",
    "MIN_PASSENGER_COUNT = MIN_FARE_AMOUNT = MIN_RIDE_LENGTH = 1\n",
    "MAX_PASSENGER_COUNT = 10\n",
    "MAX_FARE_AMOUNT = 100\n",
    "MAX_RIDE_LENGTH = 100 # (maximum of 100 KM for a ride)\n",
    "\n",
    "COORDINATES_COLUMNS = ['pickup_longitude', 'pickup_latitude', 'dropoff_longitude', 'dropoff_latitude']\n",
    "WEEKEND = ['Saturday', 'Sunday']\n",
    "JFK_COORDINATES = {'latitude': 40.6413, 'longitude': -73.7781}\n",
    "LaGuardia_COORDINATES = {'latitude': 40.7769, 'longitude': -73.8740}"
   ]
  },
  {
   "cell_type": "markdown",
   "metadata": {
    "id": "gwkhrw6Rc0iW"
   },
   "source": [
    "---"
   ]
  },
  {
   "cell_type": "markdown",
   "metadata": {
    "id": "9Fo4JZEUn-Bi"
   },
   "source": [
    "# <u>**Kaggle**</u>"
   ]
  },
  {
   "cell_type": "markdown",
   "metadata": {},
   "source": [
    "Uncomment with python kernel (local run)"
   ]
  },
  {
   "cell_type": "code",
   "execution_count": 5,
   "metadata": {
    "colab": {
     "base_uri": "https://localhost:8080/"
    },
    "id": "lDje0cej2gyu",
    "outputId": "13dfcef6-a22f-4bd6-c956-97b7feb1f530"
   },
   "outputs": [
    {
     "data": {
      "application/vnd.jupyter.widget-view+json": {
       "model_id": "747b22afa2334d63b8ef9a8b4287c87f",
       "version_major": 2,
       "version_minor": 0
      },
      "text/plain": [
       "VBox()"
      ]
     },
     "metadata": {},
     "output_type": "display_data"
    },
    {
     "data": {
      "application/vnd.jupyter.widget-view+json": {
       "model_id": "",
       "version_major": 2,
       "version_minor": 0
      },
      "text/plain": [
       "FloatProgress(value=0.0, bar_style='info', description='Progress:', layout=Layout(height='25px', width='50%'),…"
      ]
     },
     "metadata": {},
     "output_type": "display_data"
    }
   ],
   "source": [
    "# !pip install kaggle"
   ]
  },
  {
   "cell_type": "code",
   "execution_count": 6,
   "metadata": {
    "colab": {
     "base_uri": "https://localhost:8080/"
    },
    "id": "AuYRI6BcNp43",
    "outputId": "4afa7683-78a7-439b-bd68-2de2dd2d9969"
   },
   "outputs": [
    {
     "data": {
      "application/vnd.jupyter.widget-view+json": {
       "model_id": "572ede002bf44805a36a9196a314874c",
       "version_major": 2,
       "version_minor": 0
      },
      "text/plain": [
       "VBox()"
      ]
     },
     "metadata": {},
     "output_type": "display_data"
    },
    {
     "data": {
      "application/vnd.jupyter.widget-view+json": {
       "model_id": "",
       "version_major": 2,
       "version_minor": 0
      },
      "text/plain": [
       "FloatProgress(value=0.0, bar_style='info', description='Progress:', layout=Layout(height='25px', width='50%'),…"
      ]
     },
     "metadata": {},
     "output_type": "display_data"
    }
   ],
   "source": [
    "# token = '{'f'\"username\": \"{KAGGLE_USERNAME}\", \"key\": \"{KAGGLE_KEY}\"''}'\n",
    "\n",
    "# # with open('kaggle.json', 'w') as f:\n",
    "# #     f.write(token)"
   ]
  },
  {
   "cell_type": "code",
   "execution_count": 7,
   "metadata": {
    "colab": {
     "base_uri": "https://localhost:8080/"
    },
    "id": "TEpntxZvZHOE",
    "outputId": "c8c9c5ec-0e0d-420b-f883-00f42a56fa93"
   },
   "outputs": [
    {
     "data": {
      "application/vnd.jupyter.widget-view+json": {
       "model_id": "97ca9a9a146d43a0ad902a27fc316af8",
       "version_major": 2,
       "version_minor": 0
      },
      "text/plain": [
       "VBox()"
      ]
     },
     "metadata": {},
     "output_type": "display_data"
    },
    {
     "data": {
      "application/vnd.jupyter.widget-view+json": {
       "model_id": "",
       "version_major": 2,
       "version_minor": 0
      },
      "text/plain": [
       "FloatProgress(value=0.0, bar_style='info', description='Progress:', layout=Layout(height='25px', width='50%'),…"
      ]
     },
     "metadata": {},
     "output_type": "display_data"
    }
   ],
   "source": [
    "# t = time.time()\n",
    "\n",
    "# !mkdir -p ~/.kaggle\n",
    "# !cp kaggle.json ~/.kaggle/\n",
    "# !chmod 600 ~/.kaggle/kaggle.json\n",
    "# !kaggle competitions download -c {KAGGLE_DATASET_PATH}\n",
    "\n",
    "# print('Running time', time.time() - t, 's')"
   ]
  },
  {
   "cell_type": "code",
   "execution_count": 8,
   "metadata": {
    "colab": {
     "base_uri": "https://localhost:8080/"
    },
    "id": "0Z8kZOCeaq9_",
    "outputId": "b382cc31-405e-46a2-9f3e-272a52b5b6e7"
   },
   "outputs": [
    {
     "data": {
      "application/vnd.jupyter.widget-view+json": {
       "model_id": "c3f81590a61245b4a803fafc238c8004",
       "version_major": 2,
       "version_minor": 0
      },
      "text/plain": [
       "VBox()"
      ]
     },
     "metadata": {},
     "output_type": "display_data"
    },
    {
     "data": {
      "application/vnd.jupyter.widget-view+json": {
       "model_id": "",
       "version_major": 2,
       "version_minor": 0
      },
      "text/plain": [
       "FloatProgress(value=0.0, bar_style='info', description='Progress:', layout=Layout(height='25px', width='50%'),…"
      ]
     },
     "metadata": {},
     "output_type": "display_data"
    }
   ],
   "source": [
    "# # unzip dataset files\n",
    "# t = time.time()\n",
    "\n",
    "# if os.path.exists(TRAINING_DATASET_FILENAME) == False:\n",
    "#     !unzip {TRAINING_DATASET_FILENAME}.zip\n",
    "#     !rm {TRAINING_DATASET_FILENAME}.zip\n",
    "\n",
    "# if os.path.exists(TEST_DATASET_FILENAME) == False:\n",
    "#     !unzip {TEST_DATASET_FILENAME}.zip\n",
    "#     !rm {TEST_DATASET_FILENAME}.zip\n",
    "\n",
    "# print('Running time', time.time() - t, 's')"
   ]
  },
  {
   "cell_type": "markdown",
   "metadata": {
    "id": "oG4wD4VQcy71"
   },
   "source": [
    "---"
   ]
  },
  {
   "cell_type": "markdown",
   "metadata": {
    "id": "VymmXuftUvtR"
   },
   "source": [
    "# <u>**Create Spark App**</u>"
   ]
  },
  {
   "cell_type": "code",
   "execution_count": 9,
   "metadata": {
    "colab": {
     "base_uri": "https://localhost:8080/"
    },
    "id": "nCE6d2QZEaL_",
    "outputId": "d2b3680c-5eb5-4cd1-b783-3609d752cf23"
   },
   "outputs": [
    {
     "data": {
      "application/vnd.jupyter.widget-view+json": {
       "model_id": "6e6ded80e3a0489982ef8bcf1c7f3b4a",
       "version_major": 2,
       "version_minor": 0
      },
      "text/plain": [
       "VBox()"
      ]
     },
     "metadata": {},
     "output_type": "display_data"
    },
    {
     "data": {
      "application/vnd.jupyter.widget-view+json": {
       "model_id": "",
       "version_major": 2,
       "version_minor": 0
      },
      "text/plain": [
       "FloatProgress(value=0.0, bar_style='info', description='Progress:', layout=Layout(height='25px', width='50%'),…"
      ]
     },
     "metadata": {},
     "output_type": "display_data"
    }
   ],
   "source": [
    "# PySpark applications start with initializing SparkSession which is the entry point of PySpark\n",
    "spark = SparkSession.builder.appName(SPARK_PROJECT_NAME).getOrCreate()"
   ]
  },
  {
   "cell_type": "markdown",
   "metadata": {
    "id": "De-LjRnGcoik"
   },
   "source": [
    "---"
   ]
  },
  {
   "cell_type": "markdown",
   "metadata": {
    "id": "ZRKyjfuvVOmT"
   },
   "source": [
    "# <u>**Load data**</u>"
   ]
  },
  {
   "cell_type": "code",
   "execution_count": 10,
   "metadata": {},
   "outputs": [
    {
     "data": {
      "application/vnd.jupyter.widget-view+json": {
       "model_id": "a1800095c90a416aa65f07006b64b57d",
       "version_major": 2,
       "version_minor": 0
      },
      "text/plain": [
       "VBox()"
      ]
     },
     "metadata": {},
     "output_type": "display_data"
    },
    {
     "data": {
      "application/vnd.jupyter.widget-view+json": {
       "model_id": "",
       "version_major": 2,
       "version_minor": 0
      },
      "text/plain": [
       "FloatProgress(value=0.0, bar_style='info', description='Progress:', layout=Layout(height='25px', width='50%'),…"
      ]
     },
     "metadata": {},
     "output_type": "display_data"
    },
    {
     "name": "stdout",
     "output_type": "stream",
     "text": [
      "Running time 2.54140567779541 s"
     ]
    }
   ],
   "source": [
    "t = time.time()\n",
    "\n",
    "#read a CSV file from S3 bucket into a Spark dataframe with an explicit scheme, create schema and use it to read the file\n",
    "train_schema = StructType([\n",
    "    StructField(\"key\", IntegerType()),\n",
    "    StructField(\"fare_amount\", FloatType()),\n",
    "    StructField(\"pickup_datetime\", TimestampType()), \n",
    "    StructField(\"pickup_longitude\", FloatType()),\n",
    "    StructField(\"pickup_latitude\", FloatType()),\n",
    "    StructField(\"dropoff_longitude\", FloatType()),\n",
    "    StructField(\"dropoff_latitude\", FloatType()),\n",
    "    StructField(\"passenger_count\", ByteType())\n",
    "])\n",
    "\n",
    "train_df = spark.read.format(\"csv\").option(\"header\", \"true\").schema(train_schema).option(\"TimeStampFormat\", \"yyyy-mm-dd hh:mm:ss\").load(f'{S3_BUCKET_URI}/{TRAINING_DATASET_FILENAME}')\n",
    "\n",
    "print('Running time', time.time() - t, 's')"
   ]
  },
  {
   "cell_type": "code",
   "execution_count": 11,
   "metadata": {
    "colab": {
     "base_uri": "https://localhost:8080/"
    },
    "id": "tGT8map8H3X2",
    "outputId": "ff734d65-3206-46bb-dc0a-41f30d80ee0c"
   },
   "outputs": [
    {
     "data": {
      "application/vnd.jupyter.widget-view+json": {
       "model_id": "05479d094f624ae69e1ee135fc17ea5c",
       "version_major": 2,
       "version_minor": 0
      },
      "text/plain": [
       "VBox()"
      ]
     },
     "metadata": {},
     "output_type": "display_data"
    },
    {
     "data": {
      "application/vnd.jupyter.widget-view+json": {
       "model_id": "",
       "version_major": 2,
       "version_minor": 0
      },
      "text/plain": [
       "FloatProgress(value=0.0, bar_style='info', description='Progress:', layout=Layout(height='25px', width='50%'),…"
      ]
     },
     "metadata": {},
     "output_type": "display_data"
    },
    {
     "name": "stdout",
     "output_type": "stream",
     "text": [
      "root\n",
      " |-- key: integer (nullable = true)\n",
      " |-- fare_amount: float (nullable = true)\n",
      " |-- pickup_datetime: timestamp (nullable = true)\n",
      " |-- pickup_longitude: float (nullable = true)\n",
      " |-- pickup_latitude: float (nullable = true)\n",
      " |-- dropoff_longitude: float (nullable = true)\n",
      " |-- dropoff_latitude: float (nullable = true)\n",
      " |-- passenger_count: byte (nullable = true)\n",
      "\n",
      "+---+-----------+-------------------+----------------+---------------+-----------------+----------------+---------------+\n",
      "|key|fare_amount|    pickup_datetime|pickup_longitude|pickup_latitude|dropoff_longitude|dropoff_latitude|passenger_count|\n",
      "+---+-----------+-------------------+----------------+---------------+-----------------+----------------+---------------+\n",
      "|  1|        8.5|2010-01-30 19:27:00|       -73.96539|      40.768574|       -73.998184|       40.761074|              1|\n",
      "|  2|      35.47|2010-01-10 20:02:03|      -73.967354|      40.769295|       -73.967285|       40.802975|              1|\n",
      "|  3|        6.1|2011-01-13 13:24:00|       -73.96884|      40.758278|       -73.961395|       40.768566|              1|\n",
      "|  4|        9.7|2011-01-11 19:45:14|       -73.98218|      40.774796|        -73.95431|        40.78315|              1|\n",
      "|  5|        7.7|2011-01-03 13:16:02|        -73.9778|       40.74228|       -73.998634|       40.734917|              1|\n",
      "|  6|      57.33|2013-01-29 14:35:36|       -74.00303|      40.747368|        -73.78937|       40.654743|              2|\n",
      "|  7|        7.5|2013-01-21 22:33:38|      -73.964645|      40.760117|        -73.98311|       40.734978|              1|\n",
      "|  8|        9.7|2010-01-14 15:30:42|       -73.96983|      40.757874|       -73.991295|        40.75013|              1|\n",
      "|  9|        3.7|2010-01-28 23:06:05|      -73.990974|       40.72383|        -73.98589|        40.72693|              1|\n",
      "| 10|        4.5|2011-01-17 20:49:00|      -74.002266|       40.72671|        -74.00374|        40.72248|              5|\n",
      "| 11|        4.9|2012-01-24 19:46:00|       -73.98645|       40.75191|        -73.98438|       40.760754|              1|\n",
      "| 12|        7.7|2012-01-18 13:19:00|       -73.95225|       40.76903|       -73.975746|        40.75233|              1|\n",
      "| 13|       20.0|2013-01-08 00:13:00|       -73.99183|      40.735313|         -73.9524|        40.79915|              1|\n",
      "| 14|        5.5|2013-01-10 17:10:32|       -73.96161|       40.77158|       -73.954865|        40.77789|              1|\n",
      "| 15|        6.5|2014-01-18 17:01:00|       -73.99293|       40.75801|         -74.0056|        40.73947|              1|\n",
      "| 16|        9.5|2015-01-24 17:42:18|       -74.00079|      40.716717|        -74.01393|        40.71532|              5|\n",
      "| 17|        7.7|2012-01-03 01:39:17|      -73.996216|      40.742603|         -73.9973|       40.763718|              1|\n",
      "| 18|       13.5|2013-01-27 15:42:56|       -73.98968|       40.74156|        -73.97103|       40.751522|              1|\n",
      "| 19|       10.5|2014-01-21 17:58:29|       -73.96529|      40.775135|        -73.98337|       40.758884|              1|\n",
      "| 20|       25.5|2015-01-17 20:31:04|       -73.95599|       40.76384|        -73.91965|        40.70028|              1|\n",
      "+---+-----------+-------------------+----------------+---------------+-----------------+----------------+---------------+\n",
      "only showing top 20 rows"
     ]
    }
   ],
   "source": [
    "train_df.printSchema()\n",
    "train_df.show()"
   ]
  },
  {
   "cell_type": "markdown",
   "metadata": {
    "id": "DPugRoKpckWh"
   },
   "source": [
    "---"
   ]
  },
  {
   "cell_type": "markdown",
   "metadata": {
    "id": "dfIIzP3LVB3V"
   },
   "source": [
    "# <u>**Preprocessing**</u>"
   ]
  },
  {
   "cell_type": "markdown",
   "metadata": {
    "id": "u-fjeflxUvoc"
   },
   "source": [
    "## <u>**Handling the data**</u>\n"
   ]
  },
  {
   "cell_type": "markdown",
   "metadata": {
    "id": "2gLwdsonjMa6"
   },
   "source": [
    "Handle missing or incorrect data, e.g. eliminate negative or zero fares, for example replace missing values by the average or median value or delete them. Also read the pickup time in a way that it can be used. Use imputation where applicable.\n"
   ]
  },
  {
   "cell_type": "markdown",
   "metadata": {
    "id": "eX4RiK0dKD2B"
   },
   "source": [
    "###### <u>**Cleaning the data**</u>"
   ]
  },
  {
   "cell_type": "code",
   "execution_count": 12,
   "metadata": {
    "colab": {
     "base_uri": "https://localhost:8080/"
    },
    "id": "GIS5_H9bgE0w",
    "outputId": "9bd7e17f-21f0-4d49-a811-c3855b9b77cb"
   },
   "outputs": [
    {
     "data": {
      "application/vnd.jupyter.widget-view+json": {
       "model_id": "882612e5a2754cc2a61fe903c6711188",
       "version_major": 2,
       "version_minor": 0
      },
      "text/plain": [
       "VBox()"
      ]
     },
     "metadata": {},
     "output_type": "display_data"
    },
    {
     "data": {
      "application/vnd.jupyter.widget-view+json": {
       "model_id": "",
       "version_major": 2,
       "version_minor": 0
      },
      "text/plain": [
       "FloatProgress(value=0.0, bar_style='info', description='Progress:', layout=Layout(height='25px', width='50%'),…"
      ]
     },
     "metadata": {},
     "output_type": "display_data"
    },
    {
     "name": "stdout",
     "output_type": "stream",
     "text": [
      "Running time 0.37298154830932617 s"
     ]
    }
   ],
   "source": [
    "t = time.time()\n",
    "\n",
    "# Eliminate negative or zero fares and passengers, and remove too many passengers (more than MAX_PASSENGER_COUNT)\n",
    "train_df = train_df.filter((train_df.fare_amount >= MIN_FARE_AMOUNT) & (train_df.passenger_count >= MIN_PASSENGER_COUNT) & (train_df.passenger_count <= MAX_PASSENGER_COUNT))\n",
    "\n",
    "print('Running time', time.time() - t, 's')"
   ]
  },
  {
   "cell_type": "code",
   "execution_count": 13,
   "metadata": {
    "colab": {
     "base_uri": "https://localhost:8080/"
    },
    "id": "ZU3gNc9OTXZe",
    "outputId": "309e4557-005b-481a-d7cd-ddca94fd7696"
   },
   "outputs": [
    {
     "data": {
      "application/vnd.jupyter.widget-view+json": {
       "model_id": "b09fe3f084a04c61912163b9c0987609",
       "version_major": 2,
       "version_minor": 0
      },
      "text/plain": [
       "VBox()"
      ]
     },
     "metadata": {},
     "output_type": "display_data"
    },
    {
     "data": {
      "application/vnd.jupyter.widget-view+json": {
       "model_id": "",
       "version_major": 2,
       "version_minor": 0
      },
      "text/plain": [
       "FloatProgress(value=0.0, bar_style='info', description='Progress:', layout=Layout(height='25px', width='50%'),…"
      ]
     },
     "metadata": {},
     "output_type": "display_data"
    },
    {
     "name": "stdout",
     "output_type": "stream",
     "text": [
      "Running time 0.03942584991455078 s"
     ]
    }
   ],
   "source": [
    "t = time.time()\n",
    "\n",
    "# Eliminate rows with coordinates with value zero\n",
    "train_df = train_df.filter((train_df.pickup_longitude != 0) & (train_df.pickup_latitude != 0) & (train_df.dropoff_longitude != 0) & (train_df.dropoff_latitude != 0))\n",
    "\n",
    "print('Running time', time.time() - t, 's')"
   ]
  },
  {
   "cell_type": "markdown",
   "metadata": {
    "id": "ibEB0tiihJH2"
   },
   "source": [
    "###### <u>**Setting values in range for max fare amount**</u>"
   ]
  },
  {
   "cell_type": "code",
   "execution_count": 14,
   "metadata": {
    "colab": {
     "base_uri": "https://localhost:8080/"
    },
    "id": "5F8EPzoKhIis",
    "outputId": "10d0b83e-b08a-4414-b0e5-7291edb56c78"
   },
   "outputs": [
    {
     "data": {
      "application/vnd.jupyter.widget-view+json": {
       "model_id": "153a5a89004344369698d9f1e76409b3",
       "version_major": 2,
       "version_minor": 0
      },
      "text/plain": [
       "VBox()"
      ]
     },
     "metadata": {},
     "output_type": "display_data"
    },
    {
     "data": {
      "application/vnd.jupyter.widget-view+json": {
       "model_id": "",
       "version_major": 2,
       "version_minor": 0
      },
      "text/plain": [
       "FloatProgress(value=0.0, bar_style='info', description='Progress:', layout=Layout(height='25px', width='50%'),…"
      ]
     },
     "metadata": {},
     "output_type": "display_data"
    },
    {
     "name": "stdout",
     "output_type": "stream",
     "text": [
      "Running time 0.0766139030456543 s"
     ]
    }
   ],
   "source": [
    "t = time.time()\n",
    "\n",
    "train_df = train_df.withColumn('fare_amount', when(col('fare_amount') < MAX_FARE_AMOUNT, col('fare_amount')).otherwise(MAX_FARE_AMOUNT))\n",
    "\n",
    "print('Running time', time.time() - t, 's')"
   ]
  },
  {
   "cell_type": "markdown",
   "metadata": {
    "id": "Gy1-kkHkjtfu"
   },
   "source": [
    "###### <u>**Filtering legal locations**</u>"
   ]
  },
  {
   "cell_type": "code",
   "execution_count": 15,
   "metadata": {
    "id": "Re60dbB3jWNG"
   },
   "outputs": [
    {
     "data": {
      "application/vnd.jupyter.widget-view+json": {
       "model_id": "3b1cb4a1bbcd449c9e9555ccc0215b00",
       "version_major": 2,
       "version_minor": 0
      },
      "text/plain": [
       "VBox()"
      ]
     },
     "metadata": {},
     "output_type": "display_data"
    },
    {
     "data": {
      "application/vnd.jupyter.widget-view+json": {
       "model_id": "",
       "version_major": 2,
       "version_minor": 0
      },
      "text/plain": [
       "FloatProgress(value=0.0, bar_style='info', description='Progress:', layout=Layout(height='25px', width='50%'),…"
      ]
     },
     "metadata": {},
     "output_type": "display_data"
    },
    {
     "name": "stdout",
     "output_type": "stream",
     "text": [
      "Running time 0.17694520950317383 s"
     ]
    }
   ],
   "source": [
    "t = time.time()\n",
    "\n",
    "## legal locations:\n",
    "location_conditions = (col(\"pickup_longitude\") != 0) & (col(\"pickup_latitude\") != 0) & \\\n",
    "                      (col(\"dropoff_longitude\") != 0) & (col(\"dropoff_latitude\") != 0) & \\\n",
    "                      ((col(\"pickup_longitude\") != col(\"dropoff_longitude\")) | (col(\"pickup_latitude\") != col(\"dropoff_latitude\"))) & \\\n",
    "                      (col(\"pickup_longitude\") > -180) & (col(\"pickup_longitude\") < 180) & \\\n",
    "                      (col(\"pickup_latitude\") > -90) & (col(\"pickup_latitude\") < 90) & \\\n",
    "                      (col(\"dropoff_longitude\") > -180) & (col(\"dropoff_longitude\") < 180) & \\\n",
    "                      (col(\"dropoff_latitude\") > -90) & (col(\"dropoff_latitude\") < 90)\n",
    "\n",
    "train_df = train_df.filter(location_conditions)\n",
    "\n",
    "print('Running time', time.time() - t, 's')"
   ]
  },
  {
   "cell_type": "markdown",
   "metadata": {
    "id": "kwdMetk8R_vQ"
   },
   "source": [
    "###### <u>**Removing NULLs and NANs**</u>"
   ]
  },
  {
   "cell_type": "code",
   "execution_count": 16,
   "metadata": {
    "id": "p9yNCaBweUOx"
   },
   "outputs": [
    {
     "data": {
      "application/vnd.jupyter.widget-view+json": {
       "model_id": "21fbcf3e28d84dc0abff18dee1a6b377",
       "version_major": 2,
       "version_minor": 0
      },
      "text/plain": [
       "VBox()"
      ]
     },
     "metadata": {},
     "output_type": "display_data"
    },
    {
     "data": {
      "application/vnd.jupyter.widget-view+json": {
       "model_id": "",
       "version_major": 2,
       "version_minor": 0
      },
      "text/plain": [
       "FloatProgress(value=0.0, bar_style='info', description='Progress:', layout=Layout(height='25px', width='50%'),…"
      ]
     },
     "metadata": {},
     "output_type": "display_data"
    }
   ],
   "source": [
    "# uncomment to show the number of NaN/null values per column\n",
    "# train_df.select([count(when(isnan(c) | col(c).isNull(), c)).alias(c) for c in train_df.columns]).show()"
   ]
  },
  {
   "cell_type": "code",
   "execution_count": 17,
   "metadata": {
    "colab": {
     "base_uri": "https://localhost:8080/"
    },
    "id": "807onafMib83",
    "outputId": "f5898573-fb3f-4838-b3af-541b4e0ab49d"
   },
   "outputs": [
    {
     "data": {
      "application/vnd.jupyter.widget-view+json": {
       "model_id": "8029fd5b052d4380bd281e9bed439047",
       "version_major": 2,
       "version_minor": 0
      },
      "text/plain": [
       "VBox()"
      ]
     },
     "metadata": {},
     "output_type": "display_data"
    },
    {
     "data": {
      "application/vnd.jupyter.widget-view+json": {
       "model_id": "",
       "version_major": 2,
       "version_minor": 0
      },
      "text/plain": [
       "FloatProgress(value=0.0, bar_style='info', description='Progress:', layout=Layout(height='25px', width='50%'),…"
      ]
     },
     "metadata": {},
     "output_type": "display_data"
    },
    {
     "name": "stdout",
     "output_type": "stream",
     "text": [
      "+---+-----------+-------------------+----------------+---------------+-----------------+----------------+---------------+\n",
      "|key|fare_amount|pickup_datetime    |pickup_longitude|pickup_latitude|dropoff_longitude|dropoff_latitude|passenger_count|\n",
      "+---+-----------+-------------------+----------------+---------------+-----------------+----------------+---------------+\n",
      "|1  |8.5        |2010-01-30 19:27:00|-73.96539       |40.768574      |-73.998184       |40.761074       |1              |\n",
      "|2  |35.47      |2010-01-10 20:02:03|-73.967354      |40.769295      |-73.967285       |40.802975       |1              |\n",
      "|3  |6.1        |2011-01-13 13:24:00|-73.96884       |40.758278      |-73.961395       |40.768566       |1              |\n",
      "|4  |9.7        |2011-01-11 19:45:14|-73.98218       |40.774796      |-73.95431        |40.78315        |1              |\n",
      "|5  |7.7        |2011-01-03 13:16:02|-73.9778        |40.74228       |-73.998634       |40.734917       |1              |\n",
      "|6  |57.33      |2013-01-29 14:35:36|-74.00303       |40.747368      |-73.78937        |40.654743       |2              |\n",
      "|7  |7.5        |2013-01-21 22:33:38|-73.964645      |40.760117      |-73.98311        |40.734978       |1              |\n",
      "|8  |9.7        |2010-01-14 15:30:42|-73.96983       |40.757874      |-73.991295       |40.75013        |1              |\n",
      "|9  |3.7        |2010-01-28 23:06:05|-73.990974      |40.72383       |-73.98589        |40.72693        |1              |\n",
      "|10 |4.5        |2011-01-17 20:49:00|-74.002266      |40.72671       |-74.00374        |40.72248        |5              |\n",
      "|11 |4.9        |2012-01-24 19:46:00|-73.98645       |40.75191       |-73.98438        |40.760754       |1              |\n",
      "|12 |7.7        |2012-01-18 13:19:00|-73.95225       |40.76903       |-73.975746       |40.75233        |1              |\n",
      "|13 |20.0       |2013-01-08 00:13:00|-73.99183       |40.735313      |-73.9524         |40.79915        |1              |\n",
      "|14 |5.5        |2013-01-10 17:10:32|-73.96161       |40.77158       |-73.954865       |40.77789        |1              |\n",
      "|15 |6.5        |2014-01-18 17:01:00|-73.99293       |40.75801       |-74.0056         |40.73947        |1              |\n",
      "|16 |9.5        |2015-01-24 17:42:18|-74.00079       |40.716717      |-74.01393        |40.71532        |5              |\n",
      "|17 |7.7        |2012-01-03 01:39:17|-73.996216      |40.742603      |-73.9973         |40.763718       |1              |\n",
      "|18 |13.5       |2013-01-27 15:42:56|-73.98968       |40.74156       |-73.97103        |40.751522       |1              |\n",
      "|19 |10.5       |2014-01-21 17:58:29|-73.96529       |40.775135      |-73.98337        |40.758884       |1              |\n",
      "|20 |25.5       |2015-01-17 20:31:04|-73.95599       |40.76384       |-73.91965        |40.70028        |1              |\n",
      "+---+-----------+-------------------+----------------+---------------+-----------------+----------------+---------------+\n",
      "only showing top 20 rows\n",
      "\n",
      "Running time 2.641782522201538 s"
     ]
    }
   ],
   "source": [
    "# remove missing values (although there aren't any, we keep it for future datasets)\n",
    "t = time.time()\n",
    "\n",
    "train_df.na.drop(how=\"any\").show(truncate=False)\n",
    "\n",
    "print('Running time', time.time() - t, 's')"
   ]
  },
  {
   "cell_type": "markdown",
   "metadata": {
    "id": "8F9bxoDaBbDi"
   },
   "source": [
    "###### <u>**Casting \"passenger_count\" column to integer values**</u>"
   ]
  },
  {
   "cell_type": "code",
   "execution_count": 18,
   "metadata": {
    "colab": {
     "base_uri": "https://localhost:8080/"
    },
    "id": "Dg8y5VYKBaoo",
    "outputId": "3e61607c-d455-4a01-e292-844b3e9d5c6f"
   },
   "outputs": [
    {
     "data": {
      "application/vnd.jupyter.widget-view+json": {
       "model_id": "582da8e74c7e4fb9a1c49c95d69697b9",
       "version_major": 2,
       "version_minor": 0
      },
      "text/plain": [
       "VBox()"
      ]
     },
     "metadata": {},
     "output_type": "display_data"
    },
    {
     "data": {
      "application/vnd.jupyter.widget-view+json": {
       "model_id": "",
       "version_major": 2,
       "version_minor": 0
      },
      "text/plain": [
       "FloatProgress(value=0.0, bar_style='info', description='Progress:', layout=Layout(height='25px', width='50%'),…"
      ]
     },
     "metadata": {},
     "output_type": "display_data"
    },
    {
     "name": "stdout",
     "output_type": "stream",
     "text": [
      "Running time 0.013888120651245117 s"
     ]
    }
   ],
   "source": [
    "t = time.time()\n",
    "\n",
    "train_df = train_df.withColumn(\"passenger_count\", train_df[\"passenger_count\"].cast(IntegerType()))\n",
    "\n",
    "print('Running time', time.time() - t, 's')"
   ]
  },
  {
   "cell_type": "markdown",
   "metadata": {
    "id": "7_aZj6jKfG-B"
   },
   "source": [
    "###### <u>**Casting coordinates columns (\"pickup_longitude\", \"pickup_latitude\", \"dropoff_longitude\", \"dropoff_latitude\") to floats**</u>"
   ]
  },
  {
   "cell_type": "code",
   "execution_count": 19,
   "metadata": {
    "colab": {
     "base_uri": "https://localhost:8080/"
    },
    "id": "r55CdKWHfE6_",
    "outputId": "999098d9-19ae-4474-9180-4401320e03b1"
   },
   "outputs": [
    {
     "data": {
      "application/vnd.jupyter.widget-view+json": {
       "model_id": "e67aa63b2dc84e17a3d3dbdd947181d6",
       "version_major": 2,
       "version_minor": 0
      },
      "text/plain": [
       "VBox()"
      ]
     },
     "metadata": {},
     "output_type": "display_data"
    },
    {
     "data": {
      "application/vnd.jupyter.widget-view+json": {
       "model_id": "",
       "version_major": 2,
       "version_minor": 0
      },
      "text/plain": [
       "FloatProgress(value=0.0, bar_style='info', description='Progress:', layout=Layout(height='25px', width='50%'),…"
      ]
     },
     "metadata": {},
     "output_type": "display_data"
    },
    {
     "name": "stdout",
     "output_type": "stream",
     "text": [
      "Running time 0.26501917839050293 s"
     ]
    }
   ],
   "source": [
    "t = time.time()\n",
    "\n",
    "for col_name in COORDINATES_COLUMNS:\n",
    "    train_df = train_df.withColumn(col_name, col(col_name).cast('float'))\n",
    "\n",
    "print('Running time', time.time() - t, 's')"
   ]
  },
  {
   "cell_type": "markdown",
   "metadata": {
    "id": "BWR8lo9pi7SL"
   },
   "source": [
    "## <u>**Adding \"high_fare\" column**</u>\n"
   ]
  },
  {
   "cell_type": "markdown",
   "metadata": {
    "id": "Xlk5SlcKUHq0"
   },
   "source": [
    "Create a new boolean column “high_fare” for the training set from the fare amount (i.e. if fair is < 10 or >= 10). Use it as the label (dependent variable) for your classification model. Ignore the fare amount in the rest of this project, unless you want to try a regression model as an extra challenge:\n"
   ]
  },
  {
   "cell_type": "code",
   "execution_count": 20,
   "metadata": {
    "colab": {
     "base_uri": "https://localhost:8080/"
    },
    "id": "nEjiWAbNi6tt",
    "outputId": "d7dccbcc-a86b-4a2e-f6a7-16b80df31c68"
   },
   "outputs": [
    {
     "data": {
      "application/vnd.jupyter.widget-view+json": {
       "model_id": "4ebae11ca56f496a910cc1644de2663a",
       "version_major": 2,
       "version_minor": 0
      },
      "text/plain": [
       "VBox()"
      ]
     },
     "metadata": {},
     "output_type": "display_data"
    },
    {
     "data": {
      "application/vnd.jupyter.widget-view+json": {
       "model_id": "",
       "version_major": 2,
       "version_minor": 0
      },
      "text/plain": [
       "FloatProgress(value=0.0, bar_style='info', description='Progress:', layout=Layout(height='25px', width='50%'),…"
      ]
     },
     "metadata": {},
     "output_type": "display_data"
    },
    {
     "name": "stdout",
     "output_type": "stream",
     "text": [
      "Running time 0.08125829696655273 s"
     ]
    }
   ],
   "source": [
    "t = time.time()\n",
    "\n",
    "train_df = train_df.withColumn(\n",
    "    'high_fare',\n",
    "    when((col('fare_amount') < FARE_AMOUNT_THRESHOLD), 0).otherwise(1)\n",
    ")\n",
    "\n",
    "print('Running time', time.time() - t, 's')"
   ]
  },
  {
   "cell_type": "markdown",
   "metadata": {
    "id": "eqpDiDalchGV"
   },
   "source": [
    "---"
   ]
  },
  {
   "cell_type": "markdown",
   "metadata": {
    "id": "sIzwFltAYoz9"
   },
   "source": [
    "# <u>**Feature Engineering**</u>"
   ]
  },
  {
   "cell_type": "markdown",
   "metadata": {
    "id": "seBqN62BWAXN"
   },
   "source": [
    "For example, create a ride_length feature that calculates the straight line distance of the ride. Also consider how to create useful features from the pickup time, such as day of week, hour of the day etc (search e.g. [here](https://spark.apache.org/docs/latest/api/java/index.html?org/apache/spark/sql/functions.html))."
   ]
  },
  {
   "cell_type": "markdown",
   "metadata": {
    "id": "82QZ-7jErKNi"
   },
   "source": [
    "### 1.   Convert UTC time to NYC time -> \"local_pickup_datetime\" feature"
   ]
  },
  {
   "cell_type": "code",
   "execution_count": 21,
   "metadata": {
    "colab": {
     "base_uri": "https://localhost:8080/"
    },
    "id": "OqAfXJR7uVK3",
    "outputId": "326ea578-8ebf-4cbc-bd1a-80280f67cdd1"
   },
   "outputs": [
    {
     "data": {
      "application/vnd.jupyter.widget-view+json": {
       "model_id": "db3d037080f0421cb3309270863da0dc",
       "version_major": 2,
       "version_minor": 0
      },
      "text/plain": [
       "VBox()"
      ]
     },
     "metadata": {},
     "output_type": "display_data"
    },
    {
     "data": {
      "application/vnd.jupyter.widget-view+json": {
       "model_id": "",
       "version_major": 2,
       "version_minor": 0
      },
      "text/plain": [
       "FloatProgress(value=0.0, bar_style='info', description='Progress:', layout=Layout(height='25px', width='50%'),…"
      ]
     },
     "metadata": {},
     "output_type": "display_data"
    },
    {
     "name": "stdout",
     "output_type": "stream",
     "text": [
      "Running time 0.011722803115844727 s"
     ]
    }
   ],
   "source": [
    "t = time.time()\n",
    "\n",
    "# http://spark.apache.org/docs/3.1.1/api/python/reference/api/pyspark.sql.functions.from_utc_timestamp.html\n",
    "train_df = train_df.withColumn('local_pickup_datetime', from_utc_timestamp(\"pickup_datetime\", \"America/New_York\"))\n",
    "\n",
    "print('Running time', time.time() - t, 's')"
   ]
  },
  {
   "cell_type": "markdown",
   "metadata": {
    "id": "2rrkJVEecVp1"
   },
   "source": [
    "### 2.   Adding \"pickup_hour\" feature"
   ]
  },
  {
   "cell_type": "code",
   "execution_count": 22,
   "metadata": {
    "colab": {
     "base_uri": "https://localhost:8080/"
    },
    "id": "uxEjD8pScJ_Q",
    "outputId": "3f312553-56ae-42ce-c09d-3ec8d767a2dc"
   },
   "outputs": [
    {
     "data": {
      "application/vnd.jupyter.widget-view+json": {
       "model_id": "a5c21b9ca4f74a62b385602b5656c37f",
       "version_major": 2,
       "version_minor": 0
      },
      "text/plain": [
       "VBox()"
      ]
     },
     "metadata": {},
     "output_type": "display_data"
    },
    {
     "data": {
      "application/vnd.jupyter.widget-view+json": {
       "model_id": "",
       "version_major": 2,
       "version_minor": 0
      },
      "text/plain": [
       "FloatProgress(value=0.0, bar_style='info', description='Progress:', layout=Layout(height='25px', width='50%'),…"
      ]
     },
     "metadata": {},
     "output_type": "display_data"
    },
    {
     "name": "stdout",
     "output_type": "stream",
     "text": [
      "Running time 0.014793872833251953 s"
     ]
    }
   ],
   "source": [
    "t = time.time()\n",
    "\n",
    "train_df = train_df.withColumn(\"pickup_hour\", hour(col(\"local_pickup_datetime\")))\n",
    "\n",
    "print('Running time', time.time() - t, 's')"
   ]
  },
  {
   "cell_type": "markdown",
   "metadata": {
    "id": "pBMVTwOpKbjK"
   },
   "source": [
    "### 3.   Adding \"day\" feature"
   ]
  },
  {
   "cell_type": "code",
   "execution_count": 23,
   "metadata": {
    "colab": {
     "base_uri": "https://localhost:8080/"
    },
    "id": "hqJp747GMdWf",
    "outputId": "8e407c2c-d73b-45a8-f2d1-fb67c12869ed"
   },
   "outputs": [
    {
     "data": {
      "application/vnd.jupyter.widget-view+json": {
       "model_id": "da2a053a103945e6865fa17e2e4c0fbe",
       "version_major": 2,
       "version_minor": 0
      },
      "text/plain": [
       "VBox()"
      ]
     },
     "metadata": {},
     "output_type": "display_data"
    },
    {
     "data": {
      "application/vnd.jupyter.widget-view+json": {
       "model_id": "",
       "version_major": 2,
       "version_minor": 0
      },
      "text/plain": [
       "FloatProgress(value=0.0, bar_style='info', description='Progress:', layout=Layout(height='25px', width='50%'),…"
      ]
     },
     "metadata": {},
     "output_type": "display_data"
    },
    {
     "name": "stdout",
     "output_type": "stream",
     "text": [
      "Running time 0.01300501823425293 s"
     ]
    }
   ],
   "source": [
    "t = time.time()\n",
    "\n",
    "train_df = train_df.withColumn(\"day\", date_format(col(\"local_pickup_datetime\"), \"EEEE\"))\n",
    "\n",
    "print('Running time', time.time() - t, 's')"
   ]
  },
  {
   "cell_type": "markdown",
   "metadata": {
    "id": "sRmePiEhSIPD"
   },
   "source": [
    "### 4. Adding \"holiday\" feature"
   ]
  },
  {
   "cell_type": "markdown",
   "metadata": {
    "id": "9lTVWkc5kbQ0"
   },
   "source": [
    "We are assuming that the ride fare during holiday/weekend is higher than business days."
   ]
  },
  {
   "cell_type": "code",
   "execution_count": 24,
   "metadata": {
    "colab": {
     "base_uri": "https://localhost:8080/"
    },
    "id": "h3Lc75XvSHpC",
    "outputId": "04a9aa34-da1f-45a2-fccb-48216cdddbd0"
   },
   "outputs": [
    {
     "data": {
      "application/vnd.jupyter.widget-view+json": {
       "model_id": "0507488144114418ac50a439c8c28332",
       "version_major": 2,
       "version_minor": 0
      },
      "text/plain": [
       "VBox()"
      ]
     },
     "metadata": {},
     "output_type": "display_data"
    },
    {
     "data": {
      "application/vnd.jupyter.widget-view+json": {
       "model_id": "",
       "version_major": 2,
       "version_minor": 0
      },
      "text/plain": [
       "FloatProgress(value=0.0, bar_style='info', description='Progress:', layout=Layout(height='25px', width='50%'),…"
      ]
     },
     "metadata": {},
     "output_type": "display_data"
    },
    {
     "name": "stdout",
     "output_type": "stream",
     "text": [
      "Running time 0.05564713478088379 s"
     ]
    }
   ],
   "source": [
    "t = time.time()\n",
    "\n",
    "max_date = datetime.now()\n",
    "min_date = datetime.strptime(\"2008-01-01\", '%Y-%m-%d') # Uber was founded in ~2008, so we assume there is no earlier data\n",
    "\n",
    "cal = calendar()\n",
    "holidays = cal.holidays(start=min_date, end=max_date)\n",
    "holidays = [date.strftime('%Y-%m-%d') for date in holidays]\n",
    "# print(len(holidays))\n",
    "\n",
    "print('Running time', time.time() - t, 's')"
   ]
  },
  {
   "cell_type": "code",
   "execution_count": 25,
   "metadata": {
    "id": "_jhUbHVrfCnP"
   },
   "outputs": [
    {
     "data": {
      "application/vnd.jupyter.widget-view+json": {
       "model_id": "99db1ff3b69c446d8f1438be2a1ef664",
       "version_major": 2,
       "version_minor": 0
      },
      "text/plain": [
       "VBox()"
      ]
     },
     "metadata": {},
     "output_type": "display_data"
    },
    {
     "data": {
      "application/vnd.jupyter.widget-view+json": {
       "model_id": "",
       "version_major": 2,
       "version_minor": 0
      },
      "text/plain": [
       "FloatProgress(value=0.0, bar_style='info', description='Progress:', layout=Layout(height='25px', width='50%'),…"
      ]
     },
     "metadata": {},
     "output_type": "display_data"
    },
    {
     "name": "stdout",
     "output_type": "stream",
     "text": [
      "Running time 0.7593319416046143 s"
     ]
    }
   ],
   "source": [
    "t = time.time()\n",
    "\n",
    "train_df = train_df.withColumn(\"holiday_or_weekend\", when(date_format(col(\"local_pickup_datetime\"), 'yyyy-MM-dd').isin(holidays) , 1).when(col('day').isin(WEEKEND), 1).otherwise(0))\n",
    "\n",
    "print('Running time', time.time() - t, 's')"
   ]
  },
  {
   "cell_type": "markdown",
   "metadata": {
    "id": "VQWwwTzuuxyt"
   },
   "source": [
    "### 5. Adding feature: \"fare_length\" (distance in KM)"
   ]
  },
  {
   "cell_type": "code",
   "execution_count": 26,
   "metadata": {
    "id": "qXKP7_Vjf5sJ"
   },
   "outputs": [
    {
     "data": {
      "application/vnd.jupyter.widget-view+json": {
       "model_id": "e11e13202e52431ab484ca9a129712e8",
       "version_major": 2,
       "version_minor": 0
      },
      "text/plain": [
       "VBox()"
      ]
     },
     "metadata": {},
     "output_type": "display_data"
    },
    {
     "data": {
      "application/vnd.jupyter.widget-view+json": {
       "model_id": "",
       "version_major": 2,
       "version_minor": 0
      },
      "text/plain": [
       "FloatProgress(value=0.0, bar_style='info', description='Progress:', layout=Layout(height='25px', width='50%'),…"
      ]
     },
     "metadata": {},
     "output_type": "display_data"
    }
   ],
   "source": [
    "def haversine(lon1, lat1, lon2, lat2):\n",
    "    '''\n",
    "    Haversine formula\n",
    "    https://en.wikipedia.org/wiki/Haversine_formula\n",
    "    '''\n",
    "    r = 6373.0 # approximate radius of earth in kilometers. Use 3956 for miles\n",
    "    dLat = F.radians(lat2 - lat1)\n",
    "    dLon = F.radians(lon2 - lon1)\n",
    "    lat1 = F.radians(lat1)\n",
    "    lat2 = F.radians(lat2)\n",
    "    a = F.sin(dLat/2) ** 2 + F.cos(lat1) * F.cos(lat2) * F.sin(dLon/2) **2\n",
    "    c = 2*F.asin(F.sqrt(a))\n",
    "\n",
    "    return c * r"
   ]
  },
  {
   "cell_type": "code",
   "execution_count": 27,
   "metadata": {
    "colab": {
     "base_uri": "https://localhost:8080/"
    },
    "id": "QqjafmhZiPeN",
    "outputId": "3423e2b4-9e72-4ec9-ab16-d8f67d891018"
   },
   "outputs": [
    {
     "data": {
      "application/vnd.jupyter.widget-view+json": {
       "model_id": "2b9046b70450417f8802d2bae2146700",
       "version_major": 2,
       "version_minor": 0
      },
      "text/plain": [
       "VBox()"
      ]
     },
     "metadata": {},
     "output_type": "display_data"
    },
    {
     "data": {
      "application/vnd.jupyter.widget-view+json": {
       "model_id": "",
       "version_major": 2,
       "version_minor": 0
      },
      "text/plain": [
       "FloatProgress(value=0.0, bar_style='info', description='Progress:', layout=Layout(height='25px', width='50%'),…"
      ]
     },
     "metadata": {},
     "output_type": "display_data"
    },
    {
     "name": "stdout",
     "output_type": "stream",
     "text": [
      "Running time 0.16010069847106934 s"
     ]
    }
   ],
   "source": [
    "t = time.time()\n",
    "\n",
    "train_df = train_df.withColumn(\"ride_length\", haversine(col(\"pickup_longitude\"), col(\"pickup_latitude\"), col(\"dropoff_longitude\"), col(\"dropoff_latitude\")))\n",
    "\n",
    "print('Running time', time.time() - t, 's')"
   ]
  },
  {
   "cell_type": "markdown",
   "metadata": {
    "id": "Is6yL1j75YXy"
   },
   "source": [
    "### 6. Check if ride to/from JFK airport or LaGuardia"
   ]
  },
  {
   "cell_type": "code",
   "execution_count": 28,
   "metadata": {
    "id": "AL3MJzd85h1O"
   },
   "outputs": [
    {
     "data": {
      "application/vnd.jupyter.widget-view+json": {
       "model_id": "74481d384fbc42b6b3b80712d397be39",
       "version_major": 2,
       "version_minor": 0
      },
      "text/plain": [
       "VBox()"
      ]
     },
     "metadata": {},
     "output_type": "display_data"
    },
    {
     "data": {
      "application/vnd.jupyter.widget-view+json": {
       "model_id": "",
       "version_major": 2,
       "version_minor": 0
      },
      "text/plain": [
       "FloatProgress(value=0.0, bar_style='info', description='Progress:', layout=Layout(height='25px', width='50%'),…"
      ]
     },
     "metadata": {},
     "output_type": "display_data"
    }
   ],
   "source": [
    "def is_airport_ride(pickup_longitude, pickup_latitude, dropoff_longitude, dropoff_latitude,\n",
    "                    test_JFK_longitude, test_JFK_latitude, test_LaGuardia_longitude, test_LaGuardia_latitude):\n",
    "    '''\n",
    "    Check if ride started or ended within a given radius (in KM) from the local airport.\n",
    "    Here, we use hardcoded coordinates values for JFK airport in NYC,\n",
    "    and we assume that it affects the ride's fare (probably \"high_fare\" == 1)\n",
    "\n",
    "    radius: should be given as a float in kilometers\n",
    "    '''\n",
    "\n",
    "    radius = 1.00\n",
    "\n",
    "    JFK_pickup_location = haversine(pickup_longitude, pickup_latitude, test_JFK_longitude, test_JFK_latitude)\n",
    "    JFK_dropoff_location = haversine(dropoff_longitude, dropoff_latitude, test_JFK_longitude, test_JFK_latitude)\n",
    "\n",
    "    LaGuardia_pickup_location = haversine(pickup_longitude, pickup_latitude, test_JFK_longitude, test_JFK_latitude)\n",
    "    LaGuardia_dropoff_location = haversine(dropoff_longitude, dropoff_latitude, test_JFK_longitude, test_JFK_latitude)\n",
    "    \n",
    "    JFK_res = (JFK_pickup_location <= radius).cast('int') + (JFK_dropoff_location <= radius).cast('int')\n",
    "    LaGuardia_res = (LaGuardia_pickup_location <= radius).cast('int') + (LaGuardia_dropoff_location <= radius).cast('int')\n",
    "    \n",
    "    res = JFK_res + LaGuardia_res\n",
    "\n",
    "    return res"
   ]
  },
  {
   "cell_type": "code",
   "execution_count": 29,
   "metadata": {
    "id": "ai_7Rxx6ylZr"
   },
   "outputs": [
    {
     "data": {
      "application/vnd.jupyter.widget-view+json": {
       "model_id": "57a4259a34ac4f2aaca38cb03e18fb3f",
       "version_major": 2,
       "version_minor": 0
      },
      "text/plain": [
       "VBox()"
      ]
     },
     "metadata": {},
     "output_type": "display_data"
    },
    {
     "data": {
      "application/vnd.jupyter.widget-view+json": {
       "model_id": "",
       "version_major": 2,
       "version_minor": 0
      },
      "text/plain": [
       "FloatProgress(value=0.0, bar_style='info', description='Progress:', layout=Layout(height='25px', width='50%'),…"
      ]
     },
     "metadata": {},
     "output_type": "display_data"
    },
    {
     "name": "stdout",
     "output_type": "stream",
     "text": [
      "Running time 0.03323626518249512 s"
     ]
    }
   ],
   "source": [
    "t = time.time()\n",
    "\n",
    "train_df = train_df.withColumn('test_JFK_longitude', lit(JFK_COORDINATES['longitude']))\n",
    "train_df = train_df.withColumn('test_JFK_latitude', lit(JFK_COORDINATES['latitude']))\n",
    "\n",
    "train_df = train_df.withColumn('test_LaGuardia_longitude', lit(LaGuardia_COORDINATES['longitude']))\n",
    "train_df = train_df.withColumn('test_LaGuardia_latitude', lit(LaGuardia_COORDINATES['latitude']))\n",
    "\n",
    "print('Running time', time.time() - t, 's')"
   ]
  },
  {
   "cell_type": "code",
   "execution_count": 30,
   "metadata": {
    "colab": {
     "base_uri": "https://localhost:8080/"
    },
    "id": "gdfy0zRBCbjg",
    "outputId": "e5be6e93-7b6a-499d-cfe5-33b7fd7d7cc8"
   },
   "outputs": [
    {
     "data": {
      "application/vnd.jupyter.widget-view+json": {
       "model_id": "156ec8682de842ccb9173bc0fe5a5cd1",
       "version_major": 2,
       "version_minor": 0
      },
      "text/plain": [
       "VBox()"
      ]
     },
     "metadata": {},
     "output_type": "display_data"
    },
    {
     "data": {
      "application/vnd.jupyter.widget-view+json": {
       "model_id": "",
       "version_major": 2,
       "version_minor": 0
      },
      "text/plain": [
       "FloatProgress(value=0.0, bar_style='info', description='Progress:', layout=Layout(height='25px', width='50%'),…"
      ]
     },
     "metadata": {},
     "output_type": "display_data"
    },
    {
     "name": "stdout",
     "output_type": "stream",
     "text": [
      "Running time 0.411083459854126 s"
     ]
    }
   ],
   "source": [
    "t = time.time()\n",
    "\n",
    "train_df = train_df.withColumn(\"is_airport_ride\", is_airport_ride(col(\"pickup_longitude\"), col(\"pickup_latitude\"), col(\"dropoff_longitude\"), col(\"dropoff_latitude\"),\n",
    "                                                                  col(\"test_JFK_longitude\"), col(\"test_JFK_latitude\"), col(\"test_LaGuardia_longitude\"), col(\"test_LaGuardia_latitude\")\n",
    "                                                                 )).drop('test_JFK_longitude', 'test_JFK_latitude', 'test_LaGuardia_longitude', 'test_LaGuardia_latitude')\n",
    "train_df = train_df.withColumn(\"is_airport_ride\", when(col('is_airport_ride') >= 1, 1).otherwise(0))\n",
    "\n",
    "print('Running time', time.time() - t, 's')"
   ]
  },
  {
   "cell_type": "code",
   "execution_count": 31,
   "metadata": {},
   "outputs": [
    {
     "data": {
      "application/vnd.jupyter.widget-view+json": {
       "model_id": "177f0fd6856a4cfcbab6ebe1fdb98f1e",
       "version_major": 2,
       "version_minor": 0
      },
      "text/plain": [
       "VBox()"
      ]
     },
     "metadata": {},
     "output_type": "display_data"
    },
    {
     "data": {
      "application/vnd.jupyter.widget-view+json": {
       "model_id": "",
       "version_major": 2,
       "version_minor": 0
      },
      "text/plain": [
       "FloatProgress(value=0.0, bar_style='info', description='Progress:', layout=Layout(height='25px', width='50%'),…"
      ]
     },
     "metadata": {},
     "output_type": "display_data"
    }
   ],
   "source": [
    "# See how many rides are to/from the airports\n",
    "# train_df.filter(train_df.is_airport_ride == 1).count()"
   ]
  },
  {
   "cell_type": "markdown",
   "metadata": {
    "id": "qeoyANWXScPk"
   },
   "source": [
    "### 7. Adding features \"google_maps_estimate_distance_km\" & \"google_maps_estimate_duration_min\""
   ]
  },
  {
   "cell_type": "markdown",
   "metadata": {},
   "source": [
    "Estimate the ride_length (distance and time) from Google Maps, for better predictions.<br>\n",
    "<i>Since it was expensive (5$ per 1000 entries) and we ran out of budget quickly, we decided to put this feature on hold (in a comment), but to keep the code for future use.</i>"
   ]
  },
  {
   "cell_type": "code",
   "execution_count": 32,
   "metadata": {
    "id": "nI70-8R2ZWaW"
   },
   "outputs": [
    {
     "data": {
      "application/vnd.jupyter.widget-view+json": {
       "model_id": "90195a964f4e4488a8ab0f800d82a5b8",
       "version_major": 2,
       "version_minor": 0
      },
      "text/plain": [
       "VBox()"
      ]
     },
     "metadata": {},
     "output_type": "display_data"
    },
    {
     "data": {
      "application/vnd.jupyter.widget-view+json": {
       "model_id": "",
       "version_major": 2,
       "version_minor": 0
      },
      "text/plain": [
       "FloatProgress(value=0.0, bar_style='info', description='Progress:', layout=Layout(height='25px', width='50%'),…"
      ]
     },
     "metadata": {},
     "output_type": "display_data"
    }
   ],
   "source": [
    "# !pip install googlemaps\n",
    "# !pip install polyline\n",
    "\n",
    "# import googlemaps\n",
    "\n",
    "def get_estimation(origin_latitude, origin_longitude, destination_latitude, destination_longitude, title):\n",
    "    '''\n",
    "    Get estimated time and length of ride using the the ride's coordinates, using Google Maps\n",
    "    '''\n",
    "\n",
    "    gmaps = googlemaps.Client(key=GOOGLE_API_KEY)\n",
    "    estimate = gmaps.distance_matrix([str(origin_latitude) + \" \" + str(origin_longitude)], [str(destination_latitude) + \" \" + str(destination_longitude)], mode='driving')['rows'][0]['elements'][0]\n",
    "    \n",
    "    if title == \"google_maps_estimate_distance_km\":\n",
    "        variable_estimate = estimate['distance']['value'] / 1000\n",
    "    else:\n",
    "        variable_estimate = estimate['duration']['value'] / 60\n",
    "\n",
    "    return variable_estimate"
   ]
  },
  {
   "cell_type": "code",
   "execution_count": 33,
   "metadata": {
    "id": "wD4SzmsYSaOv"
   },
   "outputs": [
    {
     "data": {
      "application/vnd.jupyter.widget-view+json": {
       "model_id": "97ba30bd72184cd2860dbc3ba41a37d7",
       "version_major": 2,
       "version_minor": 0
      },
      "text/plain": [
       "VBox()"
      ]
     },
     "metadata": {},
     "output_type": "display_data"
    },
    {
     "data": {
      "application/vnd.jupyter.widget-view+json": {
       "model_id": "",
       "version_major": 2,
       "version_minor": 0
      },
      "text/plain": [
       "FloatProgress(value=0.0, bar_style='info', description='Progress:', layout=Layout(height='25px', width='50%'),…"
      ]
     },
     "metadata": {},
     "output_type": "display_data"
    }
   ],
   "source": [
    "# Cancelled since API is very expensicve\n",
    "# get_estimation_func = udf(lambda a,b,c,d,e: get_estimation(a,b,c,d,e), StringType())\n",
    "# train_df = train_df.withColumn('google_maps_estimate_distance_km', get_estimation_func(train_df.pickup_latitude, train_df.pickup_longitude, train_df.dropoff_latitude, train_df.dropoff_longitude, lit(\"google_maps_estimate_distance_km\")))\n",
    "# train_df = train_df.withColumn('google_maps_estimate_duration_min', get_estimation_func(train_df.pickup_latitude, train_df.pickup_longitude, train_df.dropoff_latitude, train_df.dropoff_longitude, lit(\"google_maps_estimate_duration_min\")))"
   ]
  },
  {
   "cell_type": "markdown",
   "metadata": {
    "id": "qKx1XCsz3u6F"
   },
   "source": [
    "### Eliminate unreasonable (negative/zero/very-large ride lengths)"
   ]
  },
  {
   "cell_type": "code",
   "execution_count": 34,
   "metadata": {
    "colab": {
     "base_uri": "https://localhost:8080/"
    },
    "id": "Nf_OdFXpkLEj",
    "outputId": "27e05300-8ae9-4fa0-bd67-9da9476f6e88"
   },
   "outputs": [
    {
     "data": {
      "application/vnd.jupyter.widget-view+json": {
       "model_id": "a0b62143f7cb451097dfb55eab13d2bc",
       "version_major": 2,
       "version_minor": 0
      },
      "text/plain": [
       "VBox()"
      ]
     },
     "metadata": {},
     "output_type": "display_data"
    },
    {
     "data": {
      "application/vnd.jupyter.widget-view+json": {
       "model_id": "",
       "version_major": 2,
       "version_minor": 0
      },
      "text/plain": [
       "FloatProgress(value=0.0, bar_style='info', description='Progress:', layout=Layout(height='25px', width='50%'),…"
      ]
     },
     "metadata": {},
     "output_type": "display_data"
    },
    {
     "name": "stdout",
     "output_type": "stream",
     "text": [
      "Running time 0.015146493911743164 s"
     ]
    }
   ],
   "source": [
    "t = time.time()\n",
    "\n",
    "train_df = train_df.filter((train_df.ride_length >= MIN_RIDE_LENGTH) & (train_df.ride_length <= MAX_RIDE_LENGTH))\n",
    "\n",
    "print('Running time', time.time() - t, 's')"
   ]
  },
  {
   "cell_type": "code",
   "execution_count": 35,
   "metadata": {
    "colab": {
     "base_uri": "https://localhost:8080/"
    },
    "id": "VrmaHAYeZX05",
    "outputId": "03c2833d-71e8-4897-f39c-e0f7778b0f16"
   },
   "outputs": [
    {
     "data": {
      "application/vnd.jupyter.widget-view+json": {
       "model_id": "d7c02d0d108c4e79ab4d86fc0741b124",
       "version_major": 2,
       "version_minor": 0
      },
      "text/plain": [
       "VBox()"
      ]
     },
     "metadata": {},
     "output_type": "display_data"
    },
    {
     "data": {
      "application/vnd.jupyter.widget-view+json": {
       "model_id": "",
       "version_major": 2,
       "version_minor": 0
      },
      "text/plain": [
       "FloatProgress(value=0.0, bar_style='info', description='Progress:', layout=Layout(height='25px', width='50%'),…"
      ]
     },
     "metadata": {},
     "output_type": "display_data"
    },
    {
     "name": "stdout",
     "output_type": "stream",
     "text": [
      "+---+-----------+-------------------+----------------+---------------+-----------------+----------------+---------------+---------+---------------------+-----------+---------+------------------+------------------+---------------+\n",
      "|key|fare_amount|    pickup_datetime|pickup_longitude|pickup_latitude|dropoff_longitude|dropoff_latitude|passenger_count|high_fare|local_pickup_datetime|pickup_hour|      day|holiday_or_weekend|       ride_length|is_airport_ride|\n",
      "+---+-----------+-------------------+----------------+---------------+-----------------+----------------+---------------+---------+---------------------+-----------+---------+------------------+------------------+---------------+\n",
      "|  1|        8.5|2010-01-30 19:27:00|       -73.96539|      40.768574|       -73.998184|       40.761074|              1|        0|  2010-01-30 14:27:00|         14| Saturday|                 1|2.8856935406747497|              0|\n",
      "|  2|      35.47|2010-01-10 20:02:03|      -73.967354|      40.769295|       -73.967285|       40.802975|              1|        1|  2010-01-10 15:02:03|         15|   Sunday|                 1| 3.746221037294605|              0|\n",
      "|  3|        6.1|2011-01-13 13:24:00|       -73.96884|      40.758278|       -73.961395|       40.768566|              1|        0|  2011-01-13 08:24:00|          8| Thursday|                 0| 1.305027101210579|              0|\n",
      "|  4|        9.7|2011-01-11 19:45:14|       -73.98218|      40.774796|        -73.95431|        40.78315|              1|        0|  2011-01-11 14:45:14|         14|  Tuesday|                 0|2.5246540874266454|              0|\n",
      "|  5|        7.7|2011-01-03 13:16:02|        -73.9778|       40.74228|       -73.998634|       40.734917|              1|        0|  2011-01-03 08:16:02|          8|   Monday|                 0|1.9375753928003476|              0|\n",
      "|  6|      57.33|2013-01-29 14:35:36|       -74.00303|      40.747368|        -73.78937|       40.654743|              2|        1|  2013-01-29 09:35:36|          9|  Tuesday|                 0|20.754796995958774|              0|\n",
      "|  7|        7.5|2013-01-21 22:33:38|      -73.964645|      40.760117|        -73.98311|       40.734978|              1|        0|  2013-01-21 17:33:38|         17|   Monday|                 1|3.1998897676313094|              0|\n",
      "|  8|        9.7|2010-01-14 15:30:42|       -73.96983|      40.757874|       -73.991295|        40.75013|              1|        0|  2010-01-14 10:30:42|         10| Thursday|                 0|2.0029804556501407|              0|\n",
      "| 12|        7.7|2012-01-18 13:19:00|       -73.95225|       40.76903|       -73.975746|        40.75233|              1|        0|  2012-01-18 08:19:00|          8|Wednesday|                 0|2.7148110701728156|              0|\n",
      "| 13|       20.0|2013-01-08 00:13:00|       -73.99183|      40.735313|         -73.9524|        40.79915|              1|        1|  2013-01-07 19:13:00|         19|   Monday|                 0| 7.838877400815635|              0|\n",
      "| 15|        6.5|2014-01-18 17:01:00|       -73.99293|       40.75801|         -74.0056|        40.73947|              1|        0|  2014-01-18 12:01:00|         12| Saturday|                 1|  2.32222068412961|              0|\n",
      "| 16|        9.5|2015-01-24 17:42:18|       -74.00079|      40.716717|        -74.01393|        40.71532|              5|        0|  2015-01-24 12:42:18|         12| Saturday|                 1| 1.118442337419641|              0|\n",
      "| 17|        7.7|2012-01-03 01:39:17|      -73.996216|      40.742603|         -73.9973|       40.763718|              1|        0|  2012-01-02 20:39:17|         20|   Monday|                 1|2.3503189515640237|              0|\n",
      "| 18|       13.5|2013-01-27 15:42:56|       -73.98968|       40.74156|        -73.97103|       40.751522|              1|        1|  2013-01-27 10:42:56|         10|   Sunday|                 1|1.9225790208854348|              0|\n",
      "| 19|       10.5|2014-01-21 17:58:29|       -73.96529|      40.775135|        -73.98337|       40.758884|              1|        1|  2014-01-21 12:58:29|         12|  Tuesday|                 0|2.3637910589600737|              0|\n",
      "| 20|       25.5|2015-01-17 20:31:04|       -73.95599|       40.76384|        -73.91965|        40.70028|              1|        1|  2015-01-17 15:31:04|         15| Saturday|                 1| 7.705031672899402|              0|\n",
      "| 21|        6.1|2010-01-22 13:21:04|       -73.97063|       40.78829|       -73.953316|        40.78682|              1|        0|  2010-01-22 08:21:04|          8|   Friday|                 0|1.4669989071812453|              0|\n",
      "| 23|       22.5|2013-01-02 09:44:00|       -73.87129|       40.73402|        -73.97676|       40.700443|              1|        1|  2013-01-02 04:44:00|          4|Wednesday|                 0|  9.64409596888401|              0|\n",
      "| 25|        4.9|2011-01-03 14:16:49|       -73.98557|      40.744034|        -73.97883|        40.75419|              1|        0|  2011-01-03 09:16:49|          9|   Monday|                 0|  1.26442523404538|              0|\n",
      "| 26|       12.1|2012-01-03 11:24:00|       -74.01148|      40.703716|        -74.00637|       40.738678|              1|        1|  2012-01-03 06:24:00|          6|  Tuesday|                 0| 3.912586315482644|              0|\n",
      "+---+-----------+-------------------+----------------+---------------+-----------------+----------------+---------------+---------+---------------------+-----------+---------+------------------+------------------+---------------+\n",
      "only showing top 20 rows"
     ]
    }
   ],
   "source": [
    "train_df.show()"
   ]
  },
  {
   "cell_type": "markdown",
   "metadata": {
    "id": "WbMqXpyzc8iV"
   },
   "source": [
    "---"
   ]
  },
  {
   "cell_type": "markdown",
   "metadata": {
    "id": "3XEJr1CIVZO4"
   },
   "source": [
    "# <u>**Visualization**</u>"
   ]
  },
  {
   "cell_type": "markdown",
   "metadata": {
    "id": "IzL7mJhZV9aj"
   },
   "source": [
    "Use plot or plotly with a Pandas dataframe (or another plotting package) to create the following plots (with a sample of 10,000):\n",
    "1.   Distribution of ride fairs.\n",
    "2.   Ride fare vs. ride length.\n",
    "3.   Average ride length per pickup hour of the day (x-axis = 24 hours)."
   ]
  },
  {
   "cell_type": "code",
   "execution_count": 36,
   "metadata": {
    "id": "mJX2SRuUYG44"
   },
   "outputs": [
    {
     "data": {
      "application/vnd.jupyter.widget-view+json": {
       "model_id": "199bdfd06e5b4b2b9f88af4777223437",
       "version_major": 2,
       "version_minor": 0
      },
      "text/plain": [
       "VBox()"
      ]
     },
     "metadata": {},
     "output_type": "display_data"
    },
    {
     "data": {
      "application/vnd.jupyter.widget-view+json": {
       "model_id": "",
       "version_major": 2,
       "version_minor": 0
      },
      "text/plain": [
       "FloatProgress(value=0.0, bar_style='info', description='Progress:', layout=Layout(height='25px', width='50%'),…"
      ]
     },
     "metadata": {},
     "output_type": "display_data"
    }
   ],
   "source": [
    "# get 10K data entries into a DF\n",
    "sample_size = 10000\n",
    "small_df = train_df.limit(sample_size)\n",
    "small_pd = small_df.toPandas()"
   ]
  },
  {
   "cell_type": "markdown",
   "metadata": {},
   "source": [
    "**Results can be seen [here](https://docs.google.com/document/d/1PgItufUSFI7U0r7QNizOjVTAqobejBYDhPj__k3kwYw/edit?usp=sharing)**"
   ]
  },
  {
   "cell_type": "code",
   "execution_count": 37,
   "metadata": {},
   "outputs": [
    {
     "data": {
      "application/vnd.jupyter.widget-view+json": {
       "model_id": "d47bf8c065724b2f8fe825351b741515",
       "version_major": 2,
       "version_minor": 0
      },
      "text/plain": [
       "VBox()"
      ]
     },
     "metadata": {},
     "output_type": "display_data"
    },
    {
     "data": {
      "application/vnd.jupyter.widget-view+json": {
       "model_id": "",
       "version_major": 2,
       "version_minor": 0
      },
      "text/plain": [
       "FloatProgress(value=0.0, bar_style='info', description='Progress:', layout=Layout(height='25px', width='50%'),…"
      ]
     },
     "metadata": {},
     "output_type": "display_data"
    }
   ],
   "source": [
    "# import matplotlib.pyplot as plt\n",
    "\n",
    "# # 1. Distribution of ride fairs\n",
    "# small_df.fare_amount.hist(bins=90, edgecolor='black', color='red', figsize=(12,7))\n",
    "# plt.title('Distribution of ride fairs', fontsize=17)\n",
    "# plt.xlabel('fare_amount ($ US)', fontsize=15)\n",
    "# plt.ylabel('Count', fontsize=15)\n",
    "# plt.show()\n",
    "# print('\\n')\n",
    "\n",
    "# # 2. Ride fare vs. ride length\n",
    "# small_df.plot(kind='scatter', x='fare_amount', y='ride_length', marker='o', alpha=0.4, color='green', figsize=(12,7))\n",
    "# plt.title('Ride fare vs. Ride length - Scatter Plot', fontsize=17)\n",
    "# plt.xlabel('fare_amount ($ US)', fontsize=15)\n",
    "# plt.ylabel('ride_length (KM)', fontsize=15)\n",
    "# plt.show()\n",
    "# print('\\n')\n",
    "\n",
    "# # 3. Average ride length per pickup hour of the day (x-axis = 24 hours)\n",
    "# small_df.groupby(['pickup_hour'])['ride_length'].mean().plot.bar(color='blue', figsize=(12,7))\n",
    "# plt.title('Average ride length per pick up time hour of the day', fontsize=17)\n",
    "# plt.xlabel('pickup_hour', fontsize=15)\n",
    "# plt.ylabel('Average ride length (KM)', fontsize=15)\n",
    "# plt.show()"
   ]
  },
  {
   "cell_type": "markdown",
   "metadata": {},
   "source": [
    "**Plotly is not supported with PySpark Kernel on EMR, so we attach our results as images below. <br>\n",
    "If you run the notebook locally, you can comment-out the cells below and use the library on your own data.**"
   ]
  },
  {
   "cell_type": "code",
   "execution_count": 38,
   "metadata": {
    "colab": {
     "base_uri": "https://localhost:8080/"
    },
    "id": "dIbIOa882cmq",
    "outputId": "b0d401bb-9780-49d2-a4e4-c2bedf322a0e"
   },
   "outputs": [
    {
     "data": {
      "application/vnd.jupyter.widget-view+json": {
       "model_id": "fd2c6ee21bbd4b9f9456603ba2af5a4c",
       "version_major": 2,
       "version_minor": 0
      },
      "text/plain": [
       "VBox()"
      ]
     },
     "metadata": {},
     "output_type": "display_data"
    },
    {
     "data": {
      "application/vnd.jupyter.widget-view+json": {
       "model_id": "",
       "version_major": 2,
       "version_minor": 0
      },
      "text/plain": [
       "FloatProgress(value=0.0, bar_style='info', description='Progress:', layout=Layout(height='25px', width='50%'),…"
      ]
     },
     "metadata": {},
     "output_type": "display_data"
    }
   ],
   "source": [
    "# !pip install chart-studio\n",
    "# sc.install_pypi_package(\"chart-studio\")"
   ]
  },
  {
   "cell_type": "code",
   "execution_count": 39,
   "metadata": {
    "id": "J_6mVEL92dTd"
   },
   "outputs": [
    {
     "data": {
      "application/vnd.jupyter.widget-view+json": {
       "model_id": "ee567bd575814abba340f1a281692f11",
       "version_major": 2,
       "version_minor": 0
      },
      "text/plain": [
       "VBox()"
      ]
     },
     "metadata": {},
     "output_type": "display_data"
    },
    {
     "data": {
      "application/vnd.jupyter.widget-view+json": {
       "model_id": "",
       "version_major": 2,
       "version_minor": 0
      },
      "text/plain": [
       "FloatProgress(value=0.0, bar_style='info', description='Progress:', layout=Layout(height='25px', width='50%'),…"
      ]
     },
     "metadata": {},
     "output_type": "display_data"
    }
   ],
   "source": [
    "# from chart_studio.plotly import plot, iplot\n",
    "# import plotly.graph_objects as go\n",
    "# import plotly.express as px"
   ]
  },
  {
   "cell_type": "markdown",
   "metadata": {
    "id": "Lramc_cCTo0b"
   },
   "source": [
    "### 1.   Distribution of ride fairs"
   ]
  },
  {
   "cell_type": "code",
   "execution_count": 40,
   "metadata": {
    "colab": {
     "base_uri": "https://localhost:8080/"
    },
    "id": "BGRhrDkRO9Qj",
    "outputId": "e1a534c2-0945-4742-97ac-d3a776a26d43"
   },
   "outputs": [
    {
     "data": {
      "application/vnd.jupyter.widget-view+json": {
       "model_id": "afcd3b4855eb4dffb2b535cfdfaa9224",
       "version_major": 2,
       "version_minor": 0
      },
      "text/plain": [
       "VBox()"
      ]
     },
     "metadata": {},
     "output_type": "display_data"
    },
    {
     "data": {
      "application/vnd.jupyter.widget-view+json": {
       "model_id": "",
       "version_major": 2,
       "version_minor": 0
      },
      "text/plain": [
       "FloatProgress(value=0.0, bar_style='info', description='Progress:', layout=Layout(height='25px', width='50%'),…"
      ]
     },
     "metadata": {},
     "output_type": "display_data"
    }
   ],
   "source": [
    "# fare_amount_list = np.array(small_df.select('fare_amount').collect()).reshape(-1)\n",
    "# fig = go.Figure(data=[go.Histogram(x=fare_amount_list)])\n",
    "\n",
    "# fig.update_layout(\n",
    "#     title={\n",
    "#         'text':\"Distribution of ride fairs\",\n",
    "#         'y':0.9,\n",
    "#         'x':0.5,\n",
    "#         'xanchor': 'center',\n",
    "#         'yanchor':'top'\n",
    "#         },\n",
    "#     xaxis_title=\"fare_amount ($ US)\",\n",
    "#     yaxis_title=\"Count\")\n",
    "\n",
    "# fig.show()"
   ]
  },
  {
   "attachments": {
    "1.png": {
     "image/png": "[encoded data removed]"
    }
   },
   "cell_type": "markdown",
   "metadata": {},
   "source": [
    "![1.png](attachment:1.png)"
   ]
  },
  {
   "cell_type": "markdown",
   "metadata": {
    "id": "NzOShye8XIxz"
   },
   "source": [
    "According to these 10K entries, we see that the distribution is left-skewed, meaning, the majority of rides fares are less than 20$."
   ]
  },
  {
   "cell_type": "markdown",
   "metadata": {
    "id": "fCY5rn0-TwG8"
   },
   "source": [
    "### 2.   Ride fare vs. ride length"
   ]
  },
  {
   "cell_type": "code",
   "execution_count": 41,
   "metadata": {
    "colab": {
     "base_uri": "https://localhost:8080/",
     "height": 542
    },
    "id": "w5El9qLdXzo5",
    "outputId": "f692842f-f111-445d-c3a6-72bafb8a25bf"
   },
   "outputs": [
    {
     "data": {
      "application/vnd.jupyter.widget-view+json": {
       "model_id": "84fbe809bca1437c95bb856b3e6518b8",
       "version_major": 2,
       "version_minor": 0
      },
      "text/plain": [
       "VBox()"
      ]
     },
     "metadata": {},
     "output_type": "display_data"
    },
    {
     "data": {
      "application/vnd.jupyter.widget-view+json": {
       "model_id": "",
       "version_major": 2,
       "version_minor": 0
      },
      "text/plain": [
       "FloatProgress(value=0.0, bar_style='info', description='Progress:', layout=Layout(height='25px', width='50%'),…"
      ]
     },
     "metadata": {},
     "output_type": "display_data"
    }
   ],
   "source": [
    "# ride_length_list = np.array(small_df.select('ride_length').collect()).reshape(-1)\n",
    "# fig = go.Figure(data=go.Scatter(x=fare_amount_list, y=ride_length_list, mode='markers'))\n",
    "\n",
    "# fig.update_layout(\n",
    "#     title={\n",
    "#         'text':\"Ride fare vs. Ride length - Scatter Plot\",\n",
    "#         'y':0.9,\n",
    "#         'x':0.5,\n",
    "#         'xanchor': 'center',\n",
    "#         'yanchor': 'top'\n",
    "#         },\n",
    "#     xaxis_title=\"fare_amount ($ US)\",\n",
    "#     yaxis_title=\"ride_length (KM)\"\n",
    "# )\n",
    "\n",
    "# fig.show()"
   ]
  },
  {
   "attachments": {
    "2.png": {
     "image/png": "[encoded data removed]"
    }
   },
   "cell_type": "markdown",
   "metadata": {},
   "source": [
    "![2.png](attachment:2.png)"
   ]
  },
  {
   "cell_type": "markdown",
   "metadata": {
    "id": "5ZOVZ_KUZV16"
   },
   "source": [
    "It seems like there is some positive correlation between the fare cost and the length of the rides - this makes sense of course!\n",
    "We spot some outliers in the data:\n",
    "1.   30\\$ for a 90KM ride\n",
    "2.   50\\$ for a 97KM ride\n",
    "3.   100\\$ for 20-24KM rides"
   ]
  },
  {
   "cell_type": "markdown",
   "metadata": {
    "id": "F4LsyUIOT0TN"
   },
   "source": [
    "### 3.   Average ride length per pickup hour of the day (x-axis = 24 hours)"
   ]
  },
  {
   "cell_type": "code",
   "execution_count": 42,
   "metadata": {
    "colab": {
     "base_uri": "https://localhost:8080/",
     "height": 542
    },
    "id": "kXE9l5MKTdTz",
    "outputId": "3954224a-6a8d-4fec-fc58-41387bbec519"
   },
   "outputs": [
    {
     "data": {
      "application/vnd.jupyter.widget-view+json": {
       "model_id": "451499a9c7d646fd8d2a957527027a76",
       "version_major": 2,
       "version_minor": 0
      },
      "text/plain": [
       "VBox()"
      ]
     },
     "metadata": {},
     "output_type": "display_data"
    },
    {
     "data": {
      "application/vnd.jupyter.widget-view+json": {
       "model_id": "",
       "version_major": 2,
       "version_minor": 0
      },
      "text/plain": [
       "FloatProgress(value=0.0, bar_style='info', description='Progress:', layout=Layout(height='25px', width='50%'),…"
      ]
     },
     "metadata": {},
     "output_type": "display_data"
    }
   ],
   "source": [
    "# fig = px.histogram(small_pd, x=\"pickup_hour\", y=\"ride_length\", histfunc=\"avg\", title=\"Average ride length (in KM) per pick up time hour of the day (x-axis = 24 hours)\")\n",
    "# fig.update_traces(xbins_size=\"M1\")\n",
    "# fig.update_xaxes(showgrid=True)\n",
    "# fig.update_layout(bargap=0.1)\n",
    "# fig.add_trace(go.Scatter(mode=\"markers\", x=small_pd[\"pickup_hour\"], y=small_pd[\"ride_length\"], name=\"daily\"))\n",
    "# fig.show()"
   ]
  },
  {
   "attachments": {
    "3.png": {
     "image/png": "[encoded data removed]"
    }
   },
   "cell_type": "markdown",
   "metadata": {},
   "source": [
    "![3.png](attachment:3.png)"
   ]
  },
  {
   "cell_type": "markdown",
   "metadata": {
    "id": "mGwmqesqZcTm"
   },
   "source": [
    "We can see that the average ride length is largest at 1AM (\\~5.9KM) and smallest at 6AM (\\~3.2KM)."
   ]
  },
  {
   "cell_type": "code",
   "execution_count": 43,
   "metadata": {
    "colab": {
     "base_uri": "https://localhost:8080/"
    },
    "id": "GjLA6Db36sai",
    "outputId": "ec71a342-f14e-4389-9f42-f7fea1f8878b"
   },
   "outputs": [
    {
     "data": {
      "application/vnd.jupyter.widget-view+json": {
       "model_id": "64e86f37b8c942d5a1399234b688f065",
       "version_major": 2,
       "version_minor": 0
      },
      "text/plain": [
       "VBox()"
      ]
     },
     "metadata": {},
     "output_type": "display_data"
    },
    {
     "data": {
      "application/vnd.jupyter.widget-view+json": {
       "model_id": "",
       "version_major": 2,
       "version_minor": 0
      },
      "text/plain": [
       "FloatProgress(value=0.0, bar_style='info', description='Progress:', layout=Layout(height='25px', width='50%'),…"
      ]
     },
     "metadata": {},
     "output_type": "display_data"
    },
    {
     "name": "stdout",
     "output_type": "stream",
     "text": [
      "The total average ride length is 3.844665684523211 KM\n",
      "Running time 1.0497324466705322 s"
     ]
    }
   ],
   "source": [
    "t = time.time()\n",
    "\n",
    "total_average_ride_length = np.mean(np.array(small_df.select('ride_length').collect()).reshape(-1).astype(np.float))\n",
    "print(f'The total average ride length is {total_average_ride_length} KM')\n",
    "\n",
    "print('Running time', time.time() - t, 's')"
   ]
  },
  {
   "cell_type": "markdown",
   "metadata": {
    "id": "ZA_OY0wcc_PU"
   },
   "source": [
    "---"
   ]
  },
  {
   "cell_type": "markdown",
   "metadata": {
    "id": "GlChPmw2rJ3j"
   },
   "source": [
    "# <u>**Get final vector for model**</u>"
   ]
  },
  {
   "cell_type": "code",
   "execution_count": 44,
   "metadata": {
    "id": "jYDvESTsrGqg"
   },
   "outputs": [
    {
     "data": {
      "application/vnd.jupyter.widget-view+json": {
       "model_id": "1418d102e6b242a9ae6e4f118bb48edd",
       "version_major": 2,
       "version_minor": 0
      },
      "text/plain": [
       "VBox()"
      ]
     },
     "metadata": {},
     "output_type": "display_data"
    },
    {
     "data": {
      "application/vnd.jupyter.widget-view+json": {
       "model_id": "",
       "version_major": 2,
       "version_minor": 0
      },
      "text/plain": [
       "FloatProgress(value=0.0, bar_style='info', description='Progress:', layout=Layout(height='25px', width='50%'),…"
      ]
     },
     "metadata": {},
     "output_type": "display_data"
    },
    {
     "name": "stdout",
     "output_type": "stream",
     "text": [
      "Running time 0.024101972579956055 s"
     ]
    }
   ],
   "source": [
    "# Here, we decide which features to keep for model's training\n",
    "\n",
    "t = time.time()\n",
    "\n",
    "FINAL_COLUMNS = [\"high_fare\", \"passenger_count\", \"ride_length\", \n",
    "                 \"is_airport_ride\",\n",
    "                 \"pickup_hour\", \"holiday_or_weekend\"]\n",
    "\n",
    "final_df = train_df.select(*FINAL_COLUMNS)\n",
    "\n",
    "feature_cols = final_df.columns\n",
    "feature_cols.remove(\"high_fare\")\n",
    "\n",
    "print('Running time', time.time() - t, 's')"
   ]
  },
  {
   "cell_type": "code",
   "execution_count": 45,
   "metadata": {
    "colab": {
     "base_uri": "https://localhost:8080/"
    },
    "id": "QIR8tRh8_N-7",
    "outputId": "1e9705c6-eb79-4bdc-eb13-d6ebaa72bcab"
   },
   "outputs": [
    {
     "data": {
      "application/vnd.jupyter.widget-view+json": {
       "model_id": "d179f61c223d41dba90aeefd095b4d30",
       "version_major": 2,
       "version_minor": 0
      },
      "text/plain": [
       "VBox()"
      ]
     },
     "metadata": {},
     "output_type": "display_data"
    },
    {
     "data": {
      "application/vnd.jupyter.widget-view+json": {
       "model_id": "",
       "version_major": 2,
       "version_minor": 0
      },
      "text/plain": [
       "FloatProgress(value=0.0, bar_style='info', description='Progress:', layout=Layout(height='25px', width='50%'),…"
      ]
     },
     "metadata": {},
     "output_type": "display_data"
    },
    {
     "name": "stdout",
     "output_type": "stream",
     "text": [
      "Running time 0.18874406814575195 s"
     ]
    }
   ],
   "source": [
    "t = time.time()\n",
    "\n",
    "feature_cols = final_df.columns\n",
    "feature_cols.remove(\"high_fare\")\n",
    "\n",
    "# import the vector assembler\n",
    "assembler = VectorAssembler(inputCols=feature_cols, outputCol=\"features\")\n",
    "\n",
    "# Now let us use the transform method to transform our dataset\n",
    "final_df = assembler.transform(final_df)\n",
    "\n",
    "print('Running time', time.time() - t, 's')"
   ]
  },
  {
   "cell_type": "markdown",
   "metadata": {
    "id": "TccUXaDl-3dv"
   },
   "source": [
    "# <u>**Scaling the data**</u>"
   ]
  },
  {
   "cell_type": "code",
   "execution_count": 46,
   "metadata": {
    "colab": {
     "base_uri": "https://localhost:8080/"
    },
    "id": "uSCx8W2Q-11G",
    "outputId": "00e39205-bb05-405f-cae9-1127bac9fe81"
   },
   "outputs": [
    {
     "data": {
      "application/vnd.jupyter.widget-view+json": {
       "model_id": "b21afce3741a48baa59586b76e1f3dc7",
       "version_major": 2,
       "version_minor": 0
      },
      "text/plain": [
       "VBox()"
      ]
     },
     "metadata": {},
     "output_type": "display_data"
    },
    {
     "data": {
      "application/vnd.jupyter.widget-view+json": {
       "model_id": "",
       "version_major": 2,
       "version_minor": 0
      },
      "text/plain": [
       "FloatProgress(value=0.0, bar_style='info', description='Progress:', layout=Layout(height='25px', width='50%'),…"
      ]
     },
     "metadata": {},
     "output_type": "display_data"
    },
    {
     "name": "stdout",
     "output_type": "stream",
     "text": [
      "Running time 27.214700937271118 s"
     ]
    }
   ],
   "source": [
    "t = time.time()\n",
    "\n",
    "minmax_scaler = MinMaxScaler().setInputCol(\"features\").setOutputCol(\"scaled_features\")\n",
    "minmax_model = minmax_scaler.fit(final_df) \n",
    "final_df = minmax_model.transform(final_df)\n",
    "\n",
    "print('Running time', time.time() - t, 's')"
   ]
  },
  {
   "cell_type": "markdown",
   "metadata": {
    "id": "Nu-0EqkRVeo2"
   },
   "source": [
    "# <u>**Splitting the data to training and validation sets**</u>"
   ]
  },
  {
   "cell_type": "markdown",
   "metadata": {
    "id": "qAYyMCpLV2m-"
   },
   "source": [
    "Train your models using 80% of the training set, keeping 20% aside for validation (or cross-validation). Then test the models on the validation set. Output the model results - print the confusion matrix."
   ]
  },
  {
   "cell_type": "code",
   "execution_count": 47,
   "metadata": {
    "colab": {
     "base_uri": "https://localhost:8080/"
    },
    "id": "O4hcSqhIGbj-",
    "outputId": "8e788aa6-f58d-4814-c932-765ca0fe78de"
   },
   "outputs": [
    {
     "data": {
      "application/vnd.jupyter.widget-view+json": {
       "model_id": "7a9cc75383bf4b6c883a6a1e692dec57",
       "version_major": 2,
       "version_minor": 0
      },
      "text/plain": [
       "VBox()"
      ]
     },
     "metadata": {},
     "output_type": "display_data"
    },
    {
     "data": {
      "application/vnd.jupyter.widget-view+json": {
       "model_id": "",
       "version_major": 2,
       "version_minor": 0
      },
      "text/plain": [
       "FloatProgress(value=0.0, bar_style='info', description='Progress:', layout=Layout(height='25px', width='50%'),…"
      ]
     },
     "metadata": {},
     "output_type": "display_data"
    },
    {
     "name": "stdout",
     "output_type": "stream",
     "text": [
      "Running time 0.023552417755126953 s"
     ]
    }
   ],
   "source": [
    "t = time.time()\n",
    "\n",
    "train_data, validation_data = final_df.randomSplit([0.8, 0.2], seed=10)\n",
    "# train_data = final_df\n",
    "\n",
    "print('Running time', time.time() - t, 's')"
   ]
  },
  {
   "cell_type": "markdown",
   "metadata": {
    "id": "7E19wU3tkj1w"
   },
   "source": [
    "# <u>**Save final_df, train_data & validation_data to csv files in Google Drive (optional)**</u>"
   ]
  },
  {
   "cell_type": "markdown",
   "metadata": {},
   "source": [
    "Can be used when running locally with pyhton kernel"
   ]
  },
  {
   "cell_type": "code",
   "execution_count": 48,
   "metadata": {
    "id": "B1o7ksrHuRQo"
   },
   "outputs": [
    {
     "data": {
      "application/vnd.jupyter.widget-view+json": {
       "model_id": "4a5478ed57b44f76a2198fc5404aaf6d",
       "version_major": 2,
       "version_minor": 0
      },
      "text/plain": [
       "VBox()"
      ]
     },
     "metadata": {},
     "output_type": "display_data"
    },
    {
     "data": {
      "application/vnd.jupyter.widget-view+json": {
       "model_id": "",
       "version_major": 2,
       "version_minor": 0
      },
      "text/plain": [
       "FloatProgress(value=0.0, bar_style='info', description='Progress:', layout=Layout(height='25px', width='50%'),…"
      ]
     },
     "metadata": {},
     "output_type": "display_data"
    }
   ],
   "source": [
    "# from google.colab import drive\n",
    "# drive.mount('/content/drive')"
   ]
  },
  {
   "cell_type": "code",
   "execution_count": 49,
   "metadata": {
    "id": "hzK-vCqFszXP"
   },
   "outputs": [
    {
     "data": {
      "application/vnd.jupyter.widget-view+json": {
       "model_id": "6e29026dd4064c18a61746af9559a252",
       "version_major": 2,
       "version_minor": 0
      },
      "text/plain": [
       "VBox()"
      ]
     },
     "metadata": {},
     "output_type": "display_data"
    },
    {
     "data": {
      "application/vnd.jupyter.widget-view+json": {
       "model_id": "",
       "version_major": 2,
       "version_minor": 0
      },
      "text/plain": [
       "FloatProgress(value=0.0, bar_style='info', description='Progress:', layout=Layout(height='25px', width='50%'),…"
      ]
     },
     "metadata": {},
     "output_type": "display_data"
    }
   ],
   "source": [
    "# # Write the DataFrame to CSV file.\n",
    "# with open(f'{PROJECT_FOLDER_PATH}/{FINAL_DF_FILENAME}', 'w') as f:\n",
    "#     final_df.toPandas().to_csv(f, header=True, index=False)\n",
    "\n",
    "# with open(f'{PROJECT_FOLDER_PATH}/{FINAL_TRAINING_DATASET_FILENAME}', 'w') as f:\n",
    "#     train_data.toPandas().to_csv(f, header=True, index=False)\n",
    "\n",
    "# with open(f'{PROJECT_FOLDER_PATH}/{FINAL_VALIDATION_DATASET_FILENAME}', 'w') as f:\n",
    "#     validation_data.toPandas().to_csv(f, header=True, index=False)"
   ]
  },
  {
   "cell_type": "markdown",
   "metadata": {
    "id": "ju0SHtQAkfKh"
   },
   "source": [
    "# <u>**Load final_df, train_data & validation_data from csv files saved in Google Drive (optional)**</u>"
   ]
  },
  {
   "cell_type": "markdown",
   "metadata": {
    "id": "jWqSndr74JQS"
   },
   "source": [
    "Run the following sections before moving forward:\n",
    "- Imports\n",
    "- Constants\n",
    "- Create Spark App"
   ]
  },
  {
   "cell_type": "code",
   "execution_count": 50,
   "metadata": {
    "id": "HWHaCdT01csL"
   },
   "outputs": [
    {
     "data": {
      "application/vnd.jupyter.widget-view+json": {
       "model_id": "6122813eb7ea40e1aa9cc97a59e94d85",
       "version_major": 2,
       "version_minor": 0
      },
      "text/plain": [
       "VBox()"
      ]
     },
     "metadata": {},
     "output_type": "display_data"
    },
    {
     "data": {
      "application/vnd.jupyter.widget-view+json": {
       "model_id": "",
       "version_major": 2,
       "version_minor": 0
      },
      "text/plain": [
       "FloatProgress(value=0.0, bar_style='info', description='Progress:', layout=Layout(height='25px', width='50%'),…"
      ]
     },
     "metadata": {},
     "output_type": "display_data"
    }
   ],
   "source": [
    "# import os\n",
    "# from google.colab import drive\n",
    "# drive.mount('/content/drive')"
   ]
  },
  {
   "cell_type": "code",
   "execution_count": 51,
   "metadata": {
    "id": "BFFDWaHXkPpI"
   },
   "outputs": [
    {
     "data": {
      "application/vnd.jupyter.widget-view+json": {
       "model_id": "cdc1471fbd9d4ef69f922d54b1f42456",
       "version_major": 2,
       "version_minor": 0
      },
      "text/plain": [
       "VBox()"
      ]
     },
     "metadata": {},
     "output_type": "display_data"
    },
    {
     "data": {
      "application/vnd.jupyter.widget-view+json": {
       "model_id": "",
       "version_major": 2,
       "version_minor": 0
      },
      "text/plain": [
       "FloatProgress(value=0.0, bar_style='info', description='Progress:', layout=Layout(height='25px', width='50%'),…"
      ]
     },
     "metadata": {},
     "output_type": "display_data"
    }
   ],
   "source": [
    "# if os.path.exists(f'{PROJECT_FOLDER_PATH}/{FINAL_DF_FILENAME}') == True:\n",
    "#     final_df = spark.read.option('header',True).csv(f'{PROJECT_FOLDER_PATH}/{FINAL_DF_FILENAME}')\n",
    "\n",
    "# if os.path.exists(f'{PROJECT_FOLDER_PATH}/{FINAL_TRAINING_DATASET_FILENAME}') == True:\n",
    "#     train_data = spark.read.option('header',True).csv(f'{PROJECT_FOLDER_PATH}/{FINAL_TRAINING_DATASET_FILENAME}')\n",
    "\n",
    "# if os.path.exists(f'{PROJECT_FOLDER_PATH}/{FINAL_VALIDATION_DATASET_FILENAME}') == True:\n",
    "#     validation_data = spark.read.option('header',True).csv(f'{PROJECT_FOLDER_PATH}/{FINAL_VALIDATION_DATASET_FILENAME}')"
   ]
  },
  {
   "cell_type": "code",
   "execution_count": 52,
   "metadata": {
    "colab": {
     "base_uri": "https://localhost:8080/"
    },
    "id": "JcaHwRA4oYlQ",
    "outputId": "94748369-3d58-47be-d281-a27d233cf579"
   },
   "outputs": [
    {
     "data": {
      "application/vnd.jupyter.widget-view+json": {
       "model_id": "e2220ce8dbd94043b2597b43874968c6",
       "version_major": 2,
       "version_minor": 0
      },
      "text/plain": [
       "VBox()"
      ]
     },
     "metadata": {},
     "output_type": "display_data"
    },
    {
     "data": {
      "application/vnd.jupyter.widget-view+json": {
       "model_id": "",
       "version_major": 2,
       "version_minor": 0
      },
      "text/plain": [
       "FloatProgress(value=0.0, bar_style='info', description='Progress:', layout=Layout(height='25px', width='50%'),…"
      ]
     },
     "metadata": {},
     "output_type": "display_data"
    }
   ],
   "source": [
    "# validation_data.show() # if prints a DF, then you are good to go to the rest of the notebook below this cell"
   ]
  },
  {
   "cell_type": "markdown",
   "metadata": {
    "id": "pkEIw2nvdAYp"
   },
   "source": [
    "---"
   ]
  },
  {
   "cell_type": "markdown",
   "metadata": {
    "id": "0k2K6etXVupY"
   },
   "source": [
    "# <u>**Training ML Models**</u>"
   ]
  },
  {
   "cell_type": "markdown",
   "metadata": {
    "id": "8CYUUmLUV5ru"
   },
   "source": [
    "Try logistic regression first, decision tree and then either a random forest or a gradient-boosted tree or both.  Use scaling where necessary. You need to achieve AUC (area under the curve) of at least 0.8 and hopefully better."
   ]
  },
  {
   "cell_type": "code",
   "execution_count": 53,
   "metadata": {
    "colab": {
     "base_uri": "https://localhost:8080/"
    },
    "id": "IowUgEk0TYVf",
    "outputId": "8099a183-6c34-46d7-b2bf-4028d9db46e4"
   },
   "outputs": [
    {
     "data": {
      "application/vnd.jupyter.widget-view+json": {
       "model_id": "0ac45df2e2504cb39a3ca1878e4e3b3a",
       "version_major": 2,
       "version_minor": 0
      },
      "text/plain": [
       "VBox()"
      ]
     },
     "metadata": {},
     "output_type": "display_data"
    },
    {
     "data": {
      "application/vnd.jupyter.widget-view+json": {
       "model_id": "",
       "version_major": 2,
       "version_minor": 0
      },
      "text/plain": [
       "FloatProgress(value=0.0, bar_style='info', description='Progress:', layout=Layout(height='25px', width='50%'),…"
      ]
     },
     "metadata": {},
     "output_type": "display_data"
    },
    {
     "name": "stdout",
     "output_type": "stream",
     "text": [
      "The percent of \"high_fare\" == 1 in the train data is: 0.4562865434188817\n",
      "Running time 112.15262460708618 s"
     ]
    }
   ],
   "source": [
    "t = time.time()\n",
    "\n",
    "\n",
    "# give different weight for each class\n",
    "dataset_size = float(train_data.select(\"high_fare\").count())\n",
    "num_ones = train_data.select(\"high_fare\").where('high_fare == 1').count()\n",
    "percent_ones = (float(num_ones) / float(dataset_size))\n",
    "print(f'The percent of \"high_fare\" == 1 in the train data is: {percent_ones}')\n",
    "\n",
    "train_data = train_data.withColumn(\"classWeights\", when(train_data.high_fare == 1, 1-percent_ones).otherwise(percent_ones))\n",
    "\n",
    "\n",
    "print('Running time', time.time() - t, 's')"
   ]
  },
  {
   "cell_type": "code",
   "execution_count": 54,
   "metadata": {},
   "outputs": [
    {
     "data": {
      "application/vnd.jupyter.widget-view+json": {
       "model_id": "1ef53f5353704cd5b5fb7731bd6a535d",
       "version_major": 2,
       "version_minor": 0
      },
      "text/plain": [
       "VBox()"
      ]
     },
     "metadata": {},
     "output_type": "display_data"
    },
    {
     "data": {
      "application/vnd.jupyter.widget-view+json": {
       "model_id": "",
       "version_major": 2,
       "version_minor": 0
      },
      "text/plain": [
       "FloatProgress(value=0.0, bar_style='info', description='Progress:', layout=Layout(height='25px', width='50%'),…"
      ]
     },
     "metadata": {},
     "output_type": "display_data"
    },
    {
     "name": "stdout",
     "output_type": "stream",
     "text": [
      "+---------+---------------+------------------+---------------+-----------+------------------+--------------------+--------------------+------------------+\n",
      "|high_fare|passenger_count|       ride_length|is_airport_ride|pickup_hour|holiday_or_weekend|            features|     scaled_features|      classWeights|\n",
      "+---------+---------------+------------------+---------------+-----------+------------------+--------------------+--------------------+------------------+\n",
      "|        0|              1| 1.000000713499224|              0|          4|                 1|[1.0,1.0000007134...|[0.0,6.9312097341...|0.4562865434188817|\n",
      "|        0|              1|1.0000050503885924|              0|         16|                 1|[1.0,1.0000050503...|[0.0,5.0740447293...|0.4562865434188817|\n",
      "|        0|              1| 1.000034053558028|              0|          4|                 0|[1.0,1.0000340535...|[0.0,3.4371696382...|0.4562865434188817|\n",
      "|        0|              1| 1.000038061653178|              0|         20|                 0|[1.0,1.0000380616...|[0.0,3.8420487524...|0.4562865434188817|\n",
      "|        0|              1|1.0000405280085685|              0|          6|                 1|[1.0,1.0000405280...|[0.0,4.0911884930...|0.4562865434188817|\n",
      "|        0|              1|1.0000438675843146|              0|          6|                 0|[1.0,1.0000438675...|[0.0,4.4285368890...|0.4562865434188817|\n",
      "|        0|              1|1.0000481492783044|              0|          1|                 0|[1.0,1.0000481492...|[0.0,4.8610536843...|0.4562865434188817|\n",
      "|        0|              1|1.0000611052623671|              0|          1|                 0|[1.0,1.0000611052...|[0.0,6.1698068837...|0.4562865434188817|\n",
      "|        0|              1|1.0000666640528093|              0|         10|                 1|[1.0,1.0000666640...|[0.0,6.7313300177...|0.4562865434188817|\n",
      "|        0|              1|1.0000711555640844|              0|         11|                 0|[1.0,1.0000711555...|[0.0,7.1850415786...|0.4562865434188817|\n",
      "|        0|              1|1.0000746107516212|              0|          2|                 1|[1.0,1.0000746107...|[0.0,7.5340685395...|0.4562865434188817|\n",
      "|        0|              1| 1.000077364189508|              0|          8|                 1|[1.0,1.0000773641...|[0.0,7.8122080174...|0.4562865434188817|\n",
      "|        0|              1|1.0000896605643705|              0|         19|                 1|[1.0,1.0000896605...|[0.0,9.0543305659...|0.4562865434188817|\n",
      "|        0|              1|1.0000952726982444|              0|          9|                 0|[1.0,1.0000952726...|[0.0,9.6212422051...|0.4562865434188817|\n",
      "|        0|              1|1.0001019005580225|              0|         14|                 1|[1.0,1.0001019005...|[0.0,1.0290757746...|0.4562865434188817|\n",
      "|        0|              1| 1.000102055548338|              0|          9|                 0|[1.0,1.0001020555...|[0.0,1.0306414147...|0.4562865434188817|\n",
      "|        0|              1|1.0001039184163494|              0|          6|                 1|[1.0,1.0001039184...|[0.0,1.0494592401...|0.4562865434188817|\n",
      "|        0|              1|1.0001084712316708|              0|         10|                 0|[1.0,1.0001084712...|[0.0,1.0954496612...|0.4562865434188817|\n",
      "|        0|              1|1.0001101866442805|              0|          8|                 1|[1.0,1.0001101866...|[0.0,1.1127779608...|0.4562865434188817|\n",
      "|        0|              1|1.0001462115394704|              0|         18|                 0|[1.0,1.0001462115...|[0.0,1.4766846823...|0.4562865434188817|\n",
      "+---------+---------------+------------------+---------------+-----------+------------------+--------------------+--------------------+------------------+\n",
      "only showing top 20 rows"
     ]
    }
   ],
   "source": [
    "train_data.show()"
   ]
  },
  {
   "cell_type": "code",
   "execution_count": 55,
   "metadata": {
    "id": "YI1SUkKfb78J"
   },
   "outputs": [
    {
     "data": {
      "application/vnd.jupyter.widget-view+json": {
       "model_id": "28b5a8c051b04f88adde0727d32ccb7a",
       "version_major": 2,
       "version_minor": 0
      },
      "text/plain": [
       "VBox()"
      ]
     },
     "metadata": {},
     "output_type": "display_data"
    },
    {
     "data": {
      "application/vnd.jupyter.widget-view+json": {
       "model_id": "",
       "version_major": 2,
       "version_minor": 0
      },
      "text/plain": [
       "FloatProgress(value=0.0, bar_style='info', description='Progress:', layout=Layout(height='25px', width='50%'),…"
      ]
     },
     "metadata": {},
     "output_type": "display_data"
    }
   ],
   "source": [
    "def confusion_matrix(predict_df, actual_df, assign_id = True):\n",
    "    y_actual = actual_df.select([\"high_fare\"])\n",
    "    y_actual = y_actual.withColumn(\"id\", monotonically_increasing_id())\n",
    "\n",
    "    y_pred = predict_df.select([\"prediction\"])\n",
    "    y_pred = y_pred.withColumn(\"id\", monotonically_increasing_id())\n",
    "\n",
    "    if not assign_id:\n",
    "        y_pred = ensamble_pred_df.select([\"id\", \"prediction\"])\n",
    "\n",
    "    result_df = y_actual.join(y_pred, \"id\", \"outer\").drop(\"id\")\n",
    "    actual0_pred0 = result_df.filter((col(\"high_fare\") == 0) & (col(\"prediction\") == 0)).count()\n",
    "    actual0_pred1 = result_df.filter((col(\"high_fare\") == 0) & (col(\"prediction\") == 1)).count()\n",
    "    actual1_pred0 = result_df.filter((col(\"high_fare\") == 1) & (col(\"prediction\") == 0)).count()\n",
    "    actual1_pred1 = result_df.filter((col(\"high_fare\") == 1) & (col(\"prediction\") == 1)).count()\n",
    "    confusion_df = pd.DataFrame([[actual0_pred0, actual0_pred1], [actual1_pred0, actual1_pred1]] ,index = [\"0\", \"1\"], columns = [\"0\", \"1\"])\n",
    "    confusion_df.index.name = \"Actual\"\n",
    "    confusion_df.columns.name = \"Predicted\"\n",
    "    \n",
    "    print(confusion_df)"
   ]
  },
  {
   "cell_type": "code",
   "execution_count": 56,
   "metadata": {
    "id": "xAzJ1pXtaWtY"
   },
   "outputs": [
    {
     "data": {
      "application/vnd.jupyter.widget-view+json": {
       "model_id": "d00e795309f94230b4cf14fcc62106c4",
       "version_major": 2,
       "version_minor": 0
      },
      "text/plain": [
       "VBox()"
      ]
     },
     "metadata": {},
     "output_type": "display_data"
    },
    {
     "data": {
      "application/vnd.jupyter.widget-view+json": {
       "model_id": "",
       "version_major": 2,
       "version_minor": 0
      },
      "text/plain": [
       "FloatProgress(value=0.0, bar_style='info', description='Progress:', layout=Layout(height='25px', width='50%'),…"
      ]
     },
     "metadata": {},
     "output_type": "display_data"
    },
    {
     "name": "stdout",
     "output_type": "stream",
     "text": [
      "Running time 0.010081768035888672 s"
     ]
    }
   ],
   "source": [
    "t = time.time()\n",
    "\n",
    "evaluator = BinaryClassificationEvaluator(rawPredictionCol=\"rawPrediction\", labelCol=\"high_fare\")\n",
    "\n",
    "print('Running time', time.time() - t, 's')"
   ]
  },
  {
   "cell_type": "markdown",
   "metadata": {},
   "source": [
    "## <u>**Train a Multi Layer Perceptron  model**</u>"
   ]
  },
  {
   "cell_type": "code",
   "execution_count": 57,
   "metadata": {},
   "outputs": [
    {
     "data": {
      "application/vnd.jupyter.widget-view+json": {
       "model_id": "58b23380eb7a462c9c9ceef3450d744f",
       "version_major": 2,
       "version_minor": 0
      },
      "text/plain": [
       "VBox()"
      ]
     },
     "metadata": {},
     "output_type": "display_data"
    },
    {
     "data": {
      "application/vnd.jupyter.widget-view+json": {
       "model_id": "",
       "version_major": 2,
       "version_minor": 0
      },
      "text/plain": [
       "FloatProgress(value=0.0, bar_style='info', description='Progress:', layout=Layout(height='25px', width='50%'),…"
      ]
     },
     "metadata": {},
     "output_type": "display_data"
    },
    {
     "name": "stdout",
     "output_type": "stream",
     "text": [
      "Running time 157.4564085006714 s"
     ]
    }
   ],
   "source": [
    "t = time.time()\n",
    "\n",
    "layers = [5, 5, 2]\n",
    "trainer = MultilayerPerceptronClassifier(labelCol=\"high_fare\", featuresCol=\"scaled_features\", maxIter=100, layers=layers, blockSize=256, seed=1234)\n",
    "# train the model\n",
    "mlp_model = trainer.fit(train_data)\n",
    "\n",
    "print('Running time', time.time() - t, 's')"
   ]
  },
  {
   "cell_type": "code",
   "execution_count": 58,
   "metadata": {},
   "outputs": [
    {
     "data": {
      "application/vnd.jupyter.widget-view+json": {
       "model_id": "c9b21b9694a044bf8c09e67f4a1c3acf",
       "version_major": 2,
       "version_minor": 0
      },
      "text/plain": [
       "VBox()"
      ]
     },
     "metadata": {},
     "output_type": "display_data"
    },
    {
     "data": {
      "application/vnd.jupyter.widget-view+json": {
       "model_id": "",
       "version_major": 2,
       "version_minor": 0
      },
      "text/plain": [
       "FloatProgress(value=0.0, bar_style='info', description='Progress:', layout=Layout(height='25px', width='50%'),…"
      ]
     },
     "metadata": {},
     "output_type": "display_data"
    },
    {
     "name": "stdout",
     "output_type": "stream",
     "text": [
      "Running time 0.09910941123962402 s"
     ]
    }
   ],
   "source": [
    "t = time.time()\n",
    "\n",
    "predict_train_mlp = mlp_model.transform(train_data)\n",
    "predict_validation_mlp = mlp_model.transform(validation_data)\n",
    "\n",
    "print('Running time', time.time() - t, 's')"
   ]
  },
  {
   "cell_type": "markdown",
   "metadata": {},
   "source": [
    "## <u>**Test a Multi Layer Perceptron model**</u>"
   ]
  },
  {
   "cell_type": "code",
   "execution_count": 59,
   "metadata": {},
   "outputs": [
    {
     "data": {
      "application/vnd.jupyter.widget-view+json": {
       "model_id": "88ebcab2b9014b0d8a27356212a5418d",
       "version_major": 2,
       "version_minor": 0
      },
      "text/plain": [
       "VBox()"
      ]
     },
     "metadata": {},
     "output_type": "display_data"
    },
    {
     "data": {
      "application/vnd.jupyter.widget-view+json": {
       "model_id": "",
       "version_major": 2,
       "version_minor": 0
      },
      "text/plain": [
       "FloatProgress(value=0.0, bar_style='info', description='Progress:', layout=Layout(height='25px', width='50%'),…"
      ]
     },
     "metadata": {},
     "output_type": "display_data"
    },
    {
     "name": "stdout",
     "output_type": "stream",
     "text": [
      "The area under ROC for train set is 0.9201291812672318\n",
      "The area under ROC for validation set is 0.9201340433483045\n",
      "Running time 139.20978903770447 s"
     ]
    }
   ],
   "source": [
    "t = time.time()\n",
    "\n",
    "print(f\"The area under ROC for train set is {evaluator.evaluate(predict_train_mlp)}\")\n",
    "print(f\"The area under ROC for validation set is {evaluator.evaluate(predict_validation_mlp)}\")\n",
    "\n",
    "print('Running time', time.time() - t, 's')"
   ]
  },
  {
   "cell_type": "code",
   "execution_count": 60,
   "metadata": {},
   "outputs": [
    {
     "data": {
      "application/vnd.jupyter.widget-view+json": {
       "model_id": "405b46c09f604a2fb2b1ae2a19c3cecf",
       "version_major": 2,
       "version_minor": 0
      },
      "text/plain": [
       "VBox()"
      ]
     },
     "metadata": {},
     "output_type": "display_data"
    },
    {
     "data": {
      "application/vnd.jupyter.widget-view+json": {
       "model_id": "",
       "version_major": 2,
       "version_minor": 0
      },
      "text/plain": [
       "FloatProgress(value=0.0, bar_style='info', description='Progress:', layout=Layout(height='25px', width='50%'),…"
      ]
     },
     "metadata": {},
     "output_type": "display_data"
    },
    {
     "name": "stdout",
     "output_type": "stream",
     "text": [
      "Predicted        0        1\n",
      "Actual                     \n",
      "0          1611596   157229\n",
      "1           332142  1154889\n",
      "Running time 457.5036389827728 s"
     ]
    }
   ],
   "source": [
    "t = time.time()\n",
    "\n",
    "confusion_matrix(predict_validation_mlp, validation_data)\n",
    "\n",
    "print('Running time', time.time() - t, 's')"
   ]
  },
  {
   "cell_type": "markdown",
   "metadata": {
    "id": "aMPiCZbgSD0h"
   },
   "source": [
    "## <u>**Training a Logistic Regression model**</u>"
   ]
  },
  {
   "cell_type": "code",
   "execution_count": 61,
   "metadata": {},
   "outputs": [
    {
     "data": {
      "application/vnd.jupyter.widget-view+json": {
       "model_id": "b0670c23590b4f5d8f9839046f3ccb26",
       "version_major": 2,
       "version_minor": 0
      },
      "text/plain": [
       "VBox()"
      ]
     },
     "metadata": {},
     "output_type": "display_data"
    },
    {
     "data": {
      "application/vnd.jupyter.widget-view+json": {
       "model_id": "",
       "version_major": 2,
       "version_minor": 0
      },
      "text/plain": [
       "FloatProgress(value=0.0, bar_style='info', description='Progress:', layout=Layout(height='25px', width='50%'),…"
      ]
     },
     "metadata": {},
     "output_type": "display_data"
    },
    {
     "name": "stdout",
     "output_type": "stream",
     "text": [
      "Running time 64.40852689743042 s"
     ]
    }
   ],
   "source": [
    "t = time.time()\n",
    "\n",
    "lr = LogisticRegression(labelCol=\"high_fare\", featuresCol=\"scaled_features\", weightCol=\"classWeights\")\n",
    "lr_model = lr.fit(train_data)\n",
    "predict_train_lr = lr_model.transform(train_data)\n",
    "predict_validation_lr = lr_model.transform(validation_data)\n",
    "\n",
    "print('Running time', time.time() - t, 's')"
   ]
  },
  {
   "cell_type": "markdown",
   "metadata": {
    "id": "5u5_6BgxSLt1"
   },
   "source": [
    "## <u>**Testing a Logistic Regression model**</u>"
   ]
  },
  {
   "cell_type": "code",
   "execution_count": 62,
   "metadata": {
    "colab": {
     "base_uri": "https://localhost:8080/"
    },
    "id": "Im1OV_4WSRqV",
    "outputId": "880fa758-f051-4b3a-dfa6-d88ef6191cc7"
   },
   "outputs": [
    {
     "data": {
      "application/vnd.jupyter.widget-view+json": {
       "model_id": "86c9520d9aff436ba36399964dbdb272",
       "version_major": 2,
       "version_minor": 0
      },
      "text/plain": [
       "VBox()"
      ]
     },
     "metadata": {},
     "output_type": "display_data"
    },
    {
     "data": {
      "application/vnd.jupyter.widget-view+json": {
       "model_id": "",
       "version_major": 2,
       "version_minor": 0
      },
      "text/plain": [
       "FloatProgress(value=0.0, bar_style='info', description='Progress:', layout=Layout(height='25px', width='50%'),…"
      ]
     },
     "metadata": {},
     "output_type": "display_data"
    },
    {
     "name": "stdout",
     "output_type": "stream",
     "text": [
      "The area under ROC for train set is 0.9210062057305165\n",
      "The area under ROC for validation set is 0.9209531997528891\n",
      "Running time 138.8931200504303 s"
     ]
    }
   ],
   "source": [
    "t = time.time()\n",
    "\n",
    "print(f\"The area under ROC for train set is {evaluator.evaluate(predict_train_lr)}\")\n",
    "print(f\"The area under ROC for validation set is {evaluator.evaluate(predict_validation_lr)}\")\n",
    "\n",
    "print('Running time', time.time() - t, 's')"
   ]
  },
  {
   "cell_type": "code",
   "execution_count": 63,
   "metadata": {
    "colab": {
     "base_uri": "https://localhost:8080/"
    },
    "id": "-gRrvh2Bc1Fk",
    "outputId": "b10366ed-f1d0-49a7-9376-8723a8c90c1c"
   },
   "outputs": [
    {
     "data": {
      "application/vnd.jupyter.widget-view+json": {
       "model_id": "42084720ea804f7f903fd935090fceaf",
       "version_major": 2,
       "version_minor": 0
      },
      "text/plain": [
       "VBox()"
      ]
     },
     "metadata": {},
     "output_type": "display_data"
    },
    {
     "data": {
      "application/vnd.jupyter.widget-view+json": {
       "model_id": "",
       "version_major": 2,
       "version_minor": 0
      },
      "text/plain": [
       "FloatProgress(value=0.0, bar_style='info', description='Progress:', layout=Layout(height='25px', width='50%'),…"
      ]
     },
     "metadata": {},
     "output_type": "display_data"
    },
    {
     "name": "stdout",
     "output_type": "stream",
     "text": [
      "Predicted        0        1\n",
      "Actual                     \n",
      "0          1578691   190134\n",
      "1           302752  1184279\n",
      "Running time 455.90216994285583 s"
     ]
    }
   ],
   "source": [
    "t = time.time()\n",
    "\n",
    "confusion_matrix(predict_validation_lr, validation_data)\n",
    "\n",
    "print('Running time', time.time() - t, 's')"
   ]
  },
  {
   "cell_type": "markdown",
   "metadata": {
    "id": "85ohGhBZuN1M"
   },
   "source": [
    "## <u>**Training a Decision Tree model**</u>"
   ]
  },
  {
   "cell_type": "code",
   "execution_count": 64,
   "metadata": {
    "id": "OTx9OtL5vWy8"
   },
   "outputs": [
    {
     "data": {
      "application/vnd.jupyter.widget-view+json": {
       "model_id": "520af3ed811b4061afdb745dc41e04e5",
       "version_major": 2,
       "version_minor": 0
      },
      "text/plain": [
       "VBox()"
      ]
     },
     "metadata": {},
     "output_type": "display_data"
    },
    {
     "data": {
      "application/vnd.jupyter.widget-view+json": {
       "model_id": "",
       "version_major": 2,
       "version_minor": 0
      },
      "text/plain": [
       "FloatProgress(value=0.0, bar_style='info', description='Progress:', layout=Layout(height='25px', width='50%'),…"
      ]
     },
     "metadata": {},
     "output_type": "display_data"
    },
    {
     "name": "stdout",
     "output_type": "stream",
     "text": [
      "Running time 262.07133054733276 s"
     ]
    }
   ],
   "source": [
    "t = time.time()\n",
    "\n",
    "dt = DecisionTreeClassifier(labelCol=\"high_fare\", featuresCol=\"scaled_features\") # weightCol=\"classWeights\" was not supported with pyspark kernel and Decision Trees\n",
    "dt_model = dt.fit(train_data)\n",
    "predict_train_dt = dt_model.transform(train_data)\n",
    "predict_validation_dt = dt_model.transform(validation_data)\n",
    "\n",
    "print('Running time', time.time() - t, 's')"
   ]
  },
  {
   "cell_type": "markdown",
   "metadata": {
    "id": "CajePH_pua0C"
   },
   "source": [
    "## <u>**Testing a Decision Tree model**</u>"
   ]
  },
  {
   "cell_type": "code",
   "execution_count": 65,
   "metadata": {
    "colab": {
     "base_uri": "https://localhost:8080/"
    },
    "id": "Z-T4PXcgPpj3",
    "outputId": "a1e647cc-9b35-45bd-c232-0957056efdce"
   },
   "outputs": [
    {
     "data": {
      "application/vnd.jupyter.widget-view+json": {
       "model_id": "1a71cb0469534674ab5d178481cc38be",
       "version_major": 2,
       "version_minor": 0
      },
      "text/plain": [
       "VBox()"
      ]
     },
     "metadata": {},
     "output_type": "display_data"
    },
    {
     "data": {
      "application/vnd.jupyter.widget-view+json": {
       "model_id": "",
       "version_major": 2,
       "version_minor": 0
      },
      "text/plain": [
       "FloatProgress(value=0.0, bar_style='info', description='Progress:', layout=Layout(height='25px', width='50%'),…"
      ]
     },
     "metadata": {},
     "output_type": "display_data"
    },
    {
     "name": "stdout",
     "output_type": "stream",
     "text": [
      "The area under ROC for train set is 0.7662149889702827\n",
      "The area under ROC for validation set is 0.7664677636401444\n",
      "Running time 116.81920599937439 s"
     ]
    }
   ],
   "source": [
    "t = time.time()\n",
    "\n",
    "print(f\"The area under ROC for train set is {evaluator.evaluate(predict_train_dt)}\")\n",
    "print(f\"The area under ROC for validation set is {evaluator.evaluate(predict_validation_dt)}\")\n",
    "\n",
    "print('Running time', time.time() - t, 's')"
   ]
  },
  {
   "cell_type": "code",
   "execution_count": 66,
   "metadata": {
    "colab": {
     "base_uri": "https://localhost:8080/"
    },
    "id": "6qHEfLAlP_RT",
    "outputId": "3d01682a-5557-4e38-fb56-20b417300eba"
   },
   "outputs": [
    {
     "data": {
      "application/vnd.jupyter.widget-view+json": {
       "model_id": "5d015d8ab21046d5a0321b923b8ed026",
       "version_major": 2,
       "version_minor": 0
      },
      "text/plain": [
       "VBox()"
      ]
     },
     "metadata": {},
     "output_type": "display_data"
    },
    {
     "data": {
      "application/vnd.jupyter.widget-view+json": {
       "model_id": "",
       "version_major": 2,
       "version_minor": 0
      },
      "text/plain": [
       "FloatProgress(value=0.0, bar_style='info', description='Progress:', layout=Layout(height='25px', width='50%'),…"
      ]
     },
     "metadata": {},
     "output_type": "display_data"
    },
    {
     "name": "stdout",
     "output_type": "stream",
     "text": [
      "Predicted        0        1\n",
      "Actual                     \n",
      "0          1568701   200124\n",
      "1           286189  1200842\n",
      "Running time 455.8094778060913 s"
     ]
    }
   ],
   "source": [
    "t = time.time()\n",
    "\n",
    "confusion_matrix(predict_validation_dt, validation_data)\n",
    "\n",
    "print('Running time', time.time() - t, 's')"
   ]
  },
  {
   "cell_type": "markdown",
   "metadata": {
    "id": "97pbB_x-RAz8"
   },
   "source": [
    "## <u>**Training a Decision Gradient-Boosted Tree model**</u>"
   ]
  },
  {
   "cell_type": "code",
   "execution_count": 67,
   "metadata": {
    "colab": {
     "base_uri": "https://localhost:8080/"
    },
    "id": "4TSxfAVvRIny",
    "outputId": "3fab74c9-6dc4-4a49-b3a3-185b4ab50d7d"
   },
   "outputs": [
    {
     "data": {
      "application/vnd.jupyter.widget-view+json": {
       "model_id": "cfc883803aad4091881c4f0bba1cc7b6",
       "version_major": 2,
       "version_minor": 0
      },
      "text/plain": [
       "VBox()"
      ]
     },
     "metadata": {},
     "output_type": "display_data"
    },
    {
     "data": {
      "application/vnd.jupyter.widget-view+json": {
       "model_id": "",
       "version_major": 2,
       "version_minor": 0
      },
      "text/plain": [
       "FloatProgress(value=0.0, bar_style='info', description='Progress:', layout=Layout(height='25px', width='50%'),…"
      ]
     },
     "metadata": {},
     "output_type": "display_data"
    },
    {
     "name": "stdout",
     "output_type": "stream",
     "text": [
      "Running time 237.50707721710205 s"
     ]
    }
   ],
   "source": [
    "t = time.time()\n",
    "\n",
    "gbt = GBTClassifier(labelCol=\"high_fare\", featuresCol=\"scaled_features\") #weightCol=\"classWeights\" was not supported with pyspark kernel and Decision Trees\n",
    "gbt_model = gbt.fit(train_data)\n",
    "predict_train_gbt = gbt_model.transform(train_data)\n",
    "predict_validation_gbt = gbt_model.transform(validation_data)\n",
    "\n",
    "print('Running time', time.time() - t, 's')"
   ]
  },
  {
   "cell_type": "markdown",
   "metadata": {
    "id": "QwRIgKV_RAz8"
   },
   "source": [
    "## <u>**Testing Decision Gradient-Boosted Tree model**</u>"
   ]
  },
  {
   "cell_type": "code",
   "execution_count": 68,
   "metadata": {
    "colab": {
     "base_uri": "https://localhost:8080/"
    },
    "id": "LTK9t57eRW_9",
    "outputId": "ba019c11-c0e7-441f-8faa-93eff9851132"
   },
   "outputs": [
    {
     "data": {
      "application/vnd.jupyter.widget-view+json": {
       "model_id": "a01781ad785c441096c753b0611d4cc8",
       "version_major": 2,
       "version_minor": 0
      },
      "text/plain": [
       "VBox()"
      ]
     },
     "metadata": {},
     "output_type": "display_data"
    },
    {
     "data": {
      "application/vnd.jupyter.widget-view+json": {
       "model_id": "",
       "version_major": 2,
       "version_minor": 0
      },
      "text/plain": [
       "FloatProgress(value=0.0, bar_style='info', description='Progress:', layout=Layout(height='25px', width='50%'),…"
      ]
     },
     "metadata": {},
     "output_type": "display_data"
    },
    {
     "name": "stdout",
     "output_type": "stream",
     "text": [
      "The area under ROC for train set is 0.9242946741574265\n",
      "The area under ROC for validation set is 0.9242843249236368\n",
      "Running time 118.47546219825745 s"
     ]
    }
   ],
   "source": [
    "t = time.time()\n",
    "\n",
    "print(f\"The area under ROC for train set is {evaluator.evaluate(predict_train_gbt)}\")\n",
    "print(f\"The area under ROC for validation set is {evaluator.evaluate(predict_validation_gbt)}\")\n",
    "\n",
    "print('Running time', time.time() - t, 's')"
   ]
  },
  {
   "cell_type": "code",
   "execution_count": 69,
   "metadata": {
    "colab": {
     "base_uri": "https://localhost:8080/"
    },
    "id": "uJHkLMxRRYse",
    "outputId": "4aa84d4c-d80b-4983-b575-fa72809db696"
   },
   "outputs": [
    {
     "data": {
      "application/vnd.jupyter.widget-view+json": {
       "model_id": "53a7cf915ffe47838fb2a0dc7fae610f",
       "version_major": 2,
       "version_minor": 0
      },
      "text/plain": [
       "VBox()"
      ]
     },
     "metadata": {},
     "output_type": "display_data"
    },
    {
     "data": {
      "application/vnd.jupyter.widget-view+json": {
       "model_id": "",
       "version_major": 2,
       "version_minor": 0
      },
      "text/plain": [
       "FloatProgress(value=0.0, bar_style='info', description='Progress:', layout=Layout(height='25px', width='50%'),…"
      ]
     },
     "metadata": {},
     "output_type": "display_data"
    },
    {
     "name": "stdout",
     "output_type": "stream",
     "text": [
      "Predicted        0        1\n",
      "Actual                     \n",
      "0          1572746   196079\n",
      "1           289824  1197207\n",
      "Running time 460.44872188568115 s"
     ]
    }
   ],
   "source": [
    "t = time.time()\n",
    "\n",
    "confusion_matrix(predict_validation_gbt, validation_data)\n",
    "\n",
    "print('Running time', time.time() - t, 's')"
   ]
  },
  {
   "cell_type": "markdown",
   "metadata": {
    "id": "uzo0aoemSjj6"
   },
   "source": [
    "## <u>**Ensemble Models**</u>"
   ]
  },
  {
   "cell_type": "markdown",
   "metadata": {},
   "source": [
    "We ended up not using this model but we're leaving the code for future use"
   ]
  },
  {
   "cell_type": "code",
   "execution_count": 70,
   "metadata": {
    "colab": {
     "base_uri": "https://localhost:8080/"
    },
    "id": "ZPZMXFPRSqMy",
    "outputId": "dca4aadf-d504-4caa-fb1a-764c35dc0a0f"
   },
   "outputs": [
    {
     "data": {
      "application/vnd.jupyter.widget-view+json": {
       "model_id": "0bbc4b6e76d04554ab8400e2c4a0981b",
       "version_major": 2,
       "version_minor": 0
      },
      "text/plain": [
       "VBox()"
      ]
     },
     "metadata": {},
     "output_type": "display_data"
    },
    {
     "data": {
      "application/vnd.jupyter.widget-view+json": {
       "model_id": "",
       "version_major": 2,
       "version_minor": 0
      },
      "text/plain": [
       "FloatProgress(value=0.0, bar_style='info', description='Progress:', layout=Layout(height='25px', width='50%'),…"
      ]
     },
     "metadata": {},
     "output_type": "display_data"
    }
   ],
   "source": [
    "# t = time.time()\n",
    "\n",
    "\n",
    "# y_pred_lr = predict_validation_lr\n",
    "# y_pred_lr = y_pred_lr.withColumn(\"id\", monotonically_increasing_id())\n",
    "# y_pred_lr = y_pred_lr.withColumnRenamed(\"prediction\", \"pred_lr\")\n",
    "\n",
    "# y_pred_dt = predict_validation_dt.select([\"prediction\"])\n",
    "# y_pred_dt = y_pred_dt.withColumn(\"id\", monotonically_increasing_id())\n",
    "# y_pred_dt = y_pred_dt.withColumnRenamed(\"prediction\", \"pred_dt\")\n",
    "\n",
    "# y_pred_gbt = predict_validation_gbt.select([\"prediction\"])\n",
    "# y_pred_gbt = y_pred_gbt.withColumn(\"id\", monotonically_increasing_id())\n",
    "# y_pred_gbt = y_pred_gbt.withColumnRenamed(\"prediction\", \"pred_gbt\")\n",
    "\n",
    "# ensamble_pred_df = y_pred_lr.join(y_pred_dt, \"id\", \"outer\")\n",
    "# ensamble_pred_df = ensamble_pred_df.join(y_pred_gbt, \"id\", \"outer\")\n",
    "\n",
    "# ensamble_pred_df = ensamble_pred_df.withColumn(\"majority\", ((ensamble_pred_df['pred_lr'] + \n",
    "#                                                             ensamble_pred_df['pred_dt'] + \n",
    "#                                                             ensamble_pred_df['pred_gbt']) >=2).cast('float'))\n",
    "\n",
    "# ensamble_pred_df = ensamble_pred_df.drop(\"pred_lr\", \"pred_dt\", \"pred_gbt\")\n",
    "# ensamble_pred_df = ensamble_pred_df.withColumnRenamed(\"majority\", \"prediction\")\n",
    "\n",
    "# ensamble_pred_df.show()\n",
    "\n",
    "\n",
    "# print('Running time', time.time() - t, 's')"
   ]
  },
  {
   "cell_type": "code",
   "execution_count": 71,
   "metadata": {
    "colab": {
     "base_uri": "https://localhost:8080/"
    },
    "id": "57n5Za_Cc_MT",
    "outputId": "15a8ed75-cf8d-4dda-b1e6-7909c0c239ca"
   },
   "outputs": [
    {
     "data": {
      "application/vnd.jupyter.widget-view+json": {
       "model_id": "9a272fa851534bddbc17a53e3d8db884",
       "version_major": 2,
       "version_minor": 0
      },
      "text/plain": [
       "VBox()"
      ]
     },
     "metadata": {},
     "output_type": "display_data"
    },
    {
     "data": {
      "application/vnd.jupyter.widget-view+json": {
       "model_id": "",
       "version_major": 2,
       "version_minor": 0
      },
      "text/plain": [
       "FloatProgress(value=0.0, bar_style='info', description='Progress:', layout=Layout(height='25px', width='50%'),…"
      ]
     },
     "metadata": {},
     "output_type": "display_data"
    }
   ],
   "source": [
    "# t = time.time()\n",
    "\n",
    "# print(f\"The area under ROC for validation set is {evaluator.evaluate(ensamble_pred_df)}\")\n",
    "\n",
    "# print('Running time', time.time() - t, 's')"
   ]
  },
  {
   "cell_type": "code",
   "execution_count": 72,
   "metadata": {
    "colab": {
     "base_uri": "https://localhost:8080/"
    },
    "id": "szHBbET6XPNy",
    "outputId": "70f4e39c-8434-47e9-9a55-329044250590"
   },
   "outputs": [
    {
     "data": {
      "application/vnd.jupyter.widget-view+json": {
       "model_id": "6a5d05dc4b27446b8ed1d075c1b5e65c",
       "version_major": 2,
       "version_minor": 0
      },
      "text/plain": [
       "VBox()"
      ]
     },
     "metadata": {},
     "output_type": "display_data"
    },
    {
     "data": {
      "application/vnd.jupyter.widget-view+json": {
       "model_id": "",
       "version_major": 2,
       "version_minor": 0
      },
      "text/plain": [
       "FloatProgress(value=0.0, bar_style='info', description='Progress:', layout=Layout(height='25px', width='50%'),…"
      ]
     },
     "metadata": {},
     "output_type": "display_data"
    }
   ],
   "source": [
    "# t = time.time()\n",
    "\n",
    "# confusion_matrix(ensamble_pred_df, validation_data, assign_id = False)\n",
    "\n",
    "# print('Running time', time.time() - t, 's')"
   ]
  },
  {
   "cell_type": "markdown",
   "metadata": {
    "id": "cxKSjQ3RilPO"
   },
   "source": [
    "# <u>**TEST data**</u>"
   ]
  },
  {
   "cell_type": "code",
   "execution_count": 73,
   "metadata": {
    "id": "c7rAPgBLwrPr"
   },
   "outputs": [
    {
     "data": {
      "application/vnd.jupyter.widget-view+json": {
       "model_id": "7c0412537f4f4378a93382af45883bca",
       "version_major": 2,
       "version_minor": 0
      },
      "text/plain": [
       "VBox()"
      ]
     },
     "metadata": {},
     "output_type": "display_data"
    },
    {
     "data": {
      "application/vnd.jupyter.widget-view+json": {
       "model_id": "",
       "version_major": 2,
       "version_minor": 0
      },
      "text/plain": [
       "FloatProgress(value=0.0, bar_style='info', description='Progress:', layout=Layout(height='25px', width='50%'),…"
      ]
     },
     "metadata": {},
     "output_type": "display_data"
    },
    {
     "name": "stdout",
     "output_type": "stream",
     "text": [
      "Running time 0.1491546630859375"
     ]
    }
   ],
   "source": [
    "t = time.time()\n",
    "\n",
    "# Read a CSV file from S3 bucket into a Spark dataframe with an explicit schema\n",
    "# the Test data does not have fare_amount\n",
    "test_schema = StructType([\n",
    "    StructField(\"key\", IntegerType()),\n",
    "    StructField(\"pickup_datetime\", TimestampType()), # Will later extract date and time\n",
    "    StructField(\"pickup_longitude\", FloatType()),\n",
    "    StructField(\"pickup_latitude\", FloatType()),\n",
    "    StructField(\"dropoff_longitude\", FloatType()),\n",
    "    StructField(\"dropoff_latitude\", FloatType()),\n",
    "    StructField(\"passenger_count\", ByteType())\n",
    "])\n",
    "\n",
    "test_df = spark.read.format(\"csv\").option(\"header\", \"true\").schema(test_schema).option(\"TimeStampFormat\", \"yyyy-mm-dd hh:mm:ss\").load(f'{S3_BUCKET_URI}/{TEST_DATASET_FILENAME}')\n",
    "\n",
    "print('Running time', time.time() - t)"
   ]
  },
  {
   "cell_type": "code",
   "execution_count": 74,
   "metadata": {
    "colab": {
     "base_uri": "https://localhost:8080/"
    },
    "id": "ZJRs2TT_iy7x",
    "outputId": "f757422d-f09a-4d70-ba87-10556f2674ec"
   },
   "outputs": [
    {
     "data": {
      "application/vnd.jupyter.widget-view+json": {
       "model_id": "291e867ad08040eca1422df073a12e97",
       "version_major": 2,
       "version_minor": 0
      },
      "text/plain": [
       "VBox()"
      ]
     },
     "metadata": {},
     "output_type": "display_data"
    },
    {
     "data": {
      "application/vnd.jupyter.widget-view+json": {
       "model_id": "",
       "version_major": 2,
       "version_minor": 0
      },
      "text/plain": [
       "FloatProgress(value=0.0, bar_style='info', description='Progress:', layout=Layout(height='25px', width='50%'),…"
      ]
     },
     "metadata": {},
     "output_type": "display_data"
    },
    {
     "name": "stdout",
     "output_type": "stream",
     "text": [
      "root\n",
      " |-- key: integer (nullable = true)\n",
      " |-- pickup_datetime: timestamp (nullable = true)\n",
      " |-- pickup_longitude: float (nullable = true)\n",
      " |-- pickup_latitude: float (nullable = true)\n",
      " |-- dropoff_longitude: float (nullable = true)\n",
      " |-- dropoff_latitude: float (nullable = true)\n",
      " |-- passenger_count: byte (nullable = true)\n",
      "\n",
      "+--------+-------------------+----------------+---------------+-----------------+----------------+---------------+\n",
      "|     key|    pickup_datetime|pickup_longitude|pickup_latitude|dropoff_longitude|dropoff_latitude|passenger_count|\n",
      "+--------+-------------------+----------------+---------------+-----------------+----------------+---------------+\n",
      "|19990001|2012-01-31 07:04:14|       -73.94636|      40.792088|        -73.96618|       40.764984|              2|\n",
      "|19990002|2015-01-27 20:51:29|       -73.97137|        40.7604|       -73.995346|       40.744392|              6|\n",
      "|19990003|2015-01-18 16:41:16|       -73.96013|       40.76694|        -73.95677|        40.77497|              5|\n",
      "|19990004|2009-01-30 04:13:32|       -73.98996|       40.72943|       -73.994835|       40.743565|              1|\n",
      "|19990005|2010-01-08 07:55:00|       -73.96511|      40.791817|        -73.94468|       40.773884|              1|\n",
      "|19990006|2010-01-05 21:35:06|       -73.98098|       40.75984|        -73.98247|       40.742813|              1|\n",
      "|19990007|2009-01-10 14:04:26|       -73.98992|       40.76732|       -73.993195|       40.749657|              1|\n",
      "|19990008|2009-01-28 16:58:00|             0.0|            0.0|              0.0|             0.0|              1|\n",
      "|19990009|2010-01-22 01:04:05|       -73.96423|       40.77099|        -73.97126|       40.765804|              1|\n",
      "|19990010|2011-01-29 23:17:00|       -73.97981|      40.738976|        -73.98359|        40.72161|              2|\n",
      "|19990011|2015-01-12 17:27:23|       -74.00958|       40.70547|          -73.997|       40.734158|              1|\n",
      "|19990012|2011-01-13 00:07:00|       -73.97613|      40.765427|        -73.96399|        40.79803|              1|\n",
      "|19990013|2011-01-02 21:14:00|       -73.97986|       40.73921|       -73.995834|       40.720974|              1|\n",
      "|19990014|2013-01-28 11:49:29|             0.0|            0.0|              0.0|             0.0|              1|\n",
      "|19990015|2014-01-06 00:31:00|      -74.004036|        40.7133|       -73.966354|       40.690605|              4|\n",
      "|19990016|2010-01-28 22:28:00|       -73.99408|        40.7514|       -73.977905|       40.746494|              1|\n",
      "|19990017|2014-01-18 20:34:59|      -73.960815|      40.769947|       -73.978714|       40.777588|              1|\n",
      "|19990018|2012-01-07 16:09:21|       -73.97951|      40.761196|        -73.96603|       40.765095|              1|\n",
      "|19990019|2013-01-12 23:12:00|      -73.995285|      40.739227|        -73.98354|       40.776005|              2|\n",
      "|19990020|2015-01-08 05:32:31|       -73.95289|        40.8105|        -73.98813|         40.7442|              1|\n",
      "+--------+-------------------+----------------+---------------+-----------------+----------------+---------------+\n",
      "only showing top 20 rows"
     ]
    }
   ],
   "source": [
    "test_df.printSchema()\n",
    "test_df.show()"
   ]
  },
  {
   "cell_type": "markdown",
   "metadata": {
    "id": "W3Jo3raMaVaI"
   },
   "source": [
    "### <u>**Converting bad coordinates values to their mean**</u>"
   ]
  },
  {
   "cell_type": "code",
   "execution_count": 75,
   "metadata": {
    "id": "z61B3FQ-PWqI"
   },
   "outputs": [
    {
     "data": {
      "application/vnd.jupyter.widget-view+json": {
       "model_id": "f39538d7c6054711b061f0ca524c60a8",
       "version_major": 2,
       "version_minor": 0
      },
      "text/plain": [
       "VBox()"
      ]
     },
     "metadata": {},
     "output_type": "display_data"
    },
    {
     "data": {
      "application/vnd.jupyter.widget-view+json": {
       "model_id": "",
       "version_major": 2,
       "version_minor": 0
      },
      "text/plain": [
       "FloatProgress(value=0.0, bar_style='info', description='Progress:', layout=Layout(height='25px', width='50%'),…"
      ]
     },
     "metadata": {},
     "output_type": "display_data"
    },
    {
     "name": "stdout",
     "output_type": "stream",
     "text": [
      "Running time 0.6080799102783203 s"
     ]
    }
   ],
   "source": [
    "# mean_pickup_longitude\n",
    "\n",
    "t = time.time()\n",
    "\n",
    "\n",
    "pickup_longitude_location_conditions = (col(\"pickup_longitude\") != 0) & \\\n",
    "                      ((col(\"pickup_longitude\") != col(\"dropoff_longitude\")) | (col(\"pickup_latitude\") != col(\"dropoff_latitude\"))) & \\\n",
    "                      (col(\"pickup_longitude\") > -180) & (col(\"pickup_longitude\") < 180)\n",
    "\n",
    "pickup_longitude_df = test_df.filter(pickup_longitude_location_conditions)\n",
    "\n",
    "mean_pickup_longitude = pickup_longitude_df.agg(F.mean('pickup_longitude').alias('mean'))\n",
    "\n",
    "mean_pickup_longitude = mean_pickup_longitude.collect()[0][0]\n",
    "\n",
    "test_df = test_df.withColumn(\"pickup_longitude\", when(~ pickup_longitude_location_conditions, mean_pickup_longitude).otherwise(test_df.pickup_longitude))\n",
    "\n",
    "\n",
    "print('Running time', time.time() - t, 's')"
   ]
  },
  {
   "cell_type": "code",
   "execution_count": 76,
   "metadata": {
    "id": "43LBVh2vOR0L"
   },
   "outputs": [
    {
     "data": {
      "application/vnd.jupyter.widget-view+json": {
       "model_id": "a7029700cc3d4e78bd7b0240063377b8",
       "version_major": 2,
       "version_minor": 0
      },
      "text/plain": [
       "VBox()"
      ]
     },
     "metadata": {},
     "output_type": "display_data"
    },
    {
     "data": {
      "application/vnd.jupyter.widget-view+json": {
       "model_id": "",
       "version_major": 2,
       "version_minor": 0
      },
      "text/plain": [
       "FloatProgress(value=0.0, bar_style='info', description='Progress:', layout=Layout(height='25px', width='50%'),…"
      ]
     },
     "metadata": {},
     "output_type": "display_data"
    },
    {
     "name": "stdout",
     "output_type": "stream",
     "text": [
      "Running time 0.5597965717315674 s"
     ]
    }
   ],
   "source": [
    "# mean_pickup_latitude\n",
    "\n",
    "t = time.time()\n",
    "\n",
    "\n",
    "pickup_latitude_location_conditions = (col(\"pickup_latitude\") != 0) & \\\n",
    "                      ((col(\"pickup_longitude\") != col(\"dropoff_longitude\")) | (col(\"pickup_latitude\") != col(\"dropoff_latitude\"))) & \\\n",
    "                      (col(\"pickup_latitude\") > -90) & (col(\"pickup_latitude\") < 90)\n",
    "\n",
    "pickup_latitude_df = test_df.filter(pickup_latitude_location_conditions)\n",
    "\n",
    "mean_pickup_latitude = pickup_latitude_df.agg(F.mean('pickup_latitude').alias('mean'))\n",
    "\n",
    "mean_pickup_latitude = mean_pickup_latitude.collect()[0][0]\n",
    "\n",
    "test_df = test_df.withColumn(\"pickup_latitude\", when(~ pickup_latitude_location_conditions, mean_pickup_latitude).otherwise(test_df.pickup_latitude))\n",
    "\n",
    "\n",
    "print('Running time', time.time() - t, 's')"
   ]
  },
  {
   "cell_type": "code",
   "execution_count": 77,
   "metadata": {
    "id": "qtVTdE-WXWp-"
   },
   "outputs": [
    {
     "data": {
      "application/vnd.jupyter.widget-view+json": {
       "model_id": "c19867d5a9e340a7a73df5acba3d4374",
       "version_major": 2,
       "version_minor": 0
      },
      "text/plain": [
       "VBox()"
      ]
     },
     "metadata": {},
     "output_type": "display_data"
    },
    {
     "data": {
      "application/vnd.jupyter.widget-view+json": {
       "model_id": "",
       "version_major": 2,
       "version_minor": 0
      },
      "text/plain": [
       "FloatProgress(value=0.0, bar_style='info', description='Progress:', layout=Layout(height='25px', width='50%'),…"
      ]
     },
     "metadata": {},
     "output_type": "display_data"
    },
    {
     "name": "stdout",
     "output_type": "stream",
     "text": [
      "Running time 0.4232790470123291 s"
     ]
    }
   ],
   "source": [
    "# mean_dropoff_longitude\n",
    "\n",
    "t = time.time()\n",
    "\n",
    "\n",
    "dropoff_longitude_location_conditions = (col(\"dropoff_longitude\") != 0) & \\\n",
    "                      ((col(\"pickup_longitude\") != col(\"dropoff_longitude\")) | (col(\"pickup_latitude\") != col(\"dropoff_latitude\"))) & \\\n",
    "                      (col(\"dropoff_longitude\") > -180) & (col(\"dropoff_longitude\") < 180)\n",
    "\n",
    "dropoff_longitude_df = test_df.filter(dropoff_longitude_location_conditions)\n",
    "\n",
    "mean_dropoff_longitude = dropoff_longitude_df.agg(F.mean('dropoff_longitude').alias('mean'))\n",
    "\n",
    "mean_dropoff_longitude = mean_dropoff_longitude.collect()[0][0]\n",
    "\n",
    "test_df = test_df.withColumn(\"dropoff_longitude\", when(~ dropoff_longitude_location_conditions, mean_dropoff_longitude).otherwise(test_df.dropoff_longitude))\n",
    "\n",
    "\n",
    "print('Running time', time.time() - t, 's')"
   ]
  },
  {
   "cell_type": "code",
   "execution_count": 78,
   "metadata": {
    "id": "KsENnDN_ZVn4"
   },
   "outputs": [
    {
     "data": {
      "application/vnd.jupyter.widget-view+json": {
       "model_id": "ac526cbc9f094532a5d5a369bf26603c",
       "version_major": 2,
       "version_minor": 0
      },
      "text/plain": [
       "VBox()"
      ]
     },
     "metadata": {},
     "output_type": "display_data"
    },
    {
     "data": {
      "application/vnd.jupyter.widget-view+json": {
       "model_id": "",
       "version_major": 2,
       "version_minor": 0
      },
      "text/plain": [
       "FloatProgress(value=0.0, bar_style='info', description='Progress:', layout=Layout(height='25px', width='50%'),…"
      ]
     },
     "metadata": {},
     "output_type": "display_data"
    },
    {
     "name": "stdout",
     "output_type": "stream",
     "text": [
      "Running time 0.5046801567077637 s"
     ]
    }
   ],
   "source": [
    "# mean_dropoff_latitude\n",
    "\n",
    "t = time.time()\n",
    "\n",
    "\n",
    "dropoff_latitude_location_conditions = (col(\"dropoff_latitude\") != 0) & \\\n",
    "                      ((col(\"pickup_longitude\") != col(\"dropoff_longitude\")) | (col(\"pickup_latitude\") != col(\"dropoff_latitude\"))) & \\\n",
    "                      (col(\"dropoff_latitude\") > -90) & (col(\"dropoff_latitude\") < 90)\n",
    "\n",
    "dropoff_latitude_df = test_df.filter(dropoff_latitude_location_conditions)\n",
    "\n",
    "mean_dropoff_latitude = dropoff_latitude_df.agg(F.mean('dropoff_latitude').alias('mean'))\n",
    "\n",
    "mean_dropoff_latitude = mean_dropoff_latitude.collect()[0][0]\n",
    "\n",
    "test_df = test_df.withColumn(\"dropoff_latitude\", when(~ dropoff_latitude_location_conditions, mean_dropoff_latitude).otherwise(test_df.dropoff_latitude))\n",
    "\n",
    "\n",
    "print('Running time', time.time() - t, 's')"
   ]
  },
  {
   "cell_type": "code",
   "execution_count": 79,
   "metadata": {
    "colab": {
     "base_uri": "https://localhost:8080/"
    },
    "id": "INisIg_yPNYm",
    "outputId": "65ae6b0c-0c40-4d12-e6d7-1e5cf0e7f99b"
   },
   "outputs": [
    {
     "data": {
      "application/vnd.jupyter.widget-view+json": {
       "model_id": "8d0a46b7a7a347eb992e85f33563b7c5",
       "version_major": 2,
       "version_minor": 0
      },
      "text/plain": [
       "VBox()"
      ]
     },
     "metadata": {},
     "output_type": "display_data"
    },
    {
     "data": {
      "application/vnd.jupyter.widget-view+json": {
       "model_id": "",
       "version_major": 2,
       "version_minor": 0
      },
      "text/plain": [
       "FloatProgress(value=0.0, bar_style='info', description='Progress:', layout=Layout(height='25px', width='50%'),…"
      ]
     },
     "metadata": {},
     "output_type": "display_data"
    },
    {
     "name": "stdout",
     "output_type": "stream",
     "text": [
      "-73.90717703874557"
     ]
    }
   ],
   "source": [
    "mean_pickup_longitude"
   ]
  },
  {
   "cell_type": "code",
   "execution_count": 80,
   "metadata": {
    "colab": {
     "base_uri": "https://localhost:8080/"
    },
    "id": "XL9w70GibomB",
    "outputId": "8783625e-136b-49f2-fa0e-4449f0ec6625"
   },
   "outputs": [
    {
     "data": {
      "application/vnd.jupyter.widget-view+json": {
       "model_id": "d03f1c7c206a446ab62d587a5480f990",
       "version_major": 2,
       "version_minor": 0
      },
      "text/plain": [
       "VBox()"
      ]
     },
     "metadata": {},
     "output_type": "display_data"
    },
    {
     "data": {
      "application/vnd.jupyter.widget-view+json": {
       "model_id": "",
       "version_major": 2,
       "version_minor": 0
      },
      "text/plain": [
       "FloatProgress(value=0.0, bar_style='info', description='Progress:', layout=Layout(height='25px', width='50%'),…"
      ]
     },
     "metadata": {},
     "output_type": "display_data"
    },
    {
     "name": "stdout",
     "output_type": "stream",
     "text": [
      "+--------+-------------------+------------------+------------------+------------------+------------------+---------------+\n",
      "|     key|    pickup_datetime|  pickup_longitude|   pickup_latitude| dropoff_longitude|  dropoff_latitude|passenger_count|\n",
      "+--------+-------------------+------------------+------------------+------------------+------------------+---------------+\n",
      "|19990001|2012-01-31 07:04:14|-73.94635772705078| 40.79208755493164|-73.96617889404297|40.764984130859375|              2|\n",
      "|19990002|2015-01-27 20:51:29|-73.97136688232422|40.760398864746094|-73.99534606933594| 40.74439239501953|              6|\n",
      "|19990003|2015-01-18 16:41:16|-73.96012878417969| 40.76694107055664|-73.95677185058594| 40.77497100830078|              5|\n",
      "|19990004|2009-01-30 04:13:32|-73.98995971679688| 40.72943115234375|-73.99483489990234| 40.74356460571289|              1|\n",
      "|19990005|2010-01-08 07:55:00| -73.9651107788086| 40.79181671142578| -73.9446792602539| 40.77388381958008|              1|\n",
      "|19990006|2010-01-05 21:35:06| -73.9809799194336| 40.75983810424805|-73.98246765136719| 40.74281311035156|              1|\n",
      "|19990007|2009-01-10 14:04:26|-73.98992156982422| 40.76731872558594|-73.99319458007812|40.749656677246094|              1|\n",
      "|19990008|2009-01-28 16:58:00|-73.90717703874557|40.703922799719685|-73.92746864800164| 40.70492410484554|              1|\n",
      "|19990009|2010-01-22 01:04:05| -73.9642333984375| 40.77098846435547|-73.97126007080078|40.765804290771484|              1|\n",
      "|19990010|2011-01-29 23:17:00|-73.97981262207031|40.738975524902344|-73.98358917236328| 40.72161102294922|              2|\n",
      "|19990011|2015-01-12 17:27:23|-74.00958251953125| 40.70547103881836|-73.99700164794922| 40.73415756225586|              1|\n",
      "|19990012|2011-01-13 00:07:00|-73.97612762451172| 40.76542663574219| -73.9639892578125|40.798030853271484|              1|\n",
      "|19990013|2011-01-02 21:14:00| -73.9798583984375| 40.73920822143555|-73.99583435058594| 40.72097396850586|              1|\n",
      "|19990014|2013-01-28 11:49:29|-73.90717703874557|40.703922799719685|-73.92746864800164| 40.70492410484554|              1|\n",
      "|19990015|2014-01-06 00:31:00|-74.00403594970703| 40.71329879760742|-73.96635437011719| 40.69060516357422|              4|\n",
      "|19990016|2010-01-28 22:28:00|-73.99407958984375|40.751399993896484| -73.9779052734375| 40.74649429321289|              1|\n",
      "|19990017|2014-01-18 20:34:59| -73.9608154296875| 40.76994705200195|-73.97871398925781|   40.777587890625|              1|\n",
      "|19990018|2012-01-07 16:09:21|-73.97950744628906| 40.76119613647461|-73.96602630615234| 40.76509475708008|              1|\n",
      "|19990019|2013-01-12 23:12:00|-73.99528503417969|40.739227294921875| -73.9835433959961|40.776004791259766|              2|\n",
      "|19990020|2015-01-08 05:32:31|-73.95288848876953| 40.81050109863281|-73.98812866210938| 40.74420166015625|              1|\n",
      "+--------+-------------------+------------------+------------------+------------------+------------------+---------------+\n",
      "only showing top 20 rows"
     ]
    }
   ],
   "source": [
    "test_df.show()"
   ]
  },
  {
   "cell_type": "markdown",
   "metadata": {
    "id": "Z6G7g2LpxH3O"
   },
   "source": [
    "### <u>**Casting \"passenger_count\" column to integer values**</u>"
   ]
  },
  {
   "cell_type": "code",
   "execution_count": 81,
   "metadata": {
    "colab": {
     "base_uri": "https://localhost:8080/"
    },
    "id": "AFfZNO3PxH3P",
    "outputId": "7ee01210-dcd2-49c5-e78d-efba7344f182"
   },
   "outputs": [
    {
     "data": {
      "application/vnd.jupyter.widget-view+json": {
       "model_id": "b6ed2f88977f4fbea2e277ea1478c8b2",
       "version_major": 2,
       "version_minor": 0
      },
      "text/plain": [
       "VBox()"
      ]
     },
     "metadata": {},
     "output_type": "display_data"
    },
    {
     "data": {
      "application/vnd.jupyter.widget-view+json": {
       "model_id": "",
       "version_major": 2,
       "version_minor": 0
      },
      "text/plain": [
       "FloatProgress(value=0.0, bar_style='info', description='Progress:', layout=Layout(height='25px', width='50%'),…"
      ]
     },
     "metadata": {},
     "output_type": "display_data"
    },
    {
     "name": "stdout",
     "output_type": "stream",
     "text": [
      "Running time 0.003885507583618164 s"
     ]
    }
   ],
   "source": [
    "t = time.time()\n",
    "\n",
    "test_df = test_df.withColumn(\"passenger_count\", test_df[\"passenger_count\"].cast(IntegerType()))\n",
    "\n",
    "print('Running time', time.time() - t, 's')"
   ]
  },
  {
   "cell_type": "markdown",
   "metadata": {
    "id": "OG_S9Wl0xH3Q"
   },
   "source": [
    "### <u>**Casting coordinates columns (\"pickup_longitude\", \"pickup_latitude\", \"dropoff_longitude\", \"dropoff_latitude\") to floats**</u>"
   ]
  },
  {
   "cell_type": "code",
   "execution_count": 82,
   "metadata": {
    "colab": {
     "base_uri": "https://localhost:8080/"
    },
    "id": "ubmM4Wo4xH3Q",
    "outputId": "49738047-ce49-4712-ffae-4dca3183880c"
   },
   "outputs": [
    {
     "data": {
      "application/vnd.jupyter.widget-view+json": {
       "model_id": "4701d52076b94f988779bbabb09071ca",
       "version_major": 2,
       "version_minor": 0
      },
      "text/plain": [
       "VBox()"
      ]
     },
     "metadata": {},
     "output_type": "display_data"
    },
    {
     "data": {
      "application/vnd.jupyter.widget-view+json": {
       "model_id": "",
       "version_major": 2,
       "version_minor": 0
      },
      "text/plain": [
       "FloatProgress(value=0.0, bar_style='info', description='Progress:', layout=Layout(height='25px', width='50%'),…"
      ]
     },
     "metadata": {},
     "output_type": "display_data"
    },
    {
     "name": "stdout",
     "output_type": "stream",
     "text": [
      "Running time 0.024311065673828125 s"
     ]
    }
   ],
   "source": [
    "t = time.time()\n",
    "\n",
    "for col_name in COORDINATES_COLUMNS:\n",
    "    test_df = test_df.withColumn(col_name, col(col_name).cast('float'))\n",
    "\n",
    "print('Running time', time.time() - t, 's')"
   ]
  },
  {
   "cell_type": "markdown",
   "metadata": {
    "id": "4eKnWzeG1dAf"
   },
   "source": [
    "## <u>**Feature Engineering**</u>"
   ]
  },
  {
   "cell_type": "markdown",
   "metadata": {
    "id": "02QFSjc-1dAg"
   },
   "source": [
    "Repeat process from above (training data part) to include all necessary features"
   ]
  },
  {
   "cell_type": "markdown",
   "metadata": {
    "id": "Qf_xgtAK1dAg"
   },
   "source": [
    "### 1.   Convert UTC time to NYC time -> \"local_pickup_datetime\" feature"
   ]
  },
  {
   "cell_type": "code",
   "execution_count": 83,
   "metadata": {
    "colab": {
     "base_uri": "https://localhost:8080/"
    },
    "id": "bN6-AFsI1dAg",
    "outputId": "27c5c882-383a-4f2e-9943-27ec2c8aa155"
   },
   "outputs": [
    {
     "data": {
      "application/vnd.jupyter.widget-view+json": {
       "model_id": "63b9325b87fc412590ffbed15a38f9f5",
       "version_major": 2,
       "version_minor": 0
      },
      "text/plain": [
       "VBox()"
      ]
     },
     "metadata": {},
     "output_type": "display_data"
    },
    {
     "data": {
      "application/vnd.jupyter.widget-view+json": {
       "model_id": "",
       "version_major": 2,
       "version_minor": 0
      },
      "text/plain": [
       "FloatProgress(value=0.0, bar_style='info', description='Progress:', layout=Layout(height='25px', width='50%'),…"
      ]
     },
     "metadata": {},
     "output_type": "display_data"
    },
    {
     "name": "stdout",
     "output_type": "stream",
     "text": [
      "Running time 0.010500669479370117 s"
     ]
    }
   ],
   "source": [
    "t = time.time()\n",
    "\n",
    "# http://spark.apache.org/docs/3.1.1/api/python/reference/api/pyspark.sql.functions.from_utc_timestamp.html\n",
    "test_df = test_df.withColumn('local_pickup_datetime', from_utc_timestamp(\"pickup_datetime\", \"America/New_York\"))\n",
    "\n",
    "print('Running time', time.time() - t, 's')"
   ]
  },
  {
   "cell_type": "markdown",
   "metadata": {
    "id": "-iyhROj51dAh"
   },
   "source": [
    "### 2.   Adding \"pickup_hour\" feature"
   ]
  },
  {
   "cell_type": "code",
   "execution_count": 84,
   "metadata": {
    "colab": {
     "base_uri": "https://localhost:8080/"
    },
    "id": "sQrd7enz1dAi",
    "outputId": "647d43f3-a315-446e-be27-4ca513835d05"
   },
   "outputs": [
    {
     "data": {
      "application/vnd.jupyter.widget-view+json": {
       "model_id": "22c7c052aaa1454aa07d559a28fa6a03",
       "version_major": 2,
       "version_minor": 0
      },
      "text/plain": [
       "VBox()"
      ]
     },
     "metadata": {},
     "output_type": "display_data"
    },
    {
     "data": {
      "application/vnd.jupyter.widget-view+json": {
       "model_id": "",
       "version_major": 2,
       "version_minor": 0
      },
      "text/plain": [
       "FloatProgress(value=0.0, bar_style='info', description='Progress:', layout=Layout(height='25px', width='50%'),…"
      ]
     },
     "metadata": {},
     "output_type": "display_data"
    },
    {
     "name": "stdout",
     "output_type": "stream",
     "text": [
      "Running time 0.009486913681030273 s"
     ]
    }
   ],
   "source": [
    "t = time.time()\n",
    "\n",
    "test_df = test_df.withColumn(\"pickup_hour\", hour(col(\"local_pickup_datetime\")))\n",
    "\n",
    "print('Running time', time.time() - t, 's')"
   ]
  },
  {
   "cell_type": "markdown",
   "metadata": {
    "id": "tAwnPoBo1dAj"
   },
   "source": [
    "### 3.   Adding \"day\" feature"
   ]
  },
  {
   "cell_type": "code",
   "execution_count": 85,
   "metadata": {
    "colab": {
     "base_uri": "https://localhost:8080/"
    },
    "id": "VSOgpbco1dAj",
    "outputId": "54bd2a99-01ae-4ef9-fadd-4dd32b772a36"
   },
   "outputs": [
    {
     "data": {
      "application/vnd.jupyter.widget-view+json": {
       "model_id": "f3570e59ecbb416e90ca4544ea0c013e",
       "version_major": 2,
       "version_minor": 0
      },
      "text/plain": [
       "VBox()"
      ]
     },
     "metadata": {},
     "output_type": "display_data"
    },
    {
     "data": {
      "application/vnd.jupyter.widget-view+json": {
       "model_id": "",
       "version_major": 2,
       "version_minor": 0
      },
      "text/plain": [
       "FloatProgress(value=0.0, bar_style='info', description='Progress:', layout=Layout(height='25px', width='50%'),…"
      ]
     },
     "metadata": {},
     "output_type": "display_data"
    },
    {
     "name": "stdout",
     "output_type": "stream",
     "text": [
      "Running time 0.009987354278564453 s"
     ]
    }
   ],
   "source": [
    "t = time.time()\n",
    "\n",
    "test_df = test_df.withColumn(\"day\", date_format(col(\"local_pickup_datetime\"), \"EEEE\"))\n",
    "\n",
    "print('Running time', time.time() - t, 's')"
   ]
  },
  {
   "cell_type": "markdown",
   "metadata": {
    "id": "aAFzIX_V1dAj"
   },
   "source": [
    "### 4. Adding \"holiday\" feature"
   ]
  },
  {
   "cell_type": "markdown",
   "metadata": {
    "id": "j25gzbrf1dAk"
   },
   "source": [
    "We are assuming that the ride fare during holiday/weekend is higher than business days."
   ]
  },
  {
   "cell_type": "code",
   "execution_count": 86,
   "metadata": {
    "id": "7gxVNxdv1dAk"
   },
   "outputs": [
    {
     "data": {
      "application/vnd.jupyter.widget-view+json": {
       "model_id": "4bf694c1fed74fafb241fba8d9c6bab9",
       "version_major": 2,
       "version_minor": 0
      },
      "text/plain": [
       "VBox()"
      ]
     },
     "metadata": {},
     "output_type": "display_data"
    },
    {
     "data": {
      "application/vnd.jupyter.widget-view+json": {
       "model_id": "",
       "version_major": 2,
       "version_minor": 0
      },
      "text/plain": [
       "FloatProgress(value=0.0, bar_style='info', description='Progress:', layout=Layout(height='25px', width='50%'),…"
      ]
     },
     "metadata": {},
     "output_type": "display_data"
    },
    {
     "name": "stdout",
     "output_type": "stream",
     "text": [
      "Running time 0.6645445823669434 s"
     ]
    }
   ],
   "source": [
    "t = time.time()\n",
    "\n",
    "test_df = test_df.withColumn(\"holiday_or_weekend\", when(date_format(col(\"local_pickup_datetime\"), 'yyyy-MM-dd').isin(holidays) , 1).when(col('day').isin(WEEKEND), 1).otherwise(0))\n",
    "\n",
    "print('Running time', time.time() - t, 's')"
   ]
  },
  {
   "cell_type": "markdown",
   "metadata": {
    "id": "RT6R8WMH1dAl"
   },
   "source": [
    "### 5. Adding feature: \"fare_length\" (distance in KM)"
   ]
  },
  {
   "cell_type": "code",
   "execution_count": 87,
   "metadata": {
    "colab": {
     "base_uri": "https://localhost:8080/"
    },
    "id": "qYv_rYQp1dAl",
    "outputId": "588bf676-14f8-4d4b-c8ae-e0dd722f67cb"
   },
   "outputs": [
    {
     "data": {
      "application/vnd.jupyter.widget-view+json": {
       "model_id": "3faf049c9123476489a78f01c519107d",
       "version_major": 2,
       "version_minor": 0
      },
      "text/plain": [
       "VBox()"
      ]
     },
     "metadata": {},
     "output_type": "display_data"
    },
    {
     "data": {
      "application/vnd.jupyter.widget-view+json": {
       "model_id": "",
       "version_major": 2,
       "version_minor": 0
      },
      "text/plain": [
       "FloatProgress(value=0.0, bar_style='info', description='Progress:', layout=Layout(height='25px', width='50%'),…"
      ]
     },
     "metadata": {},
     "output_type": "display_data"
    },
    {
     "name": "stdout",
     "output_type": "stream",
     "text": [
      "Running time 0.06375861167907715 s"
     ]
    }
   ],
   "source": [
    "t = time.time()\n",
    "\n",
    "test_df = test_df.withColumn(\"ride_length\", haversine(col(\"pickup_longitude\"), col(\"pickup_latitude\"), col(\"dropoff_longitude\"), col(\"dropoff_latitude\")))\n",
    "\n",
    "print('Running time', time.time() - t, 's')"
   ]
  },
  {
   "cell_type": "markdown",
   "metadata": {
    "id": "kw3s0lTy1dAn"
   },
   "source": [
    "\n",
    "### 6. Check if ride to/from JFK airport or LaGuardia"
   ]
  },
  {
   "cell_type": "code",
   "execution_count": 88,
   "metadata": {},
   "outputs": [
    {
     "data": {
      "application/vnd.jupyter.widget-view+json": {
       "model_id": "b89ed0820ef04c82ac2a2b13fac8ad96",
       "version_major": 2,
       "version_minor": 0
      },
      "text/plain": [
       "VBox()"
      ]
     },
     "metadata": {},
     "output_type": "display_data"
    },
    {
     "data": {
      "application/vnd.jupyter.widget-view+json": {
       "model_id": "",
       "version_major": 2,
       "version_minor": 0
      },
      "text/plain": [
       "FloatProgress(value=0.0, bar_style='info', description='Progress:', layout=Layout(height='25px', width='50%'),…"
      ]
     },
     "metadata": {},
     "output_type": "display_data"
    },
    {
     "name": "stdout",
     "output_type": "stream",
     "text": [
      "Running time 0.02641582489013672 s"
     ]
    }
   ],
   "source": [
    "t = time.time()\n",
    "\n",
    "test_df = test_df.withColumn('test_JFK_longitude', lit(JFK_COORDINATES['longitude']))\n",
    "test_df = test_df.withColumn('test_JFK_latitude', lit(JFK_COORDINATES['latitude']))\n",
    "\n",
    "test_df = test_df.withColumn('test_LaGuardia_longitude', lit(LaGuardia_COORDINATES['longitude']))\n",
    "test_df = test_df.withColumn('test_LaGuardia_latitude', lit(LaGuardia_COORDINATES['latitude']))\n",
    "\n",
    "print('Running time', time.time() - t, 's')"
   ]
  },
  {
   "cell_type": "code",
   "execution_count": 89,
   "metadata": {},
   "outputs": [
    {
     "data": {
      "application/vnd.jupyter.widget-view+json": {
       "model_id": "ff805009893b4db78fb0e5b87bf20f90",
       "version_major": 2,
       "version_minor": 0
      },
      "text/plain": [
       "VBox()"
      ]
     },
     "metadata": {},
     "output_type": "display_data"
    },
    {
     "data": {
      "application/vnd.jupyter.widget-view+json": {
       "model_id": "",
       "version_major": 2,
       "version_minor": 0
      },
      "text/plain": [
       "FloatProgress(value=0.0, bar_style='info', description='Progress:', layout=Layout(height='25px', width='50%'),…"
      ]
     },
     "metadata": {},
     "output_type": "display_data"
    },
    {
     "name": "stdout",
     "output_type": "stream",
     "text": [
      "Running time 0.21942567825317383 s"
     ]
    }
   ],
   "source": [
    "t = time.time()\n",
    "\n",
    "test_df = test_df.withColumn(\"is_airport_ride\", is_airport_ride(col(\"pickup_longitude\"), col(\"pickup_latitude\"), col(\"dropoff_longitude\"), col(\"dropoff_latitude\"),\n",
    "                                                                  col(\"test_JFK_longitude\"), col(\"test_JFK_latitude\"), col(\"test_LaGuardia_longitude\"), col(\"test_LaGuardia_latitude\")\n",
    "                                                                 )).drop('test_JFK_longitude', 'test_JFK_latitude', 'test_LaGuardia_longitude', 'test_LaGuardia_latitude')\n",
    "test_df = test_df.withColumn(\"is_airport_ride\", when(col('is_airport_ride') >=  1, 1).otherwise(0))\n",
    "\n",
    "print('Running time', time.time() - t, 's')"
   ]
  },
  {
   "cell_type": "markdown",
   "metadata": {
    "id": "WJ56X1cc2mxg"
   },
   "source": [
    "## <u>**Get final vector for model**</u>"
   ]
  },
  {
   "cell_type": "code",
   "execution_count": 90,
   "metadata": {
    "id": "gJIFcu6r2mxg"
   },
   "outputs": [
    {
     "data": {
      "application/vnd.jupyter.widget-view+json": {
       "model_id": "932e5675009048069fdfbaa8b7c60e37",
       "version_major": 2,
       "version_minor": 0
      },
      "text/plain": [
       "VBox()"
      ]
     },
     "metadata": {},
     "output_type": "display_data"
    },
    {
     "data": {
      "application/vnd.jupyter.widget-view+json": {
       "model_id": "",
       "version_major": 2,
       "version_minor": 0
      },
      "text/plain": [
       "FloatProgress(value=0.0, bar_style='info', description='Progress:', layout=Layout(height='25px', width='50%'),…"
      ]
     },
     "metadata": {},
     "output_type": "display_data"
    },
    {
     "name": "stdout",
     "output_type": "stream",
     "text": [
      "Running time 0.020181894302368164 s"
     ]
    }
   ],
   "source": [
    "t = time.time()\n",
    "\n",
    "FINAL_COLUMNS = [\"passenger_count\", \"ride_length\", \n",
    "                 \"is_airport_ride\",\n",
    "                 \"pickup_hour\", \"holiday_or_weekend\"]\n",
    "\n",
    "final_test_df = test_df.select(*FINAL_COLUMNS)\n",
    "\n",
    "print('Running time', time.time() - t, 's')"
   ]
  },
  {
   "cell_type": "code",
   "execution_count": 91,
   "metadata": {
    "colab": {
     "base_uri": "https://localhost:8080/"
    },
    "id": "BX92HhYz2mxh",
    "outputId": "7a6e7160-c094-417b-f166-d84e3691a1e6"
   },
   "outputs": [
    {
     "data": {
      "application/vnd.jupyter.widget-view+json": {
       "model_id": "773949e6d33e4edcb1f58c3aa07f7cde",
       "version_major": 2,
       "version_minor": 0
      },
      "text/plain": [
       "VBox()"
      ]
     },
     "metadata": {},
     "output_type": "display_data"
    },
    {
     "data": {
      "application/vnd.jupyter.widget-view+json": {
       "model_id": "",
       "version_major": 2,
       "version_minor": 0
      },
      "text/plain": [
       "FloatProgress(value=0.0, bar_style='info', description='Progress:', layout=Layout(height='25px', width='50%'),…"
      ]
     },
     "metadata": {},
     "output_type": "display_data"
    },
    {
     "name": "stdout",
     "output_type": "stream",
     "text": [
      "Running time 0.03207063674926758 s"
     ]
    }
   ],
   "source": [
    "t = time.time()\n",
    "\n",
    "test_feature_cols = final_test_df.columns\n",
    "\n",
    "assembler = VectorAssembler(inputCols=test_feature_cols, outputCol=\"features\")\n",
    "\n",
    "# Now let us use the transform method to transform our dataset\n",
    "final_test_df = assembler.transform(final_test_df)\n",
    "\n",
    "print('Running time', time.time() - t, 's')"
   ]
  },
  {
   "cell_type": "markdown",
   "metadata": {
    "id": "G8io3uKt2mxi"
   },
   "source": [
    "## <u>**Scaling the data**</u>"
   ]
  },
  {
   "cell_type": "code",
   "execution_count": 92,
   "metadata": {
    "colab": {
     "base_uri": "https://localhost:8080/"
    },
    "id": "5R2I_9_J2mxi",
    "outputId": "9c7f0161-a585-4439-e0c5-cc38d14c38cb"
   },
   "outputs": [
    {
     "data": {
      "application/vnd.jupyter.widget-view+json": {
       "model_id": "7bf8c75057514625af93870986097314",
       "version_major": 2,
       "version_minor": 0
      },
      "text/plain": [
       "VBox()"
      ]
     },
     "metadata": {},
     "output_type": "display_data"
    },
    {
     "data": {
      "application/vnd.jupyter.widget-view+json": {
       "model_id": "",
       "version_major": 2,
       "version_minor": 0
      },
      "text/plain": [
       "FloatProgress(value=0.0, bar_style='info', description='Progress:', layout=Layout(height='25px', width='50%'),…"
      ]
     },
     "metadata": {},
     "output_type": "display_data"
    },
    {
     "name": "stdout",
     "output_type": "stream",
     "text": [
      "Running time 0.009946584701538086 s"
     ]
    }
   ],
   "source": [
    "t = time.time()\n",
    "\n",
    "final_test_df = minmax_model.transform(final_test_df)\n",
    "\n",
    "print('Running time', time.time() - t, 's')"
   ]
  },
  {
   "cell_type": "markdown",
   "metadata": {
    "id": "fDTc9uCmdShH"
   },
   "source": [
    "## <u>**PREDICTIONS - Test ML Models**</u>"
   ]
  },
  {
   "cell_type": "markdown",
   "metadata": {
    "id": "XqemgHz5d8j7"
   },
   "source": [
    "### Get predictions with a Logistic Regression"
   ]
  },
  {
   "cell_type": "code",
   "execution_count": 93,
   "metadata": {
    "id": "3fM_gwRtdRfc"
   },
   "outputs": [
    {
     "data": {
      "application/vnd.jupyter.widget-view+json": {
       "model_id": "6778118da7d14954a85ad8e6ef1b17dc",
       "version_major": 2,
       "version_minor": 0
      },
      "text/plain": [
       "VBox()"
      ]
     },
     "metadata": {},
     "output_type": "display_data"
    },
    {
     "data": {
      "application/vnd.jupyter.widget-view+json": {
       "model_id": "",
       "version_major": 2,
       "version_minor": 0
      },
      "text/plain": [
       "FloatProgress(value=0.0, bar_style='info', description='Progress:', layout=Layout(height='25px', width='50%'),…"
      ]
     },
     "metadata": {},
     "output_type": "display_data"
    },
    {
     "name": "stdout",
     "output_type": "stream",
     "text": [
      "Running time 0.030504941940307617 s"
     ]
    }
   ],
   "source": [
    "t = time.time()\n",
    "\n",
    "predict_test_lr = lr_model.transform(final_test_df)\n",
    "\n",
    "print('Running time', time.time() - t, 's')"
   ]
  },
  {
   "cell_type": "code",
   "execution_count": 94,
   "metadata": {
    "colab": {
     "base_uri": "https://localhost:8080/"
    },
    "id": "9XkCarpkeSwv",
    "outputId": "d3d270bf-080e-4085-fddf-14ab524d7294"
   },
   "outputs": [
    {
     "data": {
      "application/vnd.jupyter.widget-view+json": {
       "model_id": "ba6256b7baf94a04894df3612a7f24fc",
       "version_major": 2,
       "version_minor": 0
      },
      "text/plain": [
       "VBox()"
      ]
     },
     "metadata": {},
     "output_type": "display_data"
    },
    {
     "data": {
      "application/vnd.jupyter.widget-view+json": {
       "model_id": "",
       "version_major": 2,
       "version_minor": 0
      },
      "text/plain": [
       "FloatProgress(value=0.0, bar_style='info', description='Progress:', layout=Layout(height='25px', width='50%'),…"
      ]
     },
     "metadata": {},
     "output_type": "display_data"
    },
    {
     "name": "stdout",
     "output_type": "stream",
     "text": [
      "+----------+-----+\n",
      "|prediction|count|\n",
      "+----------+-----+\n",
      "|       0.0| 6405|\n",
      "|       1.0| 3595|\n",
      "+----------+-----+\n",
      "\n",
      "Running time 4.16222882270813 s"
     ]
    }
   ],
   "source": [
    "t = time.time()\n",
    "\n",
    "predict_test_lr.groupBy('prediction').count().show()\n",
    "\n",
    "print('Running time', time.time() - t, 's')"
   ]
  },
  {
   "cell_type": "markdown",
   "metadata": {
    "id": "nlPMlMn7eTA0"
   },
   "source": [
    "### Get predictions with a Decision Tree"
   ]
  },
  {
   "cell_type": "code",
   "execution_count": 95,
   "metadata": {
    "id": "6G1u6BAFeTA1"
   },
   "outputs": [
    {
     "data": {
      "application/vnd.jupyter.widget-view+json": {
       "model_id": "5a9c34571a234f8db6fef83b69815c02",
       "version_major": 2,
       "version_minor": 0
      },
      "text/plain": [
       "VBox()"
      ]
     },
     "metadata": {},
     "output_type": "display_data"
    },
    {
     "data": {
      "application/vnd.jupyter.widget-view+json": {
       "model_id": "",
       "version_major": 2,
       "version_minor": 0
      },
      "text/plain": [
       "FloatProgress(value=0.0, bar_style='info', description='Progress:', layout=Layout(height='25px', width='50%'),…"
      ]
     },
     "metadata": {},
     "output_type": "display_data"
    },
    {
     "name": "stdout",
     "output_type": "stream",
     "text": [
      "Running time 0.07989835739135742 s"
     ]
    }
   ],
   "source": [
    "t = time.time()\n",
    "\n",
    "predict_test_dt = dt_model.transform(final_test_df)\n",
    "\n",
    "print('Running time', time.time() - t, 's')"
   ]
  },
  {
   "cell_type": "code",
   "execution_count": 96,
   "metadata": {
    "colab": {
     "base_uri": "https://localhost:8080/"
    },
    "id": "teKkatUueTA1",
    "outputId": "c98cb2b8-e6ec-40ba-f69f-9f0b95d8f698"
   },
   "outputs": [
    {
     "data": {
      "application/vnd.jupyter.widget-view+json": {
       "model_id": "ead7f4add8724e29a80ef31b4dfcac5b",
       "version_major": 2,
       "version_minor": 0
      },
      "text/plain": [
       "VBox()"
      ]
     },
     "metadata": {},
     "output_type": "display_data"
    },
    {
     "data": {
      "application/vnd.jupyter.widget-view+json": {
       "model_id": "",
       "version_major": 2,
       "version_minor": 0
      },
      "text/plain": [
       "FloatProgress(value=0.0, bar_style='info', description='Progress:', layout=Layout(height='25px', width='50%'),…"
      ]
     },
     "metadata": {},
     "output_type": "display_data"
    },
    {
     "name": "stdout",
     "output_type": "stream",
     "text": [
      "+----------+-----+\n",
      "|prediction|count|\n",
      "+----------+-----+\n",
      "|       0.0| 6322|\n",
      "|       1.0| 3678|\n",
      "+----------+-----+\n",
      "\n",
      "Running time 2.706415891647339 s"
     ]
    }
   ],
   "source": [
    "t = time.time()\n",
    "\n",
    "predict_test_dt.groupBy('prediction').count().show()\n",
    "\n",
    "print('Running time', time.time() - t, 's')"
   ]
  },
  {
   "cell_type": "markdown",
   "metadata": {
    "id": "ujV9BZijekbo"
   },
   "source": [
    "### Get predictions with a Decision Gradient-Boosted Tree"
   ]
  },
  {
   "cell_type": "code",
   "execution_count": 97,
   "metadata": {
    "id": "Psng6btIekbp"
   },
   "outputs": [
    {
     "data": {
      "application/vnd.jupyter.widget-view+json": {
       "model_id": "9537bc17b4e1412ba904d0d01a861bfc",
       "version_major": 2,
       "version_minor": 0
      },
      "text/plain": [
       "VBox()"
      ]
     },
     "metadata": {},
     "output_type": "display_data"
    },
    {
     "data": {
      "application/vnd.jupyter.widget-view+json": {
       "model_id": "",
       "version_major": 2,
       "version_minor": 0
      },
      "text/plain": [
       "FloatProgress(value=0.0, bar_style='info', description='Progress:', layout=Layout(height='25px', width='50%'),…"
      ]
     },
     "metadata": {},
     "output_type": "display_data"
    },
    {
     "name": "stdout",
     "output_type": "stream",
     "text": [
      "Running time 0.09026408195495605 s"
     ]
    }
   ],
   "source": [
    "t = time.time()\n",
    "\n",
    "predict_test_gbt = gbt_model.transform(final_test_df)\n",
    "\n",
    "print('Running time', time.time() - t, 's')"
   ]
  },
  {
   "cell_type": "code",
   "execution_count": 98,
   "metadata": {
    "colab": {
     "base_uri": "https://localhost:8080/"
    },
    "id": "vwbD9mnFekbp",
    "outputId": "b34b6326-f8df-4b61-97de-b79f18f55bb8"
   },
   "outputs": [
    {
     "data": {
      "application/vnd.jupyter.widget-view+json": {
       "model_id": "9ffb7f957ee0473a9ae448332ea29c74",
       "version_major": 2,
       "version_minor": 0
      },
      "text/plain": [
       "VBox()"
      ]
     },
     "metadata": {},
     "output_type": "display_data"
    },
    {
     "data": {
      "application/vnd.jupyter.widget-view+json": {
       "model_id": "",
       "version_major": 2,
       "version_minor": 0
      },
      "text/plain": [
       "FloatProgress(value=0.0, bar_style='info', description='Progress:', layout=Layout(height='25px', width='50%'),…"
      ]
     },
     "metadata": {},
     "output_type": "display_data"
    },
    {
     "name": "stdout",
     "output_type": "stream",
     "text": [
      "+----------+-----+\n",
      "|prediction|count|\n",
      "+----------+-----+\n",
      "|       0.0| 6342|\n",
      "|       1.0| 3658|\n",
      "+----------+-----+\n",
      "\n",
      "Running time 3.01958966255188 s"
     ]
    }
   ],
   "source": [
    "t = time.time()\n",
    "\n",
    "predict_test_gbt.groupBy('prediction').count().show()\n",
    "\n",
    "print('Running time', time.time() - t, 's')"
   ]
  },
  {
   "cell_type": "markdown",
   "metadata": {
    "id": "ujV9BZijekbo"
   },
   "source": [
    "### Get predictions with a Multi Layer Perceptron"
   ]
  },
  {
   "cell_type": "code",
   "execution_count": 99,
   "metadata": {},
   "outputs": [
    {
     "data": {
      "application/vnd.jupyter.widget-view+json": {
       "model_id": "1dfa1fe567ed4743adfbb8e6da3c96f1",
       "version_major": 2,
       "version_minor": 0
      },
      "text/plain": [
       "VBox()"
      ]
     },
     "metadata": {},
     "output_type": "display_data"
    },
    {
     "data": {
      "application/vnd.jupyter.widget-view+json": {
       "model_id": "",
       "version_major": 2,
       "version_minor": 0
      },
      "text/plain": [
       "FloatProgress(value=0.0, bar_style='info', description='Progress:', layout=Layout(height='25px', width='50%'),…"
      ]
     },
     "metadata": {},
     "output_type": "display_data"
    },
    {
     "name": "stdout",
     "output_type": "stream",
     "text": [
      "Running time 0.07959890365600586 s"
     ]
    }
   ],
   "source": [
    "t = time.time()\n",
    "\n",
    "predict_test_mlp = mlp_model.transform(final_test_df)\n",
    "\n",
    "print('Running time', time.time() - t, 's')"
   ]
  },
  {
   "cell_type": "code",
   "execution_count": 100,
   "metadata": {},
   "outputs": [
    {
     "data": {
      "application/vnd.jupyter.widget-view+json": {
       "model_id": "21a8970e1c7a42249c9c9ccd9600c555",
       "version_major": 2,
       "version_minor": 0
      },
      "text/plain": [
       "VBox()"
      ]
     },
     "metadata": {},
     "output_type": "display_data"
    },
    {
     "data": {
      "application/vnd.jupyter.widget-view+json": {
       "model_id": "",
       "version_major": 2,
       "version_minor": 0
      },
      "text/plain": [
       "FloatProgress(value=0.0, bar_style='info', description='Progress:', layout=Layout(height='25px', width='50%'),…"
      ]
     },
     "metadata": {},
     "output_type": "display_data"
    },
    {
     "name": "stdout",
     "output_type": "stream",
     "text": [
      "+----------+-----+\n",
      "|prediction|count|\n",
      "+----------+-----+\n",
      "|       0.0| 6546|\n",
      "|       1.0| 3454|\n",
      "+----------+-----+\n",
      "\n",
      "Running time 3.197521924972534 s"
     ]
    }
   ],
   "source": [
    "t = time.time()\n",
    "\n",
    "predict_test_mlp.groupBy('prediction').count().show()\n",
    "\n",
    "print('Running time', time.time() - t, 's')"
   ]
  },
  {
   "cell_type": "markdown",
   "metadata": {},
   "source": [
    "### Set for download"
   ]
  },
  {
   "cell_type": "code",
   "execution_count": 101,
   "metadata": {},
   "outputs": [
    {
     "data": {
      "application/vnd.jupyter.widget-view+json": {
       "model_id": "43978bd3a7bf48c68200c950e1275b25",
       "version_major": 2,
       "version_minor": 0
      },
      "text/plain": [
       "VBox()"
      ]
     },
     "metadata": {},
     "output_type": "display_data"
    },
    {
     "data": {
      "application/vnd.jupyter.widget-view+json": {
       "model_id": "",
       "version_major": 2,
       "version_minor": 0
      },
      "text/plain": [
       "FloatProgress(value=0.0, bar_style='info', description='Progress:', layout=Layout(height='25px', width='50%'),…"
      ]
     },
     "metadata": {},
     "output_type": "display_data"
    },
    {
     "name": "stdout",
     "output_type": "stream",
     "text": [
      "Running time 0.5266449451446533 s"
     ]
    }
   ],
   "source": [
    "t = time.time()\n",
    "\n",
    "\n",
    "w = Window.orderBy(monotonically_increasing_id())\n",
    "test_df =  test_df.withColumn(\"columnindex\", row_number().over(w))\n",
    "\n",
    "predict_test_lr = predict_test_lr.withColumn(\"columnindex\", row_number().over(w))\n",
    "predict_test_lr = test_df.join(predict_test_lr, test_df.columnindex == predict_test_lr.columnindex, 'inner').drop(predict_test_lr.columnindex)\n",
    "predict_test_lr = predict_test_lr.withColumnRenamed(\"prediction\", \"high_fare\")\n",
    "\n",
    "predict_test_dt = predict_test_dt.withColumn(\"columnindex\", row_number().over(w))\n",
    "predict_test_dt = test_df.join(predict_test_dt, test_df.columnindex == predict_test_dt.columnindex, 'inner').drop(predict_test_dt.columnindex)\n",
    "predict_test_dt = predict_test_dt.withColumnRenamed(\"prediction\", \"high_fare\")\n",
    "\n",
    "predict_test_gbt = predict_test_gbt.withColumn(\"columnindex\", row_number().over(w))\n",
    "predict_test_gbt = test_df.join(predict_test_gbt, test_df.columnindex == predict_test_gbt.columnindex, 'inner').drop(predict_test_gbt.columnindex)\n",
    "predict_test_gbt = predict_test_gbt.withColumnRenamed(\"prediction\", \"high_fare\")\n",
    "\n",
    "predict_test_mlp = predict_test_mlp.withColumn(\"columnindex\", row_number().over(w))\n",
    "predict_test_mlp = test_df.join(predict_test_mlp, test_df.columnindex == predict_test_mlp.columnindex, 'inner').drop(predict_test_mlp.columnindex)\n",
    "predict_test_mlp = predict_test_mlp.withColumnRenamed(\"prediction\", \"high_fare\")\n",
    "\n",
    "\n",
    "print('Running time', time.time() - t, 's')"
   ]
  },
  {
   "cell_type": "markdown",
   "metadata": {},
   "source": [
    "### Save predictions file for each model"
   ]
  },
  {
   "cell_type": "code",
   "execution_count": null,
   "metadata": {
    "colab": {
     "base_uri": "https://localhost:8080/",
     "height": 203
    },
    "id": "RLc-FX3UnRKS",
    "outputId": "de5cc84e-5463-41fd-8488-9a2b31c8b52a"
   },
   "outputs": [],
   "source": [
    "t = time.time()\n",
    "\n",
    "\n",
    "predict_test_lr.select(\"key\", \"high_fare\").write.option('header', 'true').option('sep',',').format(\"csv\").save(f\"{S3_BUCKET_URI}/predictions/predict_test_lr\")\n",
    "predict_test_dt.select(\"key\", \"high_fare\").write.option('header', 'true').option('sep',',').format(\"csv\").save(f\"{S3_BUCKET_URI}/predictions/predict_test_dt\")\n",
    "predict_test_gbt.select(\"key\", \"high_fare\").write.option('header', 'true').option('sep',',').format(\"csv\").save(f\"{S3_BUCKET_URI}/predictions/predict_test_gbt\")\n",
    "predict_test_mlp.select(\"key\", \"high_fare\").write.option('header', 'true').option('sep',',').format(\"csv\").save(f\"{S3_BUCKET_URI}/predictions/predict_test_mlp\")\n",
    "\n",
    "\n",
    "print('Running time', time.time() - t, 's')"
   ]
  },
  {
   "cell_type": "markdown",
   "metadata": {},
   "source": [
    "# Release the spark memory"
   ]
  },
  {
   "cell_type": "markdown",
   "metadata": {},
   "source": [
    "Do not forget to release the spark memory at the end, by doing spark.stop(). You will notice in htop the memory is not reclaimed immediately. But if you restart the kernel it will actually go down."
   ]
  },
  {
   "cell_type": "code",
   "execution_count": 103,
   "metadata": {},
   "outputs": [
    {
     "data": {
      "application/vnd.jupyter.widget-view+json": {
       "model_id": "1c367bb22fe34d959f9d3952c516f95f",
       "version_major": 2,
       "version_minor": 0
      },
      "text/plain": [
       "VBox()"
      ]
     },
     "metadata": {},
     "output_type": "display_data"
    },
    {
     "data": {
      "application/vnd.jupyter.widget-view+json": {
       "model_id": "",
       "version_major": 2,
       "version_minor": 0
      },
      "text/plain": [
       "FloatProgress(value=0.0, bar_style='info', description='Progress:', layout=Layout(height='25px', width='50%'),…"
      ]
     },
     "metadata": {},
     "output_type": "display_data"
    }
   ],
   "source": [
    "spark.stop()"
   ]
  }
 ],
 "metadata": {
  "colab": {
   "collapsed_sections": [],
   "name": "Big Data - Final Project - Group 24",
   "provenance": []
  },
  "kernelspec": {
   "display_name": "PySpark",
   "language": "",
   "name": "pysparkkernel"
  },
  "language_info": {
   "codemirror_mode": {
    "name": "python",
    "version": 2
   },
   "mimetype": "text/x-python",
   "name": "pyspark",
   "pygments_lexer": "python2"
  }
 },
 "nbformat": 4,
 "nbformat_minor": 4
}
